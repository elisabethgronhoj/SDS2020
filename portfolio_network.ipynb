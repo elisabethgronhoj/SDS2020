{
 "cells": [
  {
   "cell_type": "markdown",
   "metadata": {
    "id": "fKuJBkbkzUH9"
   },
   "source": [
    "---\n",
    "\n",
    "# Portfolio assignments for Wednesday\n",
    "\n",
    "**Requirement:** Work on solutions for *either* the network analysis case study 1 or case study 2 *and* the exercise for spatial stuff."
   ]
  },
  {
   "cell_type": "markdown",
   "metadata": {
    "id": "yqUNq8XA4Xfb"
   },
   "source": [
    "## Network analysis: Case Study 1: Directed Networks: Friends & Foes at Work\n",
    "\n",
    "> Indented block\n",
    "\n"
   ]
  },
  {
   "cell_type": "markdown",
   "metadata": {
    "id": "xUGY4_tm6gKv"
   },
   "source": [
    "### Introduction to the case\n",
    "\n",
    "* Emmanuel Lazega, The Collegial Phenomenon: The Social Mechanisms of Cooperation Among Peers in a Corporate Law Partnership, Oxford University Press (2001).\n",
    "\n",
    "#### Data \n",
    "This data set comes from a network study of corporate law partnership that was carried out in a Northeastern US corporate law firm, referred to as SG&R, 1988-1991 in New England. It includes (among others) measurements of networks among the 71 attorneys (partners and associates) of this firm, i.e. their strong-coworker network, advice network, friendship network, and indirect control networks. Various members' attributes are also part of the dataset, including seniority, formal status, office in which they work, gender, lawschool attended, individual performance measurements (hours worked, fees brought in), attitudes concerning various management policy options, etc. This dataset was used to identify social processes such as bounded solidarity, lateral control, quality control, knowledge sharing, balancing powers, regulation, etc. among peers.\n",
    "\n",
    "#### Setting\n",
    "* What do corporate lawyers do? Litigation and corporate work.\n",
    "* Division of work and interdependencies.\n",
    "* Three offices, no departments, built-in pressures to grow, intake and assignment rules.\n",
    "* Partners and associates: hierarchy, up or out rule, billing targets.\n",
    "* Partnership agreement (sharing benefits equally, 90% exclusion rule, governance structure, elusive committee system) and incompleteness of the contracts.\n",
    "* Informal, unwritten rules (ex: no moonlighting, no investment in buildings, no nepotism, no borrowing to pay partners, etc.).\n",
    "* Huge incentives to behave opportunistically ; thus the dataset is appropriate for the study of social processes that make cooperation among rival partners possible. \n",
    "* Sociometric name generators used to elicit coworkers, advice, and 'friendship' ties at SG&R:\"Here is the list of all the members of your Firm.\"\n",
    "\n",
    "The networks where created according to the follwoing questionaire:\n",
    "\n",
    "* Strong coworkers network: \"Because most firms like yours are also organized very informally, it is difficult to get a clear idea of how the members really work together. Think back over the past year, consider all the lawyers in your Firm. Would you go through this list and check the names of those with whom you have worked with. By \"worked with\" I mean that you have spent time together on at least one case, that you have been assigned to the same case, that they read or used your work product or that you have read or used their work product; this includes professional work done within the Firm like Bar association work, administration, etc.\"\n",
    "* Basic advice network: \"Think back over the past year, consider all the lawyers in your Firm. To whom did you go for basic professional advice? For instance, you want to make sure that you are handling a case right, making a proper decision, and you want to consult someone whose professional opinions are in general of great value to you. By advice I do not mean simply technical advice.\"\n",
    "* 'Friendship' network:\n",
    "\"Would you go through this list, and check the names of those you socialize with outside work. You know their family, they know yours, for instance. I do not mean all the people you are simply on a friendly level with, or people you happen to meet at Firm functions.\" "
   ]
  },
  {
   "cell_type": "markdown",
   "metadata": {
    "id": "KPy0zvwWzUH9"
   },
   "source": [
    "### Data preperation"
   ]
  },
  {
   "cell_type": "markdown",
   "metadata": {
    "id": "L-i7vabWzUH9"
   },
   "source": [
    "#### Packages"
   ]
  },
  {
   "cell_type": "code",
   "execution_count": null,
   "metadata": {
    "id": "Gq36ksMwzUH9"
   },
   "outputs": [],
   "source": [
    "import numpy as np\n",
    "import pandas as pd\n",
    "import matplotlib.pyplot as plt\n",
    "import seaborn as sb\n",
    "import itertools # Python's amazing iteration & combination library\n",
    "import networkx as nx"
   ]
  },
  {
   "cell_type": "code",
   "execution_count": null,
   "metadata": {
    "colab": {
     "base_uri": "https://localhost:8080/",
     "height": 42
    },
    "id": "BJSymXQ7zUH9",
    "outputId": "f16e1e2e-667d-48dd-c969-7caf0755a92e"
   },
   "outputs": [],
   "source": [
    "# Visualization defaults\n",
    "import holoviews as hv\n",
    "from holoviews import opts\n",
    "hv.extension('bokeh')\n",
    "from bokeh.plotting import show\n",
    "\n",
    "# Setting the default figure size a bit larger\n",
    "defaults = dict(width=750, height=750, padding=0.1,\n",
    "                xaxis=None, yaxis=None)\n",
    "hv.opts.defaults(\n",
    "    opts.EdgePaths(**defaults), opts.Graph(**defaults), opts.Nodes(**defaults))"
   ]
  },
  {
   "cell_type": "markdown",
   "metadata": {
    "id": "if1cPg6k6imS"
   },
   "source": [
    "####  Load the data\n",
    "\n",
    "Lets load the data! The three networks refer to cowork, friendship, and advice. The first 36 respondents are the partners in the firm.\n",
    "\n",
    "(the cell belows reads in the tables, performs some recoding and cleanup and creates network objects for the 3 data sets)."
   ]
  },
  {
   "cell_type": "code",
   "execution_count": null,
   "metadata": {
    "colab": {
     "base_uri": "https://localhost:8080/"
    },
    "id": "71deTXch7iSr",
    "outputId": "f34b80a8-d14a-4023-c635-7f50d731d904"
   },
   "outputs": [],
   "source": [
    "mat_friendship = pd.read_table(\"https://www.dropbox.com/s/0saiulir3pr566k/ELfriend.dat?dl=1\", delim_whitespace=True, header=None) \n",
    "mat_advice = pd.read_table(\"https://www.dropbox.com/s/apq42n1grim23k9/ELadv.dat?dl=1\", delim_whitespace=True, header=None) \n",
    "mat_work = pd.read_table(\"https://www.dropbox.com/s/dliz0sd7or8tv01/ELwork.dat?dl=1\", delim_whitespace=True, header=None)\n",
    "\n",
    "G_friendship = nx.from_pandas_adjacency(mat_friendship, create_using=nx.DiGraph)\n",
    "G_advice = nx.from_pandas_adjacency(mat_advice, create_using=nx.DiGraph)\n",
    "G_work = nx.from_pandas_adjacency(mat_work, create_using=nx.DiGraph)\n",
    "\n",
    "attributes = pd.read_table(\"https://www.dropbox.com/s/qz7fvfgx8lvjgpr/ELattr.dat?dl=1\", delim_whitespace=True, header=None, dtype='int') \n",
    "attributes=attributes.round().astype(int)\n",
    "attributes.columns = [\"id\", \"seniority\", \"gender\", \"office\", \"tenure\", \"age\", \"practice\", \"school\"]\n",
    "attributes.set_index('id',inplace=True)\n",
    "\n",
    "cleanup_nums = {\"seniority\":     {1: \"Partner\", 2: \"Associate\"},\n",
    "                \"gender\":     {1: \"Male\", 2: \"Female\"},\n",
    "                \"office\":     {1: \"Boston\", 2: \"Hartford\", 3:\"Providence\"},\n",
    "                \"practice\":     {1: \"Litigation\", 2: \"Corporate\"},\n",
    "                \"school\":     {1: \"Harvard, Yale\", 2: \"Ucon\", 3: \"Others\"}\n",
    "                } \n",
    "attributes.replace(cleanup_nums, inplace=True)\n",
    "\n",
    "attributes_dict=attributes.T.to_dict()\n",
    "\n",
    "nx.set_node_attributes(G_friendship, attributes_dict)\n",
    "nx.set_node_attributes(G_advice, attributes_dict)\n",
    "nx.set_node_attributes(G_work, attributes_dict)\n",
    "\n",
    "print(nx.get_node_attributes(G_friendship, 'seniority'))"
   ]
  },
  {
   "cell_type": "markdown",
   "metadata": {
    "id": "BWsWIvDeMS3o"
   },
   "source": [
    "#### Calculate dimensional centralities\n",
    "\n",
    "There might be better ways to do that (still experimenting), but for now lets first create centralities upfront for all networks. We for now only look at the in-degree."
   ]
  },
  {
   "cell_type": "code",
   "execution_count": null,
   "metadata": {
    "id": "KgkLkBk1YbXS"
   },
   "outputs": [],
   "source": [
    "cent_degree_friendship = dict(G_friendship.in_degree)\n",
    "cent_degree_advice = dict(G_advice.in_degree)\n",
    "cent_degree_work = dict(G_work.in_degree)"
   ]
  },
  {
   "cell_type": "code",
   "execution_count": null,
   "metadata": {
    "id": "3hJAhy_yY0Xq"
   },
   "outputs": [],
   "source": [
    "nx.set_node_attributes(G_friendship, cent_degree_friendship, 'cent_degree')\n",
    "nx.set_node_attributes(G_advice, cent_degree_advice, 'cent_degree')\n",
    "nx.set_node_attributes(G_work, cent_degree_work, 'cent_degree')"
   ]
  },
  {
   "cell_type": "code",
   "execution_count": null,
   "metadata": {
    "id": "88gPV3VKMxOT"
   },
   "outputs": [],
   "source": [
    "# Create and save a layout.\n",
    "G_layout = nx.layout.kamada_kawai_layout(G_work)"
   ]
  },
  {
   "cell_type": "code",
   "execution_count": null,
   "metadata": {
    "colab": {
     "base_uri": "https://localhost:8080/",
     "height": 767
    },
    "id": "C6a5uk1rM8Yl",
    "outputId": "299c2f0d-453c-42d1-ffb7-29cad081236c"
   },
   "outputs": [],
   "source": [
    "g_plot = hv.Graph.from_networkx(G_friendship, G_layout).opts(tools=['hover'],\n",
    "                                                                        directed=True,\n",
    "                                                                        edge_alpha=0.25,\n",
    "                                                                        node_size='cent_degree',\n",
    "                                                                        #node_color='seniority', cmap='Set1',\n",
    "                                                                        legend_position='right'\n",
    "                                                                        )\n",
    "\n",
    "show(hv.render(g_plot))"
   ]
  },
  {
   "cell_type": "code",
   "execution_count": null,
   "metadata": {
    "colab": {
     "base_uri": "https://localhost:8080/",
     "height": 767
    },
    "id": "HXH5FO3BTEKz",
    "outputId": "cafa210a-d0cb-4026-c575-2cd662b480ad"
   },
   "outputs": [],
   "source": [
    "g_plot = hv.Graph.from_networkx(G_advice, G_layout).opts(tools=['hover'],\n",
    "                                                                        directed=True,\n",
    "                                                                        edge_alpha=0.25,\n",
    "                                                                        node_size='cent_degree',\n",
    "                                                                        #node_color='cent_degree', cmap='Set1',\n",
    "                                                                        legend_position='right')\n",
    "show(hv.render(g_plot))"
   ]
  },
  {
   "cell_type": "code",
   "execution_count": null,
   "metadata": {
    "colab": {
     "base_uri": "https://localhost:8080/",
     "height": 767
    },
    "id": "mBtSaFIEcV6D",
    "outputId": "75a9035c-46ad-4451-fc96-16f5975ee23f"
   },
   "outputs": [],
   "source": [
    "g_plot = hv.Graph.from_networkx(G_work, G_layout).opts(tools=['hover'],\n",
    "                                                                        directed=True,\n",
    "                                                                        edge_alpha=0.25,\n",
    "                                                                        node_size='cent_degree',\n",
    "                                                                        #node_color='seniority', cmap='Set1',\n",
    "                                                                        legend_position='right')\n",
    "show(hv.render(g_plot))"
   ]
  },
  {
   "cell_type": "markdown",
   "metadata": {
    "id": "JvmBMVQm7vnK"
   },
   "source": [
    "#### Assortiativity\n",
    "\n",
    "We can also calculate another interested measure, particularly in social networks: Assortiativity. In a nutshell, it measures if two nodes that share certain characteristics ahve a higher or lower probability to be connected.\n",
    "\n",
    "For details, check:\n",
    "\n",
    "* Newman, M. E. J. (27 February 2003). \"Mixing patterns in networks\". Physical Review E. American Physical Society (APS). 67 (2): 026126"
   ]
  },
  {
   "cell_type": "code",
   "execution_count": null,
   "metadata": {
    "colab": {
     "base_uri": "https://localhost:8080/"
    },
    "id": "HWKHXIc5skJL",
    "outputId": "eb0960cf-4dbd-4738-9104-77105a5380de"
   },
   "outputs": [],
   "source": [
    "nx.attribute_assortativity_coefficient(G_friendship, 'seniority')"
   ]
  },
  {
   "cell_type": "code",
   "execution_count": null,
   "metadata": {
    "colab": {
     "base_uri": "https://localhost:8080/"
    },
    "id": "d4gz_Wbg7UZT",
    "outputId": "de659259-a428-4092-e464-75791673e9de"
   },
   "outputs": [],
   "source": [
    "nx.attribute_assortativity_coefficient(G_friendship, 'school')"
   ]
  },
  {
   "cell_type": "code",
   "execution_count": null,
   "metadata": {
    "colab": {
     "base_uri": "https://localhost:8080/"
    },
    "id": "FK9n01K47d_D",
    "outputId": "379d48f4-9be9-48eb-a9f9-2c6320174239"
   },
   "outputs": [],
   "source": [
    "nx.attribute_assortativity_coefficient(G_friendship, 'office')"
   ]
  },
  {
   "cell_type": "markdown",
   "metadata": {
    "id": "MbOzP1X_71pH"
   },
   "source": [
    "#### Reciprocity\n",
    "\n",
    "Anotyher interesting question usually is, if directed edges are reciptocated, meaning that an edge between `i,j` makes an edge between `j,i` more likely"
   ]
  },
  {
   "cell_type": "code",
   "execution_count": null,
   "metadata": {
    "colab": {
     "base_uri": "https://localhost:8080/"
    },
    "id": "unMN2vQp7_Ka",
    "outputId": "766647de-fed1-4e43-9fd9-b2576adec239"
   },
   "outputs": [],
   "source": [
    "nx.overall_reciprocity(G_friendship)"
   ]
  },
  {
   "cell_type": "markdown",
   "metadata": {
    "id": "hoWJE-KxzUH9"
   },
   "source": [
    "### The assignment\n",
    "\n",
    "Explore the network further.\n",
    "\n",
    "1. Calculate the reciprocity for the work and advise network. Are the numbers diffetrent? Why might that be the case?"
   ]
  },
  {
   "cell_type": "code",
   "execution_count": null,
   "metadata": {
    "colab": {
     "base_uri": "https://localhost:8080/"
    },
    "id": "I_w6U0JczUH9",
    "outputId": "a640be37-6607-4843-8c39-3bb93e30bf3c"
   },
   "outputs": [],
   "source": [
    "nx.overall_reciprocity(G_advice)"
   ]
  },
  {
   "cell_type": "code",
   "execution_count": null,
   "metadata": {
    "colab": {
     "base_uri": "https://localhost:8080/"
    },
    "id": "aLxLTvMO8YsU",
    "outputId": "1ed580bf-d4e7-4b04-a900-f1c7e4b37485"
   },
   "outputs": [],
   "source": [
    "nx.overall_reciprocity(G_work)"
   ]
  },
  {
   "cell_type": "markdown",
   "metadata": {
    "id": "WjKjdRdT9QHy"
   },
   "source": [
    "Interpretation: The number might differ because coworkers are more easy to point out because you see and work together with them almost everyday if you share office. Coworkers from other firms might also be easier to point out because you have a case together which is factual and maybe easier to remember and no so interpretabable as a friendship or a advisers.\n"
   ]
  },
  {
   "cell_type": "markdown",
   "metadata": {
    "id": "PKIgyWVz8U5-"
   },
   "source": [
    "2. Identify communities in the friendship and advice network (hint: works only on undirected networks, so you might have to create an undirected graph)"
   ]
  },
  {
   "cell_type": "code",
   "execution_count": null,
   "metadata": {
    "id": "3uCoqwx5-QGs"
   },
   "outputs": [],
   "source": [
    "# Import libraries\n",
    "import community # `python-louvain` is implemented here"
   ]
  },
  {
   "cell_type": "code",
   "execution_count": null,
   "metadata": {},
   "outputs": [],
   "source": [
    "from importlib import reload\n",
    "reload(community)"
   ]
  },
  {
   "cell_type": "code",
   "execution_count": null,
   "metadata": {
    "colab": {
     "base_uri": "https://localhost:8080/",
     "height": 180
    },
    "id": "ItHsfyI9-QyU",
    "outputId": "64efc98a-6bc7-4617-ecb2-18c1a8d566a3"
   },
   "outputs": [],
   "source": [
    "# Find the optimal partition with the Louvain algorithm.\n",
    "community_work = community.best_partition(G_work)"
   ]
  },
  {
   "cell_type": "code",
   "execution_count": null,
   "metadata": {
    "id": "jHRUHh0ghJsw"
   },
   "outputs": [],
   "source": [
    "# Find the optimal partition with the Louvain algorithm.\n",
    "community_advice = community.best_partition(G_advice)"
   ]
  },
  {
   "cell_type": "code",
   "execution_count": null,
   "metadata": {
    "colab": {
     "base_uri": "https://localhost:8080/",
     "height": 180
    },
    "id": "pxa8CphG-khj",
    "outputId": "da63bdc2-ef83-4f0d-a586-aae0875ca340"
   },
   "outputs": [],
   "source": [
    "# The number of communities detected\n",
    "max(community_work.values())"
   ]
  },
  {
   "cell_type": "markdown",
   "metadata": {
    "id": "8vsbOOCljCyx"
   },
   "source": [
    "#### 3. Visualize these communities (static or dynamic)"
   ]
  },
  {
   "cell_type": "code",
   "execution_count": null,
   "metadata": {
    "id": "yVbTV9kbiUVO"
   },
   "outputs": [],
   "source": [
    "max(community_advice.values())"
   ]
  },
  {
   "cell_type": "code",
   "execution_count": null,
   "metadata": {
    "id": "hT2vsQJY-kno"
   },
   "outputs": [],
   "source": [
    "nx.set_node_attributes(G_work, community_work, 'community work')\n",
    "\n",
    "g_plot_work = hv.Graph.from_networkx(G_work, G_layout).opts(tools=['hover'],\n",
    "                                                  node_size='cent_degree', \n",
    "                                                  node_color='community', cmap=plt.cm.Set1,\n",
    "                                                  legend_position='right')\n",
    "\n",
    "show(hv.render(g_plot_work))"
   ]
  },
  {
   "cell_type": "code",
   "execution_count": null,
   "metadata": {
    "id": "f7czpqX-ixj0"
   },
   "outputs": [],
   "source": [
    "nx.set_node_attributes(G_advice, community_advice, 'community advice')\n",
    "\n",
    "g_plot_advice = hv.Graph.from_networkx(G_advice, G_layout).opts(tools=['hover'],\n",
    "                                                  node_size='cent_degree', \n",
    "                                                  node_color='community', cmap=plt.cm.Set1,\n",
    "                                                  legend_position='right')\n",
    "\n",
    "show(hv.render(g_plot_advice))"
   ]
  }
 ],
 "metadata": {
  "colab": {
   "name": "wednesday_network_portfolio-assignments.ipynb",
   "provenance": []
  },
  "kernelspec": {
   "display_name": "Python 3",
   "language": "python",
   "name": "python3"
  },
  "language_info": {
   "codemirror_mode": {
    "name": "ipython",
    "version": 3
   },
   "file_extension": ".py",
   "mimetype": "text/x-python",
   "name": "python",
   "nbconvert_exporter": "python",
   "pygments_lexer": "ipython3",
   "version": "3.8.5"
  }
 },
 "nbformat": 4,
 "nbformat_minor": 1
}
