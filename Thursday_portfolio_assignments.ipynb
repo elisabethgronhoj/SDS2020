{
 "cells": [
  {
   "cell_type": "markdown",
   "metadata": {
    "id": "Xwi3wsmKDsey"
   },
   "source": [
    "# Portfolio assignments for Thursday\n",
    "\n",
    "**Requirement:** Work on solutions for the \"Trump vs. GPT-2\" assignment\n",
    "\n",
    "## NLP: Trump vs. GPT-2\n",
    "\n",
    "The site [https://faketrump.ai/](https://faketrump.ai/) WAS an interesting example of AI-powered fake-text generation. They wrote in 2019:\n",
    "\n",
    ">We built an artificial intelligence model by fine-tuning [GPT-2](https://openai.com/blog/better-language-models/) to generate tweets in the style of Donald Trump’s Twitter account. After seeing the results, we also built a discriminator that can accurately detect fake tweets 77% of the time — think you can beat our classifier? Try it yourself!\n",
    "\n",
    "Unfortunately, they decided to take down the site and the dataset.\n",
    "\n",
    "GPT-2 is a neural transformer-based model, that has been announced by OpenAI in February 2019 and created considerable discussion because they decided - in contrast to their earlier policies - not to release the mode to the public. Their central argument was that the model could be used to produce fake news, spam and alike too easily. The footnote of the faketrump page reads: “Generating realistic fake text has become much more accessible. We hope to highlight the current state of text generation to demonstrate how difficult it is to discern fiction from reality.”\n",
    "\n",
    "\n",
    "Since then several organizations and researchers have shown that it is [possible to develop systems to detect “fake text”](https://www.theguardian.com/technology/2019/jul/04/ai-fake-text-gpt-2-concerns-false-information). We believe that you too can implement a competitive system.\n",
    "\n",
    "Having no dataset from that project, Roman decided to retrain GPT2 to generate new fake trump tweets. If they can do that, we can do that! However, it seems as if it is easier for ML models to identify our fake tweets...well...they are an AI company and probably spent more time on that...\n",
    "\n",
    "> I’ve just watched Democrats scream over and over again about trying to Impeach the President of the United States. The Impeachment process is a sham.\n",
    "\n",
    "> The Media must understand!“The New York Times is the leader on a very important subject: How to Combat Trump.” @foxandfriendsSo pathetic! @foxandfriendsI don’t think so.\n",
    "\n",
    "> He is going to do it soon, and with proper borders. Border security is my top priority.The Democrats have failed the people of Arizona in everything else they have done, even their very good immigration laws. They have no sense.\n",
    "\n",
    "The data can be found [here](https://github.com/SDS-AAU/SDS-master/raw/e2c959494d53859c1844604bed09a28a21566d0f/M3/assignments/trump_vs_GPT2.gz) and has the following format:\n",
    "\n",
    "\n",
    "<table>\n",
    "  <tr>\n",
    "   <td>0\n",
    "   </td>\n",
    "   <td>1\n",
    "   </td>\n",
    "  </tr>\n",
    "  <tr>\n",
    "   <td>string\n",
    "   </td>\n",
    "   <td>boolean\n",
    "   </td>\n",
    "  </tr>\n",
    "</table>\n",
    "\n",
    "There are 7368 real Trump tweet and 7368 fake ones.\n",
    "\n",
    "you can open it with:\n",
    "\n",
    "\n",
    "\n",
    "```\n",
    "data = pd.read_json('https://github.com/SDS-AAU/SDS-master/raw/e2c959494d53859c1844604bed09a28a21566d0f/M3/assignments/trump_vs_GPT2.gz')\n",
    "```\n",
    "\n",
    "\n",
    "\n",
    "* Split the data and preprocess it, vectorizing the text using different approaches (BoW, TFIDF, LSI)\n",
    "\n",
    "* Create a system that can identify the fake Trump tweets using LogisticRefression or other classifiers (Sklearn - If you like also more complex models with FastAI, Keras neural nets or alike)\n",
    "\n",
    "* Explore a subset (~1000) of the real and fake tweets using LDA and visualize your exploration\n",
    "\n",
    "* Consider exploring using a different approach (LSI + clustering) or perhaps even [CorEx](https://github.com/gregversteeg/corex_topic)"
   ]
  },
  {
   "cell_type": "code",
   "execution_count": 1,
   "metadata": {},
   "outputs": [],
   "source": [
    "import pandas as pd\n",
    "import numpy as np\n",
    "from sklearn.model_selection import train_test_split\n",
    "from sklearn.linear_model import LogisticRegression\n",
    "from sklearn.feature_extraction.text import TfidfVectorizer\n",
    "from sklearn.feature_extraction.text import CountVectorizer\n",
    "from sklearn.ensemble import RandomForestClassifier\n",
    "from sklearn import svm\n",
    "from sklearn.neural_network import MLPClassifier\n",
    "\n",
    "from gensim.corpora.dictionary import Dictionary\n",
    "from gensim.models import LdaMulticore\n",
    "\n",
    "import spacy\n"
   ]
  },
  {
   "cell_type": "code",
   "execution_count": 2,
   "metadata": {
    "id": "MBcpOT0BGCwv"
   },
   "outputs": [],
   "source": [
    "# Load dataset\n",
    "data = pd.read_json('https://github.com/SDS-AAU/SDS-master/raw/e2c959494d53859c1844604bed09a28a21566d0f/M3/assignments/trump_vs_GPT2.gz')\n",
    "results = pd.DataFrame()"
   ]
  },
  {
   "cell_type": "code",
   "execution_count": 3,
   "metadata": {},
   "outputs": [
    {
     "data": {
      "text/html": [
       "<div>\n",
       "<style scoped>\n",
       "    .dataframe tbody tr th:only-of-type {\n",
       "        vertical-align: middle;\n",
       "    }\n",
       "\n",
       "    .dataframe tbody tr th {\n",
       "        vertical-align: top;\n",
       "    }\n",
       "\n",
       "    .dataframe thead th {\n",
       "        text-align: right;\n",
       "    }\n",
       "</style>\n",
       "<table border=\"1\" class=\"dataframe\">\n",
       "  <thead>\n",
       "    <tr style=\"text-align: right;\">\n",
       "      <th></th>\n",
       "      <th>0</th>\n",
       "      <th>1</th>\n",
       "    </tr>\n",
       "  </thead>\n",
       "  <tbody>\n",
       "    <tr>\n",
       "      <th>0</th>\n",
       "      <td>I was thrilled to be back in the Great city of...</td>\n",
       "      <td>True</td>\n",
       "    </tr>\n",
       "    <tr>\n",
       "      <th>1</th>\n",
       "      <td>The Unsolicited Mail In Ballot Scam is a major...</td>\n",
       "      <td>True</td>\n",
       "    </tr>\n",
       "    <tr>\n",
       "      <th>2</th>\n",
       "      <td>As long as I am President, I will always stand...</td>\n",
       "      <td>True</td>\n",
       "    </tr>\n",
       "    <tr>\n",
       "      <th>3</th>\n",
       "      <td>Our Economy is doing great, and is ready to se...</td>\n",
       "      <td>True</td>\n",
       "    </tr>\n",
       "    <tr>\n",
       "      <th>4</th>\n",
       "      <td>If I do not sound like a typical Washington po...</td>\n",
       "      <td>True</td>\n",
       "    </tr>\n",
       "    <tr>\n",
       "      <th>5</th>\n",
       "      <td>...For years, I watched one betrayal after ano...</td>\n",
       "      <td>True</td>\n",
       "    </tr>\n",
       "    <tr>\n",
       "      <th>6</th>\n",
       "      <td>On the 37th anniversary of the horrendous atta...</td>\n",
       "      <td>True</td>\n",
       "    </tr>\n",
       "    <tr>\n",
       "      <th>7</th>\n",
       "      <td>Joe Biden’s response to the H1N1 Swine Flu, fa...</td>\n",
       "      <td>True</td>\n",
       "    </tr>\n",
       "    <tr>\n",
       "      <th>8</th>\n",
       "      <td>Pennsylvania Ballot “mistakes” made, in my opi...</td>\n",
       "      <td>True</td>\n",
       "    </tr>\n",
       "    <tr>\n",
       "      <th>9</th>\n",
       "      <td>Congratulations to for his dogged pursuit, as ...</td>\n",
       "      <td>True</td>\n",
       "    </tr>\n",
       "  </tbody>\n",
       "</table>\n",
       "</div>"
      ],
      "text/plain": [
       "                                                   0     1\n",
       "0  I was thrilled to be back in the Great city of...  True\n",
       "1  The Unsolicited Mail In Ballot Scam is a major...  True\n",
       "2  As long as I am President, I will always stand...  True\n",
       "3  Our Economy is doing great, and is ready to se...  True\n",
       "4  If I do not sound like a typical Washington po...  True\n",
       "5  ...For years, I watched one betrayal after ano...  True\n",
       "6  On the 37th anniversary of the horrendous atta...  True\n",
       "7  Joe Biden’s response to the H1N1 Swine Flu, fa...  True\n",
       "8  Pennsylvania Ballot “mistakes” made, in my opi...  True\n",
       "9  Congratulations to for his dogged pursuit, as ...  True"
      ]
     },
     "execution_count": 3,
     "metadata": {},
     "output_type": "execute_result"
    }
   ],
   "source": [
    "data.head(10)"
   ]
  },
  {
   "cell_type": "markdown",
   "metadata": {},
   "source": [
    "## Split the data and preprocess it, vectorizing the text using different approaches (BoW, TFIDF, LSI)"
   ]
  },
  {
   "cell_type": "code",
   "execution_count": 4,
   "metadata": {},
   "outputs": [],
   "source": [
    "# Splitting the data\n",
    "X_train, X_test, y_train, y_test = train_test_split(data[0].values, data[1].values, test_size=0.2, random_state=18)"
   ]
  },
  {
   "cell_type": "markdown",
   "metadata": {},
   "source": [
    "# Create a system that can identify the fake Trump tweets using LogisticRefression or other classifiers (Sklearn - If you like also more complex models with FastAI, Keras neural nets or alike)"
   ]
  },
  {
   "cell_type": "markdown",
   "metadata": {},
   "source": [
    "## Approach TFIDF using Logistic Regression"
   ]
  },
  {
   "cell_type": "code",
   "execution_count": 5,
   "metadata": {},
   "outputs": [],
   "source": [
    "# vectorizing\n",
    "TfidfVectorizer_concrete =TfidfVectorizer()\n",
    "X_train_TFIDF_vectors = TfidfVectorizer_concrete.fit_transform(X_train)\n",
    "X_test_TFIDF_vectors = TfidfVectorizer_concrete.transform(X_test)\n",
    "# Transform the test-set"
   ]
  },
  {
   "cell_type": "code",
   "execution_count": 6,
   "metadata": {},
   "outputs": [],
   "source": [
    "model = LogisticRegression(max_iter=2000)"
   ]
  },
  {
   "cell_type": "code",
   "execution_count": 7,
   "metadata": {},
   "outputs": [
    {
     "data": {
      "text/plain": [
       "LogisticRegression(max_iter=2000)"
      ]
     },
     "execution_count": 7,
     "metadata": {},
     "output_type": "execute_result"
    }
   ],
   "source": [
    "# training the model with the TFIDF vectors\n",
    "model.fit(X_train_TFIDF_vectors, y_train)"
   ]
  },
  {
   "cell_type": "code",
   "execution_count": 8,
   "metadata": {},
   "outputs": [
    {
     "data": {
      "text/plain": [
       "0.8171641791044776"
      ]
     },
     "execution_count": 8,
     "metadata": {},
     "output_type": "execute_result"
    }
   ],
   "source": [
    "score = model.score(X_test_TFIDF_vectors, y_test)\n",
    "score"
   ]
  },
  {
   "cell_type": "code",
   "execution_count": 9,
   "metadata": {},
   "outputs": [],
   "source": [
    "# Check performance of the model\n",
    "results = results.append({'TDIDF logit': score}, ignore_index=True)"
   ]
  },
  {
   "cell_type": "code",
   "execution_count": 10,
   "metadata": {},
   "outputs": [
    {
     "data": {
      "text/html": [
       "<div>\n",
       "<style scoped>\n",
       "    .dataframe tbody tr th:only-of-type {\n",
       "        vertical-align: middle;\n",
       "    }\n",
       "\n",
       "    .dataframe tbody tr th {\n",
       "        vertical-align: top;\n",
       "    }\n",
       "\n",
       "    .dataframe thead th {\n",
       "        text-align: right;\n",
       "    }\n",
       "</style>\n",
       "<table border=\"1\" class=\"dataframe\">\n",
       "  <thead>\n",
       "    <tr style=\"text-align: right;\">\n",
       "      <th></th>\n",
       "      <th>TDIDF logit</th>\n",
       "    </tr>\n",
       "  </thead>\n",
       "  <tbody>\n",
       "    <tr>\n",
       "      <th>0</th>\n",
       "      <td>0.817164</td>\n",
       "    </tr>\n",
       "  </tbody>\n",
       "</table>\n",
       "</div>"
      ],
      "text/plain": [
       "   TDIDF logit\n",
       "0     0.817164"
      ]
     },
     "execution_count": 10,
     "metadata": {},
     "output_type": "execute_result"
    }
   ],
   "source": [
    "results"
   ]
  },
  {
   "cell_type": "markdown",
   "metadata": {},
   "source": [
    "## Approach BoW using Logistic Regression"
   ]
  },
  {
   "cell_type": "code",
   "execution_count": 11,
   "metadata": {},
   "outputs": [],
   "source": [
    "vectorizer = CountVectorizer()\n",
    "X_train_BoW_vec = vectorizer.fit_transform(X_train)\n",
    "X_test_BoW_vec = vectorizer.transform(X_test)"
   ]
  },
  {
   "cell_type": "code",
   "execution_count": 12,
   "metadata": {},
   "outputs": [
    {
     "data": {
      "text/plain": [
       "LogisticRegression(max_iter=2000)"
      ]
     },
     "execution_count": 12,
     "metadata": {},
     "output_type": "execute_result"
    }
   ],
   "source": [
    "# training the model with the BoW vectors\n",
    "model.fit(X_train_BoW_vec, y_train)"
   ]
  },
  {
   "cell_type": "code",
   "execution_count": 13,
   "metadata": {},
   "outputs": [
    {
     "data": {
      "text/plain": [
       "0.8063093622795116"
      ]
     },
     "execution_count": 13,
     "metadata": {},
     "output_type": "execute_result"
    }
   ],
   "source": [
    "score = model.score(X_test_BoW_vec, y_test)\n",
    "score"
   ]
  },
  {
   "cell_type": "code",
   "execution_count": 14,
   "metadata": {},
   "outputs": [],
   "source": [
    "results = results.append({'BoW logit': score}, ignore_index=True)"
   ]
  },
  {
   "cell_type": "markdown",
   "metadata": {},
   "source": [
    "So far: TDIDF performs better than using BoW when using a logistic regression classifier"
   ]
  },
  {
   "cell_type": "markdown",
   "metadata": {},
   "source": [
    "# Alternatives models\n",
    "I will now try to use TFIDF approaches with another classifier than logistic regression"
   ]
  },
  {
   "cell_type": "markdown",
   "metadata": {},
   "source": [
    "## TFIDF with RandomForest"
   ]
  },
  {
   "cell_type": "code",
   "execution_count": 15,
   "metadata": {},
   "outputs": [],
   "source": [
    "model = RandomForestClassifier()"
   ]
  },
  {
   "cell_type": "code",
   "execution_count": 16,
   "metadata": {},
   "outputs": [
    {
     "data": {
      "text/plain": [
       "RandomForestClassifier()"
      ]
     },
     "execution_count": 16,
     "metadata": {},
     "output_type": "execute_result"
    }
   ],
   "source": [
    "# training the RandomForrestClassifier model\n",
    "model.fit(X_train_TFIDF_vectors, y_train)"
   ]
  },
  {
   "cell_type": "code",
   "execution_count": 17,
   "metadata": {},
   "outputs": [
    {
     "data": {
      "text/plain": [
       "0.8497286295793759"
      ]
     },
     "execution_count": 17,
     "metadata": {},
     "output_type": "execute_result"
    }
   ],
   "source": [
    "# Check performance of the model\n",
    "score = model.score(X_test_TFIDF_vectors, y_test)\n",
    "score"
   ]
  },
  {
   "cell_type": "code",
   "execution_count": 18,
   "metadata": {},
   "outputs": [],
   "source": [
    "results = results.append({'Random Forest': score}, ignore_index=True)"
   ]
  },
  {
   "cell_type": "markdown",
   "metadata": {},
   "source": [
    "We perform better with RandomForest! Lets try another one."
   ]
  },
  {
   "cell_type": "markdown",
   "metadata": {},
   "source": [
    "## TFIDF with SVM"
   ]
  },
  {
   "cell_type": "code",
   "execution_count": 19,
   "metadata": {},
   "outputs": [],
   "source": [
    "model = svm.SVC(kernel='linear')"
   ]
  },
  {
   "cell_type": "code",
   "execution_count": 20,
   "metadata": {},
   "outputs": [
    {
     "data": {
      "text/plain": [
       "SVC(kernel='linear')"
      ]
     },
     "execution_count": 20,
     "metadata": {},
     "output_type": "execute_result"
    }
   ],
   "source": [
    "# training the RandomForrestClassifier model\n",
    "model.fit(X_train_TFIDF_vectors, y_train)"
   ]
  },
  {
   "cell_type": "code",
   "execution_count": 21,
   "metadata": {},
   "outputs": [
    {
     "data": {
      "text/plain": [
       "0.8110583446404342"
      ]
     },
     "execution_count": 21,
     "metadata": {},
     "output_type": "execute_result"
    }
   ],
   "source": [
    "# Check performance of the model\n",
    "score = model.score(X_test_TFIDF_vectors, y_test)\n",
    "score"
   ]
  },
  {
   "cell_type": "code",
   "execution_count": 22,
   "metadata": {},
   "outputs": [],
   "source": [
    "results = results.append({'Linear SVM': score}, ignore_index=True)"
   ]
  },
  {
   "cell_type": "code",
   "execution_count": 23,
   "metadata": {},
   "outputs": [],
   "source": [
    "model = svm.SVC(kernel='rbf')"
   ]
  },
  {
   "cell_type": "code",
   "execution_count": 24,
   "metadata": {},
   "outputs": [
    {
     "data": {
      "text/plain": [
       "SVC()"
      ]
     },
     "execution_count": 24,
     "metadata": {},
     "output_type": "execute_result"
    }
   ],
   "source": [
    "model.fit(X_train_TFIDF_vectors, y_train)"
   ]
  },
  {
   "cell_type": "code",
   "execution_count": 25,
   "metadata": {},
   "outputs": [
    {
     "data": {
      "text/plain": [
       "0.85719131614654"
      ]
     },
     "execution_count": 25,
     "metadata": {},
     "output_type": "execute_result"
    }
   ],
   "source": [
    "score = model.score(X_test_TFIDF_vectors, y_test)\n",
    "score"
   ]
  },
  {
   "cell_type": "code",
   "execution_count": 26,
   "metadata": {},
   "outputs": [],
   "source": [
    "results = results.append({'Kernel SVM': score}, ignore_index=True)"
   ]
  },
  {
   "cell_type": "markdown",
   "metadata": {},
   "source": [
    "The non-linear (rbf) SVM performs slightly better than RandomForest"
   ]
  },
  {
   "cell_type": "markdown",
   "metadata": {},
   "source": [
    "## TFIDF with Neural network"
   ]
  },
  {
   "cell_type": "code",
   "execution_count": 27,
   "metadata": {},
   "outputs": [],
   "source": [
    "model = MLPClassifier(solver='adam', alpha=1e-06, hidden_layer_sizes=(6, 1), random_state=1)"
   ]
  },
  {
   "cell_type": "code",
   "execution_count": 28,
   "metadata": {},
   "outputs": [
    {
     "data": {
      "text/plain": [
       "MLPClassifier(alpha=1e-06, hidden_layer_sizes=(6, 1), random_state=1)"
      ]
     },
     "execution_count": 28,
     "metadata": {},
     "output_type": "execute_result"
    }
   ],
   "source": [
    "# training the Neural Network model\n",
    "model.fit(X_train_TFIDF_vectors, y_train)"
   ]
  },
  {
   "cell_type": "code",
   "execution_count": 29,
   "metadata": {},
   "outputs": [
    {
     "data": {
      "text/plain": [
       "0.7818860244233379"
      ]
     },
     "execution_count": 29,
     "metadata": {},
     "output_type": "execute_result"
    }
   ],
   "source": [
    "# Check performance of the model\n",
    "score = model.score(X_test_TFIDF_vectors, y_test)\n",
    "score"
   ]
  },
  {
   "cell_type": "code",
   "execution_count": 30,
   "metadata": {},
   "outputs": [],
   "source": [
    "results = results.append({'MLP': score}, ignore_index=True)"
   ]
  },
  {
   "cell_type": "code",
   "execution_count": 31,
   "metadata": {},
   "outputs": [
    {
     "data": {
      "text/plain": [
       "<AxesSubplot:>"
      ]
     },
     "execution_count": 31,
     "metadata": {},
     "output_type": "execute_result"
    },
    {
     "data": {
      "image/png": "[encoded data removed]",
      "text/plain": [
       "<Figure size 432x288 with 1 Axes>"
      ]
     },
     "metadata": {
      "needs_background": "light"
     },
     "output_type": "display_data"
    }
   ],
   "source": [
    "results.T.plot(kind='bar', legend = False)"
   ]
  },
  {
   "cell_type": "markdown",
   "metadata": {},
   "source": [
    "# Explore a subset (~1000) of the real and fake tweets using LDA and visualize your exploration"
   ]
  },
  {
   "cell_type": "code",
   "execution_count": 32,
   "metadata": {},
   "outputs": [],
   "source": [
    "import en_core_web_sm\n",
    "nlp = en_core_web_sm.load()"
   ]
  },
  {
   "cell_type": "code",
   "execution_count": 33,
   "metadata": {},
   "outputs": [
    {
     "name": "stdout",
     "output_type": "stream",
     "text": [
      "<class 'pandas.core.frame.DataFrame'>\n",
      "Int64Index: 14736 entries, 0 to 14735\n",
      "Data columns (total 2 columns):\n",
      " #   Column  Non-Null Count  Dtype \n",
      "---  ------  --------------  ----- \n",
      " 0   0       14736 non-null  object\n",
      " 1   1       14736 non-null  bool  \n",
      "dtypes: bool(1), object(1)\n",
      "memory usage: 244.6+ KB\n"
     ]
    }
   ],
   "source": [
    "data.info()"
   ]
  },
  {
   "cell_type": "code",
   "execution_count": 34,
   "metadata": {},
   "outputs": [],
   "source": [
    "# reindex\n",
    "data.index = range(len(data))"
   ]
  },
  {
   "cell_type": "code",
   "execution_count": 35,
   "metadata": {},
   "outputs": [],
   "source": [
    "tokens = []\n",
    "\n",
    "for text in nlp.pipe(data[0]):\n",
    "  proj_tok = [token.lemma_.lower() for token in text if token.pos_ in ['NOUN', 'PROPN', 'ADJ', 'ADV'] and not token.is_stop] \n",
    "  tokens.append(proj_tok)"
   ]
  },
  {
   "cell_type": "code",
   "execution_count": 36,
   "metadata": {},
   "outputs": [],
   "source": [
    "# Create a Dictionary from the articles: dictionary\n",
    "dictionary = Dictionary(tokens)"
   ]
  },
  {
   "cell_type": "code",
   "execution_count": 37,
   "metadata": {},
   "outputs": [],
   "source": [
    "# filter out low-frequency / high-frequency stuff, also limit the vocabulary to max 1000 words\n",
    "dictionary.filter_extremes(no_below=5, no_above=0.5, keep_n=1000)"
   ]
  },
  {
   "cell_type": "code",
   "execution_count": 38,
   "metadata": {},
   "outputs": [],
   "source": [
    "# construct corpus using this dictionary\n",
    "corpus = [dictionary.doc2bow(doc) for doc in tokens]"
   ]
  },
  {
   "cell_type": "code",
   "execution_count": 39,
   "metadata": {},
   "outputs": [
    {
     "data": {
      "text/plain": [
       "[(5, 1), (23, 1), (24, 1), (25, 1), (26, 1), (27, 1)]"
      ]
     },
     "execution_count": 39,
     "metadata": {},
     "output_type": "execute_result"
    }
   ],
   "source": [
    "# That's how the corpus looks\n",
    "corpus[3][:10]"
   ]
  },
  {
   "cell_type": "code",
   "execution_count": 40,
   "metadata": {},
   "outputs": [],
   "source": [
    "import pyLDAvis.gensim\n",
    "pyLDAvis.enable_notebook()\n",
    "lda_model = LdaMulticore(corpus, id2word=dictionary, num_topics=10, workers = 4, passes=10)"
   ]
  },
  {
   "cell_type": "code",
   "execution_count": 41,
   "metadata": {},
   "outputs": [
    {
     "name": "stderr",
     "output_type": "stream",
     "text": [
      "C:\\Users\\au589116\\Anaconda3\\envs\\ICILS\\lib\\site-packages\\ipykernel\\ipkernel.py:287: DeprecationWarning: `should_run_async` will not call `transform_cell` automatically in the future. Please pass the result to `transformed_cell` argument and any exception that happen during thetransform in `preprocessing_exc_tuple` in IPython 7.17 and above.\n",
      "  and should_run_async(code)\n"
     ]
    },
    {
     "data": {
      "text/plain": [
       "[(0,\n",
       "  '0.049*\"border\" + 0.031*\"wall\" + 0.027*\"democrats\" + 0.022*\"hillary\" + 0.021*\"fbi\" + 0.020*\"security\" + 0.020*\"clinton\" + 0.019*\"crime\" + 0.019*\"illegal\" + 0.016*\"campaign\"'),\n",
       " (1,\n",
       "  '0.046*\"house\" + 0.041*\"big\" + 0.034*\"white\" + 0.033*\"great\" + 0.029*\"new\" + 0.023*\"@foxnews\" + 0.019*\"p.m.\" + 0.018*\"tonight\" + 0.017*\"york\" + 0.016*\"night\"'),\n",
       " (2,\n",
       "  '0.060*\"great\" + 0.032*\"people\" + 0.031*\"witch\" + 0.031*\"state\" + 0.029*\"hunt\" + 0.019*\"american\" + 0.017*\"governor\" + 0.016*\"court\" + 0.015*\"minister\" + 0.014*\"prime\"'),\n",
       " (3,\n",
       "  '0.034*\"people\" + 0.029*\"country\" + 0.026*\"job\" + 0.024*\"trump\" + 0.023*\"great\" + 0.022*\"president\" + 0.017*\"high\" + 0.016*\"u.s.\" + 0.014*\"federal\" + 0.014*\"donald\"'),\n",
       " (4,\n",
       "  '0.058*\"democrats\" + 0.047*\"amp\" + 0.041*\"radical\" + 0.036*\"left\" + 0.026*\"biden\" + 0.026*\"joe\" + 0.021*\"democrat\" + 0.021*\"party\" + 0.021*\"republicans\" + 0.017*\"impeachment\"'),\n",
       " (5,\n",
       "  '0.089*\"great\" + 0.036*\"#\" + 0.023*\"maga\" + 0.022*\"trump2016\" + 0.020*\"people\" + 0.020*\"military\" + 0.018*\"america\" + 0.017*\"amp\" + 0.014*\"total\" + 0.014*\"job\"'),\n",
       " (6,\n",
       "  '0.060*\"president\" + 0.042*\"trump\" + 0.033*\"administration\" + 0.026*\"obama\" + 0.017*\"great\" + 0.016*\"big\" + 0.015*\"country\" + 0.015*\"amp\" + 0.014*\"market\" + 0.013*\"democrats\"'),\n",
       " (7,\n",
       "  '0.061*\"united\" + 0.056*\"states\" + 0.035*\"china\" + 0.029*\"president\" + 0.028*\"trade\" + 0.024*\"year\" + 0.021*\"deal\" + 0.020*\"tax\" + 0.020*\"great\" + 0.019*\"country\"'),\n",
       " (8,\n",
       "  '0.114*\"news\" + 0.114*\"fake\" + 0.043*\"media\" + 0.028*\"story\" + 0.019*\"amp\" + 0.014*\"corrupt\" + 0.014*\"totally\" + 0.013*\"trump\" + 0.011*\"people\" + 0.011*\"president\"'),\n",
       " (9,\n",
       "  '0.043*\"great\" + 0.028*\"country\" + 0.027*\"north\" + 0.024*\"people\" + 0.023*\"korea\" + 0.022*\"life\" + 0.018*\"amp\" + 0.018*\"american\" + 0.017*\"man\" + 0.016*\"u.s.\"')]"
      ]
     },
     "execution_count": 41,
     "metadata": {},
     "output_type": "execute_result"
    }
   ],
   "source": [
    "lda_model.print_topics(-1)"
   ]
  },
  {
   "cell_type": "code",
   "execution_count": 42,
   "metadata": {},
   "outputs": [
    {
     "name": "stderr",
     "output_type": "stream",
     "text": [
      "C:\\Users\\au589116\\Anaconda3\\envs\\ICILS\\lib\\site-packages\\ipykernel\\ipkernel.py:287: DeprecationWarning: `should_run_async` will not call `transform_cell` automatically in the future. Please pass the result to `transformed_cell` argument and any exception that happen during thetransform in `preprocessing_exc_tuple` in IPython 7.17 and above.\n",
      "  and should_run_async(code)\n"
     ]
    }
   ],
   "source": [
    "# Let's try to visualize\n",
    "lda_display = pyLDAvis.gensim.prepare(lda_model, corpus, dictionary)"
   ]
  },
  {
   "cell_type": "code",
   "execution_count": 43,
   "metadata": {},
   "outputs": [
    {
     "name": "stderr",
     "output_type": "stream",
     "text": [
      "C:\\Users\\au589116\\Anaconda3\\envs\\ICILS\\lib\\site-packages\\ipykernel\\ipkernel.py:287: DeprecationWarning: `should_run_async` will not call `transform_cell` automatically in the future. Please pass the result to `transformed_cell` argument and any exception that happen during thetransform in `preprocessing_exc_tuple` in IPython 7.17 and above.\n",
      "  and should_run_async(code)\n"
     ]
    },
    {
     "data": {
      "text/html": [
       "\n",
       "<link rel=\"stylesheet\" type=\"text/css\" href=\"https://cdn.rawgit.com/bmabey/pyLDAvis/files/ldavis.v1.0.0.css\">\n",
       "\n",
       "\n",
       "<div id=\"ldavis_el2854017695593088806613979657\"></div>\n",
       "<script type=\"text/javascript\">\n",
       "\n",
       "var ldavis_el2854017695593088806613979657_data = {\"mdsDat\": {\"x\": [0.19114575595029185, -0.20026053006835542, 0.08231932566363803, -0.15138087206025036, -0.188284088184028, 0.13799887262564425, 0.06201692193339014, -0.05252577970194601, 0.07258507281853564, 0.046385321023079865], \"y\": [-0.14903388777667667, -0.034423006266246316, 0.19154036318933426, -0.04785820915770971, -0.03497673185081556, 0.06234477195140593, -0.07993809721956026, 0.1223234738741353, -0.1463569017692384, 0.11637822502537126], \"topics\": [1, 2, 3, 4, 5, 6, 7, 8, 9, 10], \"cluster\": [1, 1, 1, 1, 1, 1, 1, 1, 1, 1], \"Freq\": [15.393932247770689, 11.357558652326887, 10.89099670603354, 10.7058650653696, 9.731985457711561, 8.7845857131482, 8.598914722612369, 8.429900310881637, 8.13774237331336, 7.968518750832159]}, \"tinfo\": {\"Term\": [\"fake\", \"news\", \"united\", \"states\", \"great\", \"border\", \"radical\", \"media\", \"president\", \"democrats\", \"left\", \"house\", \"#\", \"trump\", \"white\", \"administration\", \"china\", \"trade\", \"wall\", \"trump2016\", \"witch\", \"state\", \"hunt\", \"story\", \"joe\", \"north\", \"biden\", \"hillary\", \"obama\", \"big\", \"vets\", \"vet\", \"trump2016\", \"endorsement\", \"votetrump\", \"\\ud83c\\uddf8\", \"2a\", \"maine\", \"mississippi\", \"makeamericagreatagain\", \"patriot\", \"kag2020\", \"#\", \"americafirst\", \"advocate\", \"condolence\", \"champion\", \"amendment\", \"veterans\", \"steve\", \"prayer\", \"second\", \"fighter\", \"maga\", \"thought\", \"missouri\", \"veteran\", \"victim\", \"heart\", \"https\", \"complete\", \"iowa\", \"pennsylvania\", \"minnesota\", \"wisconsin\", \"family\", \"incredible\", \"military\", \"great\", \"virginia\", \"amazing\", \"wonderful\", \"strong\", \"support\", \"america\", \"total\", \"florida\", \"honor\", \"state\", \"congressman\", \"job\", \"people\", \"amp\", \"new\", \"today\", \"country\", \"american\", \"probe\", \"patrol\", \"mccabe\", \"comey\", \"clinton\", \"stone\", \"hillary\", \"crooked\", \"immigrant\", \"agents\", \"sanders\", \"alien\", \"server\", \"testimony\", \"clapper\", \"daca\", \"department\", \"agent\", \"investigation\", \"journal\", \"classified\", \"southern\", \"document\", \"lawyer\", \"obstruction\", \"james\", \"homeland\", \"illegal\", \"fbi\", \"podesta\", \"border\", \"wall\", \"immigration\", \"collusion\", \"director\", \"security\", \"evidence\", \"street\", \"criminal\", \"case\", \"justice\", \"bernie\", \"crime\", \"campaign\", \"russia\", \"law\", \"democrats\", \"mueller\", \"trump\", \"amp\", \"people\", \"country\", \"cut\", \"european\", \"states\", \"united\", \"cuts\", \"joint\", \"xi\", \"productive\", \"tax\", \"trade\", \"player\", \"chief\", \"canada\", \"ukrainian\", \"nfl\", \"nations\", \"premium\", \"nato\", \"staff\", \"chinese\", \"union\", \"nasty\", \"virus\", \"payment\", \"relationship\", \"call\", \"tariff\", \"ukraine\", \"china\", \"likewise\", \"tariffs\", \"deal\", \"%\", \"phone\", \"business\", \"year\", \"meeting\", \"president\", \"u.s.\", \"world\", \"massive\", \"country\", \"big\", \"dollar\", \"today\", \"great\", \"amp\", \"good\", \"economy\", \"new\", \"time\", \"left\", \"radical\", \"replace\", \"sleepy\", \"joe\", \"repeal\", \"anarchist\", \"biden\", \"republicans\", \"pelosi\", \"nancy\", \"rule\", \"vicious\", \"liberal\", \"simple\", \"hatred\", \"majority\", \"hate\", \"bipartisan\", \"party\", \"impeachment\", \"democrat\", \"taxis\", \"face\", \"violence\", \"away\", \"hand\", \"legislation\", \"gun\", \"gang\", \"crazy\", \"democrats\", \"government\", \"dems\", \"city\", \"quickly\", \"vote\", \"federal\", \"hoax\", \"amp\", \"republican\", \"congress\", \"senate\", \"healthcare\", \"agenda\", \"bad\", \"people\", \"law\", \"country\", \"house\", \"american\", \"time\", \"way\", \"media\", \"fake\", \"news\", \"rating\", \"coverage\", \"cnn\", \"biased\", \"inaccurate\", \"nbc\", \"mainstream\", \"false\", \"lamestream\", \"dishonest\", \"post\", \"legal\", \"story\", \"reporting\", \"abc\", \"amazon\", \"source\", \"medium\", \"@cnn\", \"lie\", \"overtime\", \"approval\", \"credibility\", \"@nytime\", \"joke\", \"poll\", \"opposite\", \"reporter\", \"corrupt\", \"phony\", \"totally\", \"loser\", \"hoax\", \"real\", \"bad\", \"report\", \"amp\", \"fact\", \"washington\", \"trump\", \"president\", \"mueller\", \"people\", \"total\", \"impeachment\", \"big\", \"new\", \"democrats\", \"good\", \"great\", \"country\", \"warren\", \"coast\", \"elizabeth\", \"response\", \"lincoln\", \"korean\", \"talent\", \"vietnam\", \"nuclear\", \"plant\", \"worth\", \"bolton\", \"cryin\", \"weapon\", \"korea\", \"chuck\", \"missile\", \"life\", \"testing\", \"agreement\", \"guard\", \"date\", \"june\", \"threat\", \"pocahontas\", \"hero\", \"kelly\", \"brave\", \"young\", \"damage\", \"mexico\", \"north\", \"iran\", \"woman\", \"man\", \"schumer\", \"national\", \"war\", \"nation\", \"long\", \"country\", \"usa\", \"great\", \"american\", \"u.s.\", \"people\", \"time\", \"john\", \"good\", \"amp\", \"deal\", \"big\", \"hard\", \"history\", \"year\", \"military\", \"president\", \"abe\", \"cuomo\", \"scott\", \"rick\", \"nominee\", \"prime\", \"faith\", \"brett\", \"minister\", \"student\", \"kavanaugh\", \"supreme\", \"fire\", \"adam\", \"hunt\", \"cruz\", \"hundred\", \"ted\", \"witch\", \"court\", \"current\", \"rigged\", \"ballot\", \"rep.\", \"schiff\", \"congresswoman\", \"portland\", \"dream\", \"kurds\", \"louisiana\", \"japan\", \"governor\", \"carolina\", \"state\", \"texas\", \"politician\", \"judge\", \"great\", \"israel\", \"people\", \"american\", \"north\", \"new\", \"honor\", \"election\", \"history\", \"book\", \"congratulation\", \"vote\", \"@whitehouse\", \"good\", \"today\", \"country\", \"u.s.\", \"job\", \"republican\", \"big\", \"stock\", \"medal\", \"market\", \"reagan\", \"ronald\", \"sessions\", \"agricultural\", \"mcconnell\", \"rico\", \"flynn\", \"administration\", \"puerto\", \"mitch\", \"previous\", \"amount\", \"correct\", \"obama\", \"attorney\", \"opinion\", \"freedom\", \"counsel\", \"politically\", \"presidential\", \"jeff\", \"part\", \"team\", \"general\", \"impeach\", \"danger\", \"pro\", \"twitter\", \"product\", \"price\", \"president\", \"trump\", \"smart\", \"record\", \"candidate\", \"report\", \"mueller\", \"right\", \"drug\", \"election\", \"economy\", \"office\", \"big\", \"history\", \"year\", \"country\", \"job\", \"democrats\", \"amp\", \"great\", \"good\", \"money\", \"thing\", \"people\", \"america\", \"@flotus\", \"eastern\", \"white\", \"mini\", \"enthusiasm\", \"vegas\", \"performance\", \"las\", \"bloomberg\", \"camp\", \"@seanhannity\", \"a.m.\", \"p.m.\", \"@foxnews\", \"crowd\", \"prior\", \"debate\", \"house\", \"don\", \"win\", \"david\", \"shooting\", \"failing\", \"matt\", \"night\", \"primary\", \"live\", \"progress\", \"senators\", \"pence\", \"york\", \"times\", \"tonight\", \"melania\", \"mike\", \"tomorrow\", \"rally\", \"big\", \"morning\", \"new\", \"@foxandfriend\", \"today\", \"great\", \"republican\", \"day\", \"time\", \"trump\", \"amp\", \"good\", \"middle\", \"aid\", \"quantitative\", \"saudi\", \"east\", \"fairness\", \"arabia\", \"germany\", \"sanction\", \"j.\", \"troop\", \"oil\", \"private\", \"strange\", \"standard\", \"reserve\", \"inflation\", \"enemy\", \"prison\", \"un\", \"jong\", \"boring\", \"rate\", \"interest\", \"syria\", \"turkey\", \"luther\", \"fortune\", \"need\", \"donald\", \"kim\", \"isis\", \"high\", \"official\", \"federal\", \"fed\", \"energy\", \"job\", \"foreign\", \"people\", \"trump\", \"future\", \"country\", \"world\", \"u.s.\", \"president\", \"company\", \"economy\", \"great\", \"american\", \"government\", \"strong\", \"amp\", \"russia\", \"good\", \"year\", \"low\", \"state\"], \"Freq\": [1397.0, 1409.0, 855.0, 793.0, 4047.0, 808.0, 556.0, 526.0, 1633.0, 1573.0, 489.0, 630.0, 738.0, 1195.0, 355.0, 377.0, 664.0, 408.0, 513.0, 437.0, 433.0, 716.0, 386.0, 383.0, 365.0, 478.0, 387.0, 328.0, 349.0, 1296.0, 165.88928301147723, 105.73647674368735, 429.274934887156, 248.9024244709102, 44.84349513238433, 141.8730010579148, 47.340176945225956, 32.068548372643804, 25.58612314766821, 146.3833208292393, 42.36972995985723, 59.735521654785586, 682.215401721553, 76.81309664763579, 34.18720382171495, 27.574721976068446, 34.442467252051365, 259.37365967052386, 31.59974818779105, 49.309784958235035, 109.054318825096, 242.65488588175683, 53.70926657302465, 446.954082847515, 73.57849812392595, 25.435029104752967, 41.37013771233944, 42.19717667496456, 40.48195497506911, 23.767144952682923, 241.50701841842908, 97.95668355368271, 140.79824901499066, 59.049303527501905, 85.99100129966577, 183.44332236359, 201.8172542932201, 375.77287330895035, 1714.4983660953585, 86.46569803338014, 78.03438306302692, 190.99263682239078, 268.32471904386574, 161.03090170038521, 348.235695520978, 274.9268004664634, 138.76921128847403, 163.75411633285339, 252.8775822164088, 99.34326974003758, 274.4839834844293, 376.0796188333787, 320.64402487267074, 217.828406508987, 164.43225962524636, 208.7264561911199, 164.27504808027598, 38.193361195141954, 69.81604760820387, 45.839207545796675, 143.65947760912093, 276.868463960522, 23.208545860992153, 314.1203613230556, 201.39346366482891, 33.69883492992594, 28.08867897947646, 51.098739658379394, 32.66264608230281, 20.67670590147317, 36.89330704650667, 21.529611412061772, 109.33444258689008, 102.99224995520096, 32.769655083897725, 132.79782518342267, 46.32140177183068, 20.22576009545681, 123.09458233187911, 38.57215916308732, 89.11680540105792, 97.87177059472921, 94.77414437449235, 21.356366035106692, 263.2106995524849, 301.98849857885324, 22.300991429944805, 687.1187068214766, 433.56497275339734, 170.59789791706626, 219.90003702557092, 67.78141106207521, 281.21714011483306, 65.17540118197579, 72.55220188017316, 74.09967461963794, 133.0589570504237, 151.04482111192658, 69.11862015349797, 265.86443584907755, 222.95260439744592, 205.59685286150724, 181.37592702178776, 383.5506390599387, 126.6288268826318, 176.1282079547447, 216.74938218551804, 164.67179980775154, 142.69267187926476, 132.03265033758464, 48.79105289030005, 764.6851102558602, 823.4047456957128, 84.02493801872505, 21.583458250749416, 80.0998190718675, 40.47895325993719, 275.18168874876363, 385.09767655433524, 36.37678378758977, 51.87917356240309, 44.589428291681706, 67.30717963149814, 25.34426449486544, 46.66412544900068, 21.5254724983275, 56.748501976399844, 43.60766064282783, 38.18442720922228, 59.64626427993342, 17.38073940257553, 55.175309022311005, 17.11659577068542, 58.93038822005189, 25.13371856414924, 79.7793507994349, 101.43969389774382, 471.5231422993352, 21.732678836244297, 80.56974320134445, 280.3537216437068, 147.32046298526717, 47.28399808467251, 87.36715196424625, 329.57745628250666, 132.09637892641857, 388.03538133515184, 231.36155736972435, 148.41893163866857, 94.38042947929534, 258.258912522731, 198.9716189411501, 83.58756031325814, 128.5766533863307, 271.5642039323654, 190.18563819806903, 135.82294131756032, 105.91094600805951, 122.81313834201978, 108.74785350947069, 485.1212202543874, 549.4706135856485, 30.07345000734039, 136.82080780062773, 343.23903293195184, 36.95035094684714, 22.45595319292339, 352.53236582111316, 274.04403554876063, 165.52602315693395, 136.24473187417104, 28.927416780356822, 31.189361962179404, 22.99761611697273, 23.60842168705687, 15.458705307331506, 29.05549194524066, 15.264740829733233, 21.285181594537164, 274.27770435190035, 223.05230730419908, 280.3650883479896, 59.721973705942155, 20.4629962797486, 24.638216543002546, 79.62043438997686, 28.706959987342533, 27.69521057661754, 20.77981755075024, 23.410045962656845, 66.34876533346885, 774.3401683126287, 123.50958342621124, 190.95903089269686, 68.50165244956843, 53.24107917707049, 181.96791031785241, 128.46811042934513, 135.03184699350996, 627.0881929199965, 185.49832333176846, 130.89443896929103, 102.29585720034596, 65.91178182376048, 60.49763914814263, 127.85135541908113, 165.21223791645457, 85.15426744679696, 133.4844523940806, 84.15710215815125, 81.59200405132852, 77.46700712120769, 72.10597945810075, 521.4426078748094, 1382.1460652882681, 1382.1633129533395, 104.75410016959536, 39.280527193879315, 66.98874028076314, 26.906625595143897, 24.375711349742396, 30.164947134030864, 22.608488834588105, 76.4487910912002, 40.609421409316404, 126.8913315480988, 82.67843211916735, 36.668169090227664, 337.0129866344322, 49.727699238766995, 18.503354067006633, 33.859308383568795, 64.86688240612182, 116.86017758695087, 45.36217467685249, 84.70957607996961, 59.562057115695765, 55.55102681653178, 26.791005285375512, 49.764610145038844, 18.63190307074172, 136.07035152261832, 20.281148960627863, 32.34833165159614, 174.80182334183434, 103.46788489501878, 166.5017795970975, 40.316846038417346, 118.06454546661085, 87.15778506229653, 130.82756928917186, 76.32425911155364, 228.75377262411462, 93.77111891166822, 78.26996617646242, 151.99124447347307, 138.4325027834111, 81.16191875125392, 138.61777973006133, 91.70752834533741, 81.46880979703961, 108.67893729435815, 96.59378734496228, 93.99693012878397, 86.63140393319088, 97.39250775101625, 82.48135948534463, 29.6564473960132, 42.58787076513846, 29.50055740927769, 29.038572848587396, 21.866797969936158, 23.383661032534782, 23.002846248271183, 31.750737667812572, 67.49473489584352, 31.994351433194883, 23.630155706005294, 24.97678792197754, 15.743132350713683, 26.119912383043797, 249.08395520574746, 48.21467398636058, 21.12021993623936, 236.41651828360435, 45.23283986785902, 38.840300956236874, 90.19264810339442, 20.21539318822997, 22.855621910798327, 28.78865216151951, 16.860750204228044, 53.47026545027977, 26.47969984965214, 79.23596623568523, 35.507454550935854, 20.40243060564852, 160.087258400591, 298.0414195066827, 96.33504981407822, 128.0883015900102, 183.2002821894873, 53.18931705196311, 162.92296858152605, 74.0269176122502, 111.31361182845937, 150.14778416855106, 306.7269371009758, 81.18278763669922, 473.38922758654974, 194.16144716792613, 179.6866033995731, 262.4585417121645, 158.24486291291376, 76.27358270441752, 138.22409531645667, 194.91163461520472, 94.56658489788809, 118.61275799627275, 79.34250634328653, 77.30235472799167, 81.27799260637612, 76.89528317929556, 69.64166096316417, 36.43752227683746, 34.951530285536165, 35.63364781927469, 28.063881332711095, 20.53146075057573, 154.2852614356716, 32.23897292679121, 25.795597615101588, 158.76299997056483, 22.637499976187303, 35.107035160784896, 118.49586688290745, 20.274852897245264, 70.64938523426281, 312.57445861927755, 21.481651963623705, 18.315609156832494, 23.183466280702735, 332.50507368514917, 172.8920392404186, 19.013583365641885, 32.1149719574345, 56.36003633833689, 23.07023423651798, 84.97189114962302, 14.862744916999976, 28.845098410547642, 24.538388559220028, 23.73894235150801, 53.019355674748674, 73.9610678428036, 177.23595287329073, 147.75918805934242, 327.87872946832766, 106.33025774507648, 58.565359618456924, 41.4780699246593, 640.3898361888395, 54.23143946835609, 342.34580178365775, 200.65726553998047, 106.44285896312822, 150.10468439695654, 80.61064849847234, 99.06680098031177, 92.83708124376908, 67.5494756960056, 64.00386879439178, 79.96365027731704, 55.28546765495953, 93.86763671410283, 78.57250661052167, 100.94346135174554, 81.5201102851059, 84.39975927419893, 71.69209844461473, 77.80002634995823, 119.81745810538608, 32.030597664245, 143.43404784257748, 25.441741495163242, 23.837113976884964, 26.396825067026008, 24.072284915584735, 50.01752379971632, 68.98034981024416, 24.999507493576864, 343.3888271749012, 71.38385551765937, 49.428698144908694, 23.413437675374556, 23.781651092964566, 43.06206750098583, 277.4623336624584, 48.78359318470735, 30.75527399166405, 64.89683937205825, 28.184025448367244, 16.12800532763787, 138.30311754164768, 49.74029248888706, 23.368356054918674, 80.47852673776534, 104.74044142896827, 22.161489567312373, 17.94523241969212, 27.02645957362082, 30.61953781078702, 46.90261188646483, 60.508256184177775, 631.3866546290643, 438.12007822612105, 65.97561568587888, 90.48199727644925, 59.33028221697426, 92.12957491960039, 115.29861902687756, 101.47715102388177, 68.46886909034218, 124.64470895075245, 116.80440332624491, 63.6242240677181, 166.5737789968369, 102.66268300065259, 124.93203064434168, 156.57940153564016, 126.91615970704753, 141.6637038758469, 153.06084009073103, 180.53640480594265, 102.80229596134001, 77.81610787078131, 85.70165888891454, 102.69615139230697, 75.23424095958013, 72.66811147780142, 55.792048932599656, 346.23258744866376, 36.341925205351636, 41.93291565697316, 28.3132241712042, 22.720072270926288, 27.117829800537447, 25.655852829482857, 21.484691100116386, 108.01267678681734, 33.70969132273126, 189.7640166804712, 232.7007128689264, 68.1964045601526, 22.63371343039525, 85.23620863937616, 467.01652813211575, 19.506613990167114, 136.19980780097862, 27.608976533819373, 24.104149782927074, 52.74572301743349, 16.188813899214978, 162.90306183864868, 57.5709211768057, 47.39393838965898, 55.472390497464986, 33.81857547862678, 35.581260454510975, 168.93622191840808, 88.5941559873586, 181.67185494745382, 82.76968424730535, 78.41933464886827, 117.28226171914007, 84.80288065765258, 417.3001886702929, 72.02949778624344, 289.572919811294, 89.0627561683351, 141.01983830472037, 335.4623813917432, 112.24186727749151, 83.88897486025837, 76.18343399684176, 83.16966551242189, 89.87250656868466, 60.61712438964639, 63.8819912288864, 30.3138957866524, 37.55030923663121, 27.486728040937937, 62.290543823081094, 32.71725489720289, 24.274100541957964, 38.99942422543672, 25.436004425277968, 86.70985115747307, 46.563158333282516, 32.83265044216723, 21.45852503221895, 25.251935799702416, 26.62133077144094, 79.7018835473701, 27.475295235754253, 77.77353808323572, 17.65313153884976, 57.10777226542899, 51.281787576044216, 19.053210006230305, 108.30337941145278, 89.56306157643435, 65.58416216427985, 32.967108364408325, 26.872429647295125, 18.624767480444692, 16.97965197318397, 137.2867605442377, 59.72785327618232, 62.60758466076575, 164.57873347536918, 47.27233884334869, 139.80586872020385, 54.81168235064498, 71.00986003676456, 262.1506553090867, 54.76036412042476, 335.8677195078285, 241.8479896536476, 76.0599482062057, 287.7130398298228, 127.96001301391341, 159.61883692224572, 216.97856067167618, 65.5575811232869, 100.89696421503308, 227.34647907471864, 122.58281445040312, 75.73611885161934, 93.86420858269678, 115.02051753027443, 75.22732205148644, 85.15982340925117, 77.19498915640818, 67.61205251784904, 73.4058968838496], \"Total\": [1397.0, 1409.0, 855.0, 793.0, 4047.0, 808.0, 556.0, 526.0, 1633.0, 1573.0, 489.0, 630.0, 738.0, 1195.0, 355.0, 377.0, 664.0, 408.0, 513.0, 437.0, 433.0, 716.0, 386.0, 383.0, 365.0, 478.0, 387.0, 328.0, 349.0, 1296.0, 167.5811692212934, 106.89974534166035, 437.5052720753504, 256.52849157333276, 46.262705476235105, 147.0990601308782, 49.115693562370076, 33.34310742350498, 26.707983503288308, 152.98300765765387, 44.4378624841913, 62.7342392627408, 738.2178604776094, 83.4247096568516, 37.74717994567481, 30.5421426945146, 38.543475767532136, 291.1966937346974, 35.855796936515404, 56.645172310486856, 126.1985050067981, 281.8318479905083, 62.91394465047539, 524.7855863048688, 87.902215715222, 30.490885895694372, 49.96227529699142, 50.99167641587361, 49.15712068551058, 29.156920723626932, 297.2089829850295, 122.84036532879892, 180.79386061798036, 73.48771396271509, 112.8393742087001, 265.814270033831, 298.18387416172254, 641.2789576015282, 4047.0990281335135, 115.91643965268156, 102.57170048951258, 323.8023076236283, 505.6452758797631, 261.4997949340624, 716.8834312366876, 568.4927990445121, 242.94141162350093, 316.6987606108742, 716.4572143696989, 154.24489840543305, 1061.5704444080898, 1971.9044758104826, 2196.358396725028, 1006.3381491193086, 604.989461771698, 1729.3738406659209, 895.45562077578, 39.13488473827932, 71.61808148239746, 47.096465380755596, 148.32372063441446, 287.6395423621455, 24.183019846366545, 328.1786921848026, 211.13327672659312, 35.3957696989855, 29.53936012318249, 53.80345081785588, 34.398010913993666, 21.920402292090102, 39.452702759804616, 23.114503624420504, 118.32477650149762, 113.11085263518902, 36.268105523943944, 148.95660805006506, 52.100386540517036, 22.77944149022499, 139.48022554403445, 43.737432727361735, 101.17737685197822, 111.95492582539238, 109.06249432310123, 24.57911784571509, 303.28157509414746, 349.06996434759367, 25.882282232042776, 808.4315368712585, 513.1024922605404, 203.8628784110795, 270.0208334710038, 79.60345551942945, 374.88456683403706, 77.17006050267746, 87.59472990010852, 90.10281515673306, 178.55851779001145, 224.87105270815243, 86.35269407729957, 489.71178650963327, 406.3593923917391, 379.78188481434995, 390.3197290986511, 1573.1052437488436, 343.1317637313649, 1195.5857125943476, 2196.358396725028, 1971.9044758104826, 1729.3738406659209, 133.82139713358094, 50.333776789131484, 793.3890522460711, 855.5246778910533, 87.32766144856367, 22.541033266680657, 83.8766440907961, 42.74728597695927, 291.2700926697393, 408.31954780708827, 38.58929389256822, 55.123564661169915, 49.66896870704841, 76.03218159741786, 28.832678322562284, 55.11280631220449, 25.87938420072062, 68.937530830592, 53.963926453635686, 47.32138148950613, 75.07354658398661, 22.30378713218128, 71.63163172767345, 22.742907267432994, 79.17792583371751, 34.077839157261046, 108.35281629958047, 141.336609806273, 664.2549022552764, 30.69882795125249, 116.34801083804463, 487.43115903680933, 264.9220147313338, 70.84876840395947, 149.90345635520836, 787.4847282322106, 255.62405782638544, 1633.6406823477782, 787.139991885321, 452.8983245892857, 209.06671369415716, 1729.3738406659209, 1296.6877653057206, 208.95986814291518, 604.989461771698, 4047.0990281335135, 2196.358396725028, 870.7851511977968, 478.85232558965834, 1006.3381491193086, 745.9296675372148, 489.244741021286, 556.3059348716062, 31.40033631226637, 143.51054250603102, 365.5974433136693, 39.36773685299445, 23.928096150048738, 387.7456412837615, 346.5493771080043, 213.43819991867522, 177.96316933159216, 39.67217483818632, 44.41768270471485, 35.627907139738404, 36.622001230454096, 24.02643220527387, 45.18449793843768, 24.607017398319222, 35.37749649756804, 460.0193435127068, 378.1066467754848, 476.62017145616454, 102.5538143714377, 35.16953851985499, 42.662745258354505, 139.1097341413175, 50.54558562631393, 51.06994567095088, 38.3448971859534, 43.207604405600925, 124.79768707833031, 1573.1052437488436, 238.36189200721424, 384.01906155538626, 130.04058937016953, 100.65899091155384, 406.59469705995906, 274.2151657620389, 319.9682996969068, 2196.358396725028, 551.6015602718853, 352.13295596278397, 325.14769598518365, 164.0320088976566, 151.95375278085925, 643.8910786557433, 1971.9044758104826, 390.3197290986511, 1729.3738406659209, 630.7949419251643, 895.45562077578, 745.9296675372148, 549.0530342955279, 526.2954662503394, 1397.5294980158744, 1409.0574907209716, 107.41107302090695, 40.46147284169637, 69.9284227602298, 28.09616674036422, 25.47283621850981, 31.659774044892824, 23.735372786056367, 82.9701621314808, 44.364101883724814, 138.79620621375702, 92.06758003310871, 41.5885794242512, 383.6756123306191, 57.42795052369046, 21.525885272919542, 39.442171756029815, 77.15554283997498, 150.83903603130344, 59.85061994267152, 112.40765044811351, 81.33533174632578, 76.85181703933432, 37.34997683197829, 71.53874473213486, 27.10406210939328, 198.32129010440582, 30.900825780739567, 49.72087500864701, 295.64090409272353, 182.75639121278215, 356.27187165064834, 66.49150172626022, 319.9682996969068, 214.00529072293608, 643.8910786557433, 229.5467896609683, 2196.358396725028, 354.72275076191147, 245.67511711668908, 1195.5857125943476, 1633.6406823477782, 343.1317637313649, 1971.9044758104826, 568.4927990445121, 378.1066467754848, 1296.6877653057206, 1006.3381491193086, 1573.1052437488436, 870.7851511977968, 4047.0990281335135, 1729.3738406659209, 30.637006268320402, 44.124403472420795, 30.632093069339106, 30.23142450472592, 22.872307511190726, 24.581837266485095, 24.246745244943213, 33.5868943060526, 72.14847736857888, 35.175502811200815, 26.45714586654387, 28.489843498040845, 18.267289919341433, 30.97018800627173, 297.4978047569806, 58.1763338069602, 25.543978502767377, 289.1258916581863, 55.44865747562198, 47.77634470112484, 111.65089085308749, 25.383922352104392, 29.902448941505323, 38.59568276391351, 22.891055506521717, 72.78182906925001, 37.11319114536002, 111.87533678945506, 50.174113505438825, 29.014506263278935, 228.7329986637747, 478.74531106698794, 150.60588327589082, 207.5547596986766, 355.25642292147563, 81.85554038753983, 371.81962136833, 144.2132758835635, 265.8056533792401, 455.49939118795, 1729.3738406659209, 203.2663490387254, 4047.0990281335135, 895.45562077578, 787.139991885321, 1971.9044758104826, 745.9296675372148, 234.02230269698387, 870.7851511977968, 2196.358396725028, 487.43115903680933, 1296.6877653057206, 449.7294717225263, 448.3217746729082, 787.4847282322106, 641.2789576015282, 1633.6406823477782, 37.7763518426312, 36.807713418710044, 38.208045066929664, 30.121500047290862, 22.399391252838377, 168.71071267546364, 36.01646385526208, 28.942256276747013, 178.47801321602464, 25.507972197243195, 39.69928803212094, 137.01311090743428, 24.09103915464239, 84.38742405484787, 386.99720768882656, 26.831824504675122, 23.494274715134043, 29.810847598384395, 433.40706842693425, 229.3881170454973, 26.276725352078405, 44.92149516573675, 79.36739382889225, 32.74325710879909, 122.1322122029171, 21.885932701480275, 43.532737477954626, 37.892191816978695, 37.38026293100655, 83.57195488924017, 121.67212652782122, 302.50608436466086, 260.0728625292309, 716.4572143696989, 201.67845299872002, 110.75192915453228, 71.32970479839022, 4047.0990281335135, 106.12058262117598, 1971.9044758104826, 895.45562077578, 478.74531106698794, 1006.3381491193086, 316.6987606108742, 517.8124002932489, 448.3217746729082, 220.86775597886972, 211.4644967006138, 406.59469705995906, 148.93854823647595, 870.7851511977968, 604.989461771698, 1729.3738406659209, 787.139991885321, 1061.5704444080898, 551.6015602718853, 1296.6877653057206, 121.96628362214396, 33.046641206710824, 148.11138254304, 26.39911478020678, 24.800460771855104, 27.52345238167557, 25.11077483439895, 52.39798251631812, 73.41884737968347, 26.709868172777288, 377.6097213604589, 78.52884106137688, 55.34093592047337, 26.296965548175876, 28.0363884519977, 51.879197344533516, 349.42712859593655, 62.903476748394894, 40.12457788557793, 86.1040623947685, 38.022709515901546, 21.976191977118273, 190.3278713689054, 68.60303295411573, 32.37795264124678, 112.91578888424677, 153.79424278830578, 32.67482478003256, 26.768099693956028, 40.807517131442, 46.28543233975147, 74.11720388581917, 102.90177177872407, 1633.6406823477782, 1195.5857125943476, 122.47556687667024, 189.22789252723672, 114.46003152494107, 229.5467896609683, 343.1317637313649, 308.8292180424549, 166.45329489084608, 517.8124002932489, 478.85232558965834, 154.05358739072693, 1296.6877653057206, 448.3217746729082, 787.4847282322106, 1729.3738406659209, 1061.5704444080898, 1573.1052437488436, 2196.358396725028, 4047.0990281335135, 870.7851511977968, 296.6512569520417, 472.78018383564444, 1971.9044758104826, 716.8834312366876, 73.80331157562101, 57.00046512315968, 355.8654576766638, 37.48041869029416, 43.27988195677017, 29.418113097916986, 23.60736575989164, 28.216598156792607, 26.720493316564035, 22.73046951937399, 118.41293223532445, 38.19437352207977, 220.78429059072863, 289.64757616448213, 87.48126814389317, 29.252223600888765, 111.59524365556831, 630.7949419251643, 26.474689426417406, 191.1776586751562, 38.997953914137724, 34.92792442009474, 77.17399803356898, 23.72402261908715, 247.48928809941333, 87.59102920069377, 72.19909895189055, 85.4721856742804, 52.31770464241968, 55.090858020391806, 266.7104351999161, 140.7090193883318, 308.288112951061, 137.53687486552494, 131.68590321510064, 214.31437207601417, 152.8214662056632, 1296.6877653057206, 127.43311539622408, 1006.3381491193086, 182.28465187929154, 604.989461771698, 4047.0990281335135, 551.6015602718853, 497.9374811146907, 745.9296675372148, 1195.5857125943476, 2196.358396725028, 870.7851511977968, 65.10869438094988, 31.23065819600171, 38.7895147266787, 28.421110472429387, 64.46166954167212, 33.894611998304406, 25.197816468970085, 40.52284467944899, 26.46272890835678, 90.71863585017763, 48.73602574297835, 34.74712372279628, 22.7465602493398, 27.161358754475575, 28.645177962169136, 89.63274605377936, 32.050038692113056, 92.07644146518, 22.57652459242367, 73.07697076374325, 66.10777111108368, 24.57904871213818, 140.5696124347798, 117.75253250194959, 86.72353101142838, 43.964051606460025, 35.97851437141715, 25.152101705551814, 22.94105383692068, 191.4466999510493, 84.06332319663767, 93.57849844339134, 283.24554857482497, 69.29617760470651, 274.2151657620389, 90.77218211401362, 131.76429884886755, 1061.5704444080898, 94.61046683094128, 1971.9044758104826, 1195.5857125943476, 170.57069588304657, 1729.3738406659209, 452.8983245892857, 787.139991885321, 1633.6406823477782, 150.9962723407335, 478.85232558965834, 4047.0990281335135, 895.45562077578, 238.36189200721424, 505.6452758797631, 2196.358396725028, 379.78188481434995, 870.7851511977968, 787.4847282322106, 218.57820845924573, 716.4572143696989], \"Category\": [\"Default\", \"Default\", \"Default\", \"Default\", \"Default\", \"Default\", \"Default\", \"Default\", \"Default\", \"Default\", \"Default\", \"Default\", \"Default\", \"Default\", \"Default\", \"Default\", \"Default\", \"Default\", \"Default\", \"Default\", \"Default\", \"Default\", \"Default\", \"Default\", \"Default\", \"Default\", \"Default\", \"Default\", \"Default\", \"Default\", \"Topic1\", \"Topic1\", \"Topic1\", \"Topic1\", \"Topic1\", \"Topic1\", \"Topic1\", \"Topic1\", \"Topic1\", \"Topic1\", \"Topic1\", \"Topic1\", \"Topic1\", \"Topic1\", \"Topic1\", \"Topic1\", \"Topic1\", \"Topic1\", \"Topic1\", \"Topic1\", \"Topic1\", \"Topic1\", \"Topic1\", \"Topic1\", \"Topic1\", \"Topic1\", \"Topic1\", \"Topic1\", \"Topic1\", \"Topic1\", \"Topic1\", \"Topic1\", \"Topic1\", \"Topic1\", \"Topic1\", \"Topic1\", \"Topic1\", \"Topic1\", \"Topic1\", \"Topic1\", \"Topic1\", \"Topic1\", \"Topic1\", \"Topic1\", \"Topic1\", \"Topic1\", \"Topic1\", \"Topic1\", \"Topic1\", \"Topic1\", \"Topic1\", \"Topic1\", \"Topic1\", \"Topic1\", \"Topic1\", \"Topic1\", \"Topic1\", \"Topic2\", \"Topic2\", \"Topic2\", \"Topic2\", \"Topic2\", \"Topic2\", \"Topic2\", \"Topic2\", \"Topic2\", \"Topic2\", \"Topic2\", \"Topic2\", \"Topic2\", \"Topic2\", \"Topic2\", \"Topic2\", \"Topic2\", \"Topic2\", \"Topic2\", \"Topic2\", \"Topic2\", \"Topic2\", \"Topic2\", \"Topic2\", \"Topic2\", \"Topic2\", \"Topic2\", \"Topic2\", \"Topic2\", \"Topic2\", \"Topic2\", \"Topic2\", \"Topic2\", \"Topic2\", \"Topic2\", \"Topic2\", \"Topic2\", \"Topic2\", \"Topic2\", \"Topic2\", \"Topic2\", \"Topic2\", \"Topic2\", \"Topic2\", \"Topic2\", \"Topic2\", \"Topic2\", \"Topic2\", \"Topic2\", \"Topic2\", \"Topic2\", \"Topic2\", \"Topic3\", \"Topic3\", \"Topic3\", \"Topic3\", \"Topic3\", \"Topic3\", \"Topic3\", \"Topic3\", \"Topic3\", \"Topic3\", \"Topic3\", \"Topic3\", \"Topic3\", \"Topic3\", \"Topic3\", \"Topic3\", \"Topic3\", \"Topic3\", \"Topic3\", \"Topic3\", \"Topic3\", \"Topic3\", \"Topic3\", \"Topic3\", \"Topic3\", \"Topic3\", \"Topic3\", \"Topic3\", \"Topic3\", \"Topic3\", \"Topic3\", \"Topic3\", \"Topic3\", \"Topic3\", \"Topic3\", \"Topic3\", \"Topic3\", \"Topic3\", \"Topic3\", \"Topic3\", \"Topic3\", \"Topic3\", \"Topic3\", \"Topic3\", \"Topic3\", \"Topic3\", \"Topic3\", \"Topic3\", \"Topic3\", \"Topic3\", \"Topic3\", \"Topic4\", \"Topic4\", \"Topic4\", \"Topic4\", \"Topic4\", \"Topic4\", \"Topic4\", \"Topic4\", \"Topic4\", \"Topic4\", \"Topic4\", \"Topic4\", \"Topic4\", \"Topic4\", \"Topic4\", \"Topic4\", \"Topic4\", \"Topic4\", \"Topic4\", \"Topic4\", \"Topic4\", \"Topic4\", \"Topic4\", \"Topic4\", \"Topic4\", \"Topic4\", \"Topic4\", \"Topic4\", \"Topic4\", \"Topic4\", \"Topic4\", \"Topic4\", \"Topic4\", \"Topic4\", \"Topic4\", \"Topic4\", \"Topic4\", \"Topic4\", \"Topic4\", \"Topic4\", \"Topic4\", \"Topic4\", \"Topic4\", \"Topic4\", \"Topic4\", \"Topic4\", \"Topic4\", \"Topic4\", \"Topic4\", \"Topic4\", \"Topic4\", \"Topic4\", \"Topic4\", \"Topic5\", \"Topic5\", \"Topic5\", \"Topic5\", \"Topic5\", \"Topic5\", \"Topic5\", \"Topic5\", \"Topic5\", \"Topic5\", \"Topic5\", \"Topic5\", \"Topic5\", \"Topic5\", \"Topic5\", \"Topic5\", \"Topic5\", \"Topic5\", \"Topic5\", \"Topic5\", \"Topic5\", \"Topic5\", \"Topic5\", \"Topic5\", \"Topic5\", \"Topic5\", \"Topic5\", \"Topic5\", \"Topic5\", \"Topic5\", \"Topic5\", \"Topic5\", \"Topic5\", \"Topic5\", \"Topic5\", \"Topic5\", \"Topic5\", \"Topic5\", \"Topic5\", \"Topic5\", \"Topic5\", \"Topic5\", \"Topic5\", \"Topic5\", \"Topic5\", \"Topic5\", \"Topic5\", \"Topic5\", \"Topic5\", \"Topic5\", \"Topic5\", \"Topic5\", \"Topic5\", \"Topic5\", \"Topic6\", \"Topic6\", \"Topic6\", \"Topic6\", \"Topic6\", \"Topic6\", \"Topic6\", \"Topic6\", \"Topic6\", \"Topic6\", \"Topic6\", \"Topic6\", \"Topic6\", \"Topic6\", \"Topic6\", \"Topic6\", \"Topic6\", \"Topic6\", \"Topic6\", \"Topic6\", \"Topic6\", \"Topic6\", \"Topic6\", \"Topic6\", \"Topic6\", \"Topic6\", \"Topic6\", \"Topic6\", \"Topic6\", \"Topic6\", \"Topic6\", \"Topic6\", \"Topic6\", \"Topic6\", \"Topic6\", \"Topic6\", \"Topic6\", \"Topic6\", \"Topic6\", \"Topic6\", \"Topic6\", \"Topic6\", \"Topic6\", \"Topic6\", \"Topic6\", \"Topic6\", \"Topic6\", \"Topic6\", \"Topic6\", \"Topic6\", \"Topic6\", \"Topic6\", \"Topic6\", \"Topic6\", \"Topic6\", \"Topic6\", \"Topic6\", \"Topic7\", \"Topic7\", \"Topic7\", \"Topic7\", \"Topic7\", \"Topic7\", \"Topic7\", \"Topic7\", \"Topic7\", \"Topic7\", \"Topic7\", \"Topic7\", \"Topic7\", \"Topic7\", \"Topic7\", \"Topic7\", \"Topic7\", \"Topic7\", \"Topic7\", \"Topic7\", \"Topic7\", \"Topic7\", \"Topic7\", \"Topic7\", \"Topic7\", \"Topic7\", \"Topic7\", \"Topic7\", \"Topic7\", \"Topic7\", \"Topic7\", \"Topic7\", \"Topic7\", \"Topic7\", \"Topic7\", \"Topic7\", \"Topic7\", \"Topic7\", \"Topic7\", \"Topic7\", \"Topic7\", \"Topic7\", \"Topic7\", \"Topic7\", \"Topic7\", \"Topic7\", \"Topic7\", \"Topic7\", \"Topic7\", \"Topic7\", \"Topic7\", \"Topic7\", \"Topic7\", \"Topic7\", \"Topic7\", \"Topic7\", \"Topic7\", \"Topic8\", \"Topic8\", \"Topic8\", \"Topic8\", \"Topic8\", \"Topic8\", \"Topic8\", \"Topic8\", \"Topic8\", \"Topic8\", \"Topic8\", \"Topic8\", \"Topic8\", \"Topic8\", \"Topic8\", \"Topic8\", \"Topic8\", \"Topic8\", \"Topic8\", \"Topic8\", \"Topic8\", \"Topic8\", \"Topic8\", \"Topic8\", \"Topic8\", \"Topic8\", \"Topic8\", \"Topic8\", \"Topic8\", \"Topic8\", \"Topic8\", \"Topic8\", \"Topic8\", \"Topic8\", \"Topic8\", \"Topic8\", \"Topic8\", \"Topic8\", \"Topic8\", \"Topic8\", \"Topic8\", \"Topic8\", \"Topic8\", \"Topic8\", \"Topic8\", \"Topic8\", \"Topic8\", \"Topic8\", \"Topic8\", \"Topic8\", \"Topic8\", \"Topic8\", \"Topic8\", \"Topic8\", \"Topic8\", \"Topic8\", \"Topic8\", \"Topic8\", \"Topic9\", \"Topic9\", \"Topic9\", \"Topic9\", \"Topic9\", \"Topic9\", \"Topic9\", \"Topic9\", \"Topic9\", \"Topic9\", \"Topic9\", \"Topic9\", \"Topic9\", \"Topic9\", \"Topic9\", \"Topic9\", \"Topic9\", \"Topic9\", \"Topic9\", \"Topic9\", \"Topic9\", \"Topic9\", \"Topic9\", \"Topic9\", \"Topic9\", \"Topic9\", \"Topic9\", \"Topic9\", \"Topic9\", \"Topic9\", \"Topic9\", \"Topic9\", \"Topic9\", \"Topic9\", \"Topic9\", \"Topic9\", \"Topic9\", \"Topic9\", \"Topic9\", \"Topic9\", \"Topic9\", \"Topic9\", \"Topic9\", \"Topic9\", \"Topic9\", \"Topic9\", \"Topic9\", \"Topic9\", \"Topic9\", \"Topic10\", \"Topic10\", \"Topic10\", \"Topic10\", \"Topic10\", \"Topic10\", \"Topic10\", \"Topic10\", \"Topic10\", \"Topic10\", \"Topic10\", \"Topic10\", \"Topic10\", \"Topic10\", \"Topic10\", \"Topic10\", \"Topic10\", \"Topic10\", \"Topic10\", \"Topic10\", \"Topic10\", \"Topic10\", \"Topic10\", \"Topic10\", \"Topic10\", \"Topic10\", \"Topic10\", \"Topic10\", \"Topic10\", \"Topic10\", \"Topic10\", \"Topic10\", \"Topic10\", \"Topic10\", \"Topic10\", \"Topic10\", \"Topic10\", \"Topic10\", \"Topic10\", \"Topic10\", \"Topic10\", \"Topic10\", \"Topic10\", \"Topic10\", \"Topic10\", \"Topic10\", \"Topic10\", \"Topic10\", \"Topic10\", \"Topic10\", \"Topic10\", \"Topic10\", \"Topic10\", \"Topic10\", \"Topic10\", \"Topic10\", \"Topic10\", \"Topic10\"], \"logprob\": [30.0, 29.0, 28.0, 27.0, 26.0, 25.0, 24.0, 23.0, 22.0, 21.0, 20.0, 19.0, 18.0, 17.0, 16.0, 15.0, 14.0, 13.0, 12.0, 11.0, 10.0, 9.0, 8.0, 7.0, 6.0, 5.0, 4.0, 3.0, 2.0, 1.0, -4.749899864196777, -5.200200080871582, -3.799099922180176, -4.344099998474121, -6.058000087738037, -4.906199932098389, -6.003799915313721, -6.3933000564575195, -6.619100093841553, -4.874899864196777, -6.114699840545654, -5.771299839019775, -3.3357999324798584, -5.519800186157227, -6.3292999267578125, -6.544300079345703, -6.321899890899658, -4.3028998374938965, -6.4079999923706055, -5.963099956512451, -5.169300079345703, -4.369500160217285, -5.877600193023682, -3.758699893951416, -5.56279993057251, -6.625, -6.138599872589111, -6.118800163269043, -6.160299777984619, -6.69290018081665, -4.374300003051758, -5.276700019836426, -4.91379976272583, -5.782800197601318, -5.406899929046631, -4.6493000984191895, -4.553800106048584, -3.9321999549865723, -2.414299964904785, -5.401400089263916, -5.504000186920166, -4.60890007019043, -4.269000053405762, -4.779600143432617, -4.008299827575684, -4.244699954986572, -4.928400039672852, -4.762800216674805, -4.3282999992370605, -5.262599945068359, -4.246300220489502, -3.9314000606536865, -4.090799808502197, -4.477499961853027, -4.758699893951416, -4.520199775695801, -4.7596001625061035, -5.914400100708008, -5.311200141906738, -5.731900215148926, -4.589600086212158, -3.933500051498413, -6.412600040435791, -3.807300090789795, -4.251800060272217, -6.039599895477295, -6.221700191497803, -5.623300075531006, -6.070899963378906, -6.52810001373291, -5.949100017547607, -6.48769998550415, -4.86269998550415, -4.922399997711182, -6.067599773406982, -4.668300151824951, -5.721499919891357, -6.550099849700928, -4.744100093841553, -5.904600143432617, -5.0671000480651855, -4.973400115966797, -5.0055999755859375, -6.495699882507324, -3.984100103378296, -3.8466999530792236, -6.452499866485596, -3.024600028991699, -3.484999895095825, -4.417799949645996, -4.163899898529053, -5.340799808502197, -3.9179999828338623, -5.380000114440918, -5.272799968719482, -5.251699924468994, -4.666299819946289, -4.5395002365112305, -5.321300029754639, -3.974100112915039, -4.150100231170654, -4.231200218200684, -4.356500148773193, -3.607599973678589, -4.715799808502197, -4.385900020599365, -4.178299903869629, -4.453100204467773, -4.596399784088135, -4.6321001052856445, -5.627600193023682, -2.875699996948242, -2.8017001152038574, -5.084000110626221, -6.44320011138916, -5.131899833679199, -5.8144001960754395, -3.897700071334839, -3.5615999698638916, -5.921199798583984, -5.566199779510498, -5.717599868774414, -5.3059000968933105, -6.282599925994873, -5.6722002029418945, -6.445899963378906, -5.476500034332275, -5.7399001121521, -5.872700214385986, -5.426700115203857, -6.659800052642822, -5.5046000480651855, -6.675099849700928, -5.438799858093262, -6.290900230407715, -5.135900020599365, -4.895699977874756, -3.3592000007629395, -6.436299800872803, -5.125999927520752, -3.8791000843048096, -4.522500038146973, -5.658999919891357, -5.045000076293945, -3.7172999382019043, -4.6315999031066895, -3.553999900817871, -4.071199893951416, -4.515100002288818, -4.967800140380859, -3.961199998855591, -4.2220001220703125, -5.089200019836426, -4.658599853515625, -3.910900115966797, -4.267099857330322, -4.603799819946289, -4.852499961853027, -4.704500198364258, -4.826099872589111, -3.3136000633239746, -3.188999891281128, -6.094399929046631, -4.5792999267578125, -3.659600019454956, -5.888400077819824, -6.38640022277832, -3.6328999996185303, -3.884700059890747, -4.388899803161621, -4.583499908447266, -6.133200168609619, -6.0578999519348145, -6.362599849700928, -6.336400032043457, -6.759799957275391, -6.128799915313721, -6.77239990234375, -6.440000057220459, -3.8838999271392822, -4.09060001373291, -3.8619000911712646, -5.408299922943115, -6.479400157928467, -6.293700218200684, -5.120699882507324, -6.140900135040283, -6.176700115203857, -6.464000225067139, -6.344799995422363, -5.303100109100342, -2.8459999561309814, -4.681700229644775, -4.2459001541137695, -5.271100044250488, -5.523200035095215, -4.2941999435424805, -4.642300128936768, -4.59250020980835, -3.0569000244140625, -4.275000095367432, -4.623600006103516, -4.870100021362305, -5.309700012207031, -5.395400047302246, -4.64709997177124, -4.3907999992370605, -5.053500175476074, -4.604000091552734, -5.065299987792969, -5.09630012512207, -5.148099899291992, -5.219900131225586, -3.1459999084472656, -2.1712000370025635, -2.1712000370025635, -4.750999927520752, -5.731900215148926, -5.1981000900268555, -6.110199928283691, -6.209000110626221, -5.9959001541137695, -6.284299850463867, -5.065999984741211, -5.698599815368652, -4.559299945831299, -4.98769998550415, -5.8007001876831055, -3.5824999809265137, -5.496099948883057, -6.4847002029418945, -5.88040018081665, -5.230299949645996, -4.641600131988525, -5.587900161743164, -4.963399887084961, -5.3155999183654785, -5.385300159454346, -6.11460018157959, -5.495299816131592, -6.477700233459473, -4.4893999099731445, -6.392899990081787, -5.92609977722168, -4.238999843597412, -4.763400077819824, -4.287600040435791, -5.705900192260742, -4.631400108337402, -4.934899806976318, -4.52869987487793, -5.067599773406982, -3.9700000286102295, -4.861800193786621, -5.042500019073486, -4.378799915313721, -4.4721999168396, -5.006199836730957, -4.470900058746338, -4.883999824523926, -5.002399921417236, -4.714200019836426, -4.832099914550781, -4.859399795532227, -4.940999984741211, -4.82390022277832, -4.989999771118164, -5.9105000495910645, -5.548600196838379, -5.915800094604492, -5.931600093841553, -6.215199947357178, -6.148200035095215, -6.164599895477295, -5.842299938201904, -5.088200092315674, -5.83459997177124, -6.137700080871582, -6.082300186157227, -6.543799877166748, -6.037499904632568, -3.782399892807007, -5.424499988555908, -6.25, -3.8345999717712402, -5.488399982452393, -5.640699863433838, -4.798299789428711, -6.293799877166748, -6.171000003814697, -5.940199851989746, -6.475200176239014, -5.321100234985352, -6.023799896240234, -4.927800178527832, -5.730500221252441, -6.2845001220703125, -4.2245001792907715, -3.6029999256134033, -4.732399940490723, -4.447500228881836, -4.089600086212158, -5.326300144195557, -4.206900119781494, -4.995800018310547, -4.587900161743164, -4.288599967956543, -3.574199914932251, -4.903500080108643, -3.1403000354766846, -4.031499862670898, -4.109000205993652, -3.73009991645813, -4.236100196838379, -4.96589994430542, -4.371300220489502, -4.027699947357178, -4.750899791717529, -4.5243000984191895, -4.926400184631348, -4.952499866485596, -4.902299880981445, -4.957799911499023, -5.05679988861084, -5.683199882507324, -5.724899768829346, -5.70550012588501, -5.944399833679199, -6.256899833679199, -4.239999771118164, -5.805699825286865, -6.028600215911865, -4.211400032043457, -6.159200191497803, -5.720399856567383, -4.504000186920166, -6.269499778747559, -5.021100044250488, -3.5339999198913574, -6.211599826812744, -6.371099948883057, -6.13539981842041, -3.4721999168395996, -4.126200199127197, -6.333700180053711, -5.809500217437744, -5.247099876403809, -6.1402997970581055, -4.83650016784668, -6.579999923706055, -5.916900157928467, -6.07859992980957, -6.111700057983398, -5.308199882507324, -4.975299835205078, -4.101399898529053, -4.283299922943115, -3.4862000942230225, -4.612299919128418, -5.208700180053711, -5.553699970245361, -2.816800117492676, -5.285600185394287, -3.443000078201294, -3.9772000312805176, -4.611199855804443, -4.267499923706055, -4.889200210571289, -4.683000087738037, -4.748000144958496, -5.065999984741211, -5.119900226593018, -4.897299766540527, -5.266300201416016, -4.736999988555908, -4.91480016708374, -4.664299964904785, -4.877999782562256, -4.843299865722656, -5.006499767303467, -4.924699783325195, -4.4730000495910645, -5.792300224304199, -4.293099880218506, -6.022600173950195, -6.087699890136719, -5.9857001304626465, -6.077899932861328, -5.34660005569458, -5.025199890136719, -6.04010009765625, -3.420099973678589, -4.990900039672852, -5.358500003814697, -6.1057000160217285, -6.090099811553955, -5.496300220489502, -3.6333000659942627, -5.371600151062012, -5.832900047302246, -5.08620023727417, -5.920199871063232, -6.478400230407715, -4.329500198364258, -5.352200031280518, -6.107600212097168, -4.870999813079834, -4.607500076293945, -6.160600185394287, -6.371699810028076, -5.962200164794922, -5.837399959564209, -5.410900115966797, -5.156199932098389, -2.8111000061035156, -3.176500082015991, -5.069699764251709, -4.753799915313721, -5.175899982452393, -4.735799789428711, -4.511499881744385, -4.639200210571289, -5.032599925994873, -4.433499813079834, -4.498499870300293, -5.105999946594238, -4.143599987030029, -4.627500057220459, -4.43120002746582, -4.205399990081787, -4.415500164031982, -4.305500030517578, -4.2281999588012695, -4.0630998611450195, -4.626200199127197, -4.904600143432617, -4.80810022354126, -4.627200126647949, -4.938399791717529, -4.93779993057251, -5.202099800109863, -3.3766000270843506, -5.63070011138916, -5.487599849700928, -5.88040018081665, -6.100500106811523, -5.923500061035156, -5.978899955749512, -6.156400203704834, -4.541500091552734, -5.705900192260742, -3.9779000282287598, -3.7739999294281006, -5.001299858093262, -6.104300022125244, -4.778299808502197, -3.077399969100952, -6.252999782562256, -4.309599876403809, -5.905600070953369, -6.041299819946289, -5.258200168609619, -6.4394001960754395, -4.1305999755859375, -5.1707000732421875, -5.365200042724609, -5.207799911499023, -5.702700138092041, -5.651899814605713, -4.094200134277344, -4.739699840545654, -4.021500110626221, -4.807700157165527, -4.861599922180176, -4.459099769592285, -4.783400058746338, -3.1898999214172363, -4.946599960327148, -3.555299997329712, -4.734399795532227, -4.274799823760986, -3.4082000255584717, -4.5030999183654785, -4.7941999435424805, -4.890600204467773, -4.802800178527832, -4.725299835205078, -5.119100093841553, -5.0457000732421875, -5.791100025177002, -5.577000141143799, -5.888999938964844, -5.070899963378906, -5.714799880981445, -6.013299942016602, -5.5391998291015625, -5.9664998054504395, -4.740099906921387, -5.3618998527526855, -5.711299896240234, -6.136600017547607, -5.973800182342529, -5.921000003814697, -4.824399948120117, -5.889400005340576, -4.848899841308594, -6.3317999839782715, -5.157800197601318, -5.265399932861328, -6.255499839782715, -4.5177998542785645, -4.707799911499023, -5.019400119781494, -5.707200050354004, -5.911600112915039, -6.278200149536133, -6.370699882507324, -4.280600070953369, -5.1128997802734375, -5.065800189971924, -4.099299907684326, -5.346799850463867, -4.262400150299072, -5.198800086975098, -4.939899921417236, -3.6338000297546387, -5.199699878692627, -3.385999917984009, -3.714400053024292, -4.871200084686279, -3.5406999588012695, -4.35099983215332, -4.129899978637695, -3.8229000568389893, -5.019800186157227, -4.588600158691406, -3.77620005607605, -4.393899917602539, -4.875400066375732, -4.660900115966797, -4.457600116729736, -4.882199764251709, -4.758200168609619, -4.856400012969971, -4.988900184631348, -4.906700134277344], \"loglift\": [30.0, 29.0, 28.0, 27.0, 26.0, 25.0, 24.0, 23.0, 22.0, 21.0, 20.0, 19.0, 18.0, 17.0, 16.0, 15.0, 14.0, 13.0, 12.0, 11.0, 10.0, 9.0, 8.0, 7.0, 6.0, 5.0, 4.0, 3.0, 2.0, 1.0, 1.861, 1.8603, 1.8522, 1.841, 1.84, 1.835, 1.8344, 1.8322, 1.8283, 1.8271, 1.8235, 1.8222, 1.7923, 1.7886, 1.7721, 1.769, 1.7587, 1.7555, 1.7448, 1.7325, 1.7252, 1.7215, 1.713, 1.7107, 1.6933, 1.6899, 1.6825, 1.6819, 1.677, 1.6668, 1.6637, 1.6448, 1.6212, 1.6525, 1.5995, 1.5003, 1.4808, 1.3367, 1.0123, 1.5781, 1.5978, 1.3433, 1.2376, 1.3864, 1.1492, 1.1447, 1.3112, 1.2116, 0.8298, 1.4312, 0.5186, 0.2142, -0.053, 0.3408, 0.5685, -0.2433, 0.1754, 2.1509, 2.1498, 2.1482, 2.1433, 2.1371, 2.1342, 2.1315, 2.1281, 2.1262, 2.1249, 2.1237, 2.1235, 2.1169, 2.1082, 2.1043, 2.0963, 2.0816, 2.0739, 2.0605, 2.0577, 2.0564, 2.0503, 2.0496, 2.0484, 2.0408, 2.0349, 2.0347, 2.0336, 2.0304, 2.0264, 2.0127, 2.0069, 1.9971, 1.97, 2.0145, 1.8878, 2.0064, 1.9869, 1.9797, 1.8812, 1.7773, 1.9527, 1.5645, 1.575, 1.5616, 1.4089, 0.764, 1.1784, 0.2601, -0.1405, -0.3075, -0.3195, 2.2038, 2.1861, 2.1804, 2.179, 2.1787, 2.1738, 2.1712, 2.1627, 2.1604, 2.1587, 2.1582, 2.1566, 2.1094, 2.0953, 2.0883, 2.0508, 2.033, 2.0227, 2.0042, 2.0027, 1.9872, 1.9678, 1.9562, 1.933, 1.9219, 1.9128, 1.9111, 1.8856, 1.8745, 1.8718, 1.8498, 1.6641, 1.6304, 1.8129, 1.6774, 1.3462, 1.5571, 0.7798, 0.9928, 1.1016, 1.4219, 0.3157, 0.3428, 1.301, 0.6685, -0.4843, -0.2293, 0.3592, 0.7084, 0.1138, 0.2916, 2.2259, 2.222, 2.1912, 2.1866, 2.1713, 2.171, 2.1709, 2.1392, 1.9996, 1.9802, 1.9673, 1.9185, 1.8808, 1.7966, 1.7953, 1.7934, 1.7928, 1.7569, 1.7263, 1.7173, 1.7066, 1.7038, 1.6937, 1.6928, 1.6854, 1.6764, 1.6686, 1.6224, 1.6217, 1.6215, 1.6026, 1.5256, 1.5769, 1.5357, 1.5934, 1.5975, 1.4304, 1.4761, 1.3717, 0.9809, 1.1446, 1.2448, 1.078, 1.3226, 1.3134, 0.6177, -0.2451, 0.7119, -0.3272, 0.2201, -0.1612, -0.0304, 0.2043, 2.3205, 2.3187, 2.3105, 2.3047, 2.3001, 2.2868, 2.2865, 2.2857, 2.2814, 2.2811, 2.2479, 2.2413, 2.2401, 2.2222, 2.2038, 2.2001, 2.1858, 2.1784, 2.1771, 2.1563, 2.0745, 2.0526, 2.0468, 2.0182, 2.0052, 1.9975, 1.9668, 1.9549, 1.953, 1.9087, 1.8999, 1.8043, 1.7609, 1.5691, 1.8294, 1.3328, 1.4315, 0.7361, 1.2286, 0.0678, 0.9993, 1.1859, 0.2672, -0.1384, 0.8881, -0.3253, 0.5054, 0.7948, -0.1494, -0.0138, -0.4878, 0.022, -1.3973, -0.7132, 2.3996, 2.3967, 2.3945, 2.3919, 2.3872, 2.3822, 2.3795, 2.376, 2.3655, 2.3374, 2.3192, 2.3006, 2.2835, 2.2618, 2.2546, 2.2444, 2.242, 2.2309, 2.2285, 2.2251, 2.2187, 2.2045, 2.1634, 2.139, 2.1264, 2.1238, 2.0946, 2.0872, 2.0864, 2.08, 2.0753, 1.9582, 1.9853, 1.9495, 1.7699, 2.0011, 1.607, 1.7653, 1.5618, 1.3224, 0.7026, 1.5144, 0.2863, 0.9035, 0.955, 0.4155, 0.8817, 1.3111, 0.5917, 0.0102, 0.7923, 0.0405, 0.6973, 0.6744, 0.1612, 0.3112, -0.723, 2.4174, 2.4018, 2.3838, 2.3828, 2.3665, 2.3642, 2.3427, 2.3384, 2.3365, 2.3342, 2.3306, 2.3083, 2.2811, 2.2758, 2.24, 2.2311, 2.2045, 2.2021, 2.1885, 2.1708, 2.13, 2.1179, 2.1112, 2.1034, 2.0908, 2.0665, 2.042, 2.019, 1.9995, 1.9985, 1.9557, 1.9189, 1.8882, 1.6719, 1.8134, 1.8164, 1.9114, 0.6099, 1.7822, 0.7026, 0.9578, 0.95, 0.5508, 1.0852, 0.7997, 0.8789, 1.2688, 1.2584, 0.8273, 1.4625, 0.226, 0.4123, -0.3874, 0.186, -0.0784, 0.4131, -0.3599, 2.4556, 2.4422, 2.4413, 2.4364, 2.4338, 2.4316, 2.4311, 2.4269, 2.411, 2.4072, 2.3784, 2.378, 2.3604, 2.3572, 2.3088, 2.2871, 2.2428, 2.2192, 2.2075, 2.1906, 2.174, 2.164, 2.1541, 2.1519, 2.1473, 2.1347, 2.0893, 2.0851, 2.0735, 2.0613, 2.0602, 2.0158, 1.9424, 1.5227, 1.4695, 1.8548, 1.7356, 1.8163, 1.5605, 1.3828, 1.3604, 1.585, 1.0492, 1.0625, 1.5891, 0.4213, 0.9993, 0.6323, 0.0714, 0.3494, 0.066, -0.1903, -0.6364, 0.3368, 1.1352, 0.7656, -0.4816, 0.2191, 2.4932, 2.4872, 2.4812, 2.4778, 2.477, 2.4704, 2.4703, 2.4689, 2.468, 2.4523, 2.4167, 2.3838, 2.3573, 2.2897, 2.2596, 2.2521, 2.2392, 2.208, 2.2032, 2.1696, 2.1633, 2.1378, 2.1281, 2.1265, 2.0904, 2.089, 2.0877, 2.0764, 2.0723, 2.0715, 2.052, 2.046, 1.9798, 2.0008, 1.9903, 1.9058, 1.9197, 1.3749, 1.9381, 1.263, 1.7924, 1.0523, 0.0184, 0.9165, 0.7277, 0.2272, -0.1569, -0.6875, -0.1562, 2.5107, 2.4999, 2.4972, 2.4962, 2.4954, 2.4943, 2.4923, 2.4914, 2.4901, 2.4845, 2.4841, 2.473, 2.4714, 2.4568, 2.4564, 2.4122, 2.3757, 2.3609, 2.2837, 2.2831, 2.2757, 2.275, 2.2689, 2.256, 2.2503, 2.2418, 2.2379, 2.2292, 2.2288, 2.1971, 2.1879, 2.1278, 1.9867, 2.1472, 1.856, 2.0252, 1.9115, 1.1311, 1.9829, 0.7596, 0.9316, 1.722, 0.7361, 1.2657, 0.9341, 0.5109, 1.6953, 0.9724, -0.3496, 0.5411, 1.3831, 0.8457, -0.4198, 0.9106, 0.2048, 0.2072, 1.3563, 0.2514]}, \"token.table\": {\"Topic\": [1, 2, 3, 4, 5, 6, 7, 8, 9, 10, 3, 4, 5, 6, 8, 1, 4, 5, 9, 9, 1, 3, 5, 6, 7, 8, 9, 10, 1, 3, 5, 6, 7, 8, 9, 5, 6, 9, 1, 5, 6, 9, 1, 3, 7, 9, 10, 6, 7, 9, 5, 9, 7, 2, 3, 4, 5, 7, 8, 9, 2, 4, 5, 6, 8, 9, 1, 7, 1, 2, 4, 5, 6, 7, 8, 10, 2, 7, 10, 2, 5, 6, 10, 8, 10, 2, 5, 1, 2, 5, 6, 7, 10, 1, 4, 5, 10, 1, 2, 4, 1, 2, 3, 4, 5, 6, 7, 8, 9, 10, 1, 3, 6, 8, 9, 1, 2, 3, 4, 5, 6, 7, 8, 9, 10, 2, 4, 8, 1, 2, 3, 4, 5, 6, 7, 8, 9, 10, 4, 2, 3, 5, 8, 10, 10, 2, 3, 5, 6, 8, 2, 3, 4, 5, 6, 8, 9, 10, 1, 2, 3, 4, 5, 6, 7, 8, 9, 10, 1, 4, 5, 7, 8, 10, 1, 2, 4, 5, 5, 1, 2, 4, 5, 6, 7, 8, 9, 10, 1, 2, 3, 4, 5, 6, 7, 8, 9, 10, 1, 4, 5, 7, 10, 9, 4, 6, 10, 1, 2, 4, 5, 7, 9, 10, 1, 2, 3, 4, 5, 6, 7, 8, 9, 1, 6, 9, 10, 1, 6, 1, 7, 3, 4, 5, 7, 8, 9, 10, 2, 3, 4, 7, 9, 9, 1, 2, 3, 4, 5, 7, 8, 9, 10, 3, 9, 1, 2, 5, 7, 8, 9, 1, 6, 7, 10, 1, 2, 3, 4, 5, 6, 7, 8, 10, 1, 7, 3, 6, 8, 9, 1, 2, 3, 4, 5, 6, 7, 8, 9, 10, 3, 6, 7, 8, 10, 2, 4, 5, 6, 10, 1, 3, 4, 6, 7, 9, 10, 2, 7, 2, 5, 7, 2, 4, 10, 5, 9, 6, 2, 4, 5, 7, 8, 9, 10, 2, 5, 7, 10, 2, 3, 4, 5, 6, 7, 8, 9, 10, 1, 2, 3, 4, 5, 8, 9, 10, 1, 8, 10, 1, 2, 3, 4, 6, 7, 9, 10, 1, 2, 3, 4, 5, 6, 7, 8, 9, 10, 1, 2, 6, 7, 8, 9, 10, 4, 5, 7, 5, 8, 2, 3, 4, 5, 6, 7, 8, 9, 10, 8, 9, 1, 2, 3, 4, 5, 6, 7, 8, 9, 10, 1, 2, 3, 4, 7, 8, 5, 1, 2, 3, 4, 5, 6, 9, 10, 1, 2, 5, 1, 2, 4, 5, 6, 7, 8, 9, 2, 4, 5, 6, 8, 2, 4, 1, 6, 7, 9, 4, 7, 4, 6, 4, 7, 5, 7, 9, 3, 3, 4, 2, 4, 6, 2, 6, 8, 4, 5, 8, 3, 6, 1, 6, 9, 1, 2, 3, 4, 5, 6, 7, 8, 9, 10, 1, 2, 3, 6, 7, 8, 9, 10, 4, 5, 9, 10, 1, 2, 3, 4, 5, 6, 7, 8, 9, 10, 1, 2, 3, 4, 5, 6, 7, 8, 9, 10, 1, 2, 3, 4, 5, 6, 7, 8, 9, 10, 2, 6, 1, 2, 3, 8, 4, 5, 7, 8, 9, 2, 5, 7, 9, 2, 3, 4, 5, 6, 7, 8, 9, 10, 2, 5, 7, 8, 9, 1, 2, 4, 5, 7, 8, 9, 10, 1, 7, 8, 1, 2, 3, 4, 8, 9, 7, 10, 9, 1, 2, 3, 4, 5, 6, 7, 8, 9, 10, 1, 2, 3, 4, 5, 6, 7, 8, 9, 10, 6, 1, 3, 4, 9, 1, 4, 7, 8, 10, 1, 3, 4, 6, 7, 8, 9, 10, 9, 3, 2, 5, 8, 10, 1, 3, 4, 5, 6, 1, 2, 3, 4, 5, 6, 7, 8, 9, 10, 5, 9, 10, 7, 10, 1, 2, 3, 4, 5, 6, 7, 8, 9, 10, 2, 4, 5, 9, 1, 2, 3, 4, 6, 7, 8, 9, 10, 2, 4, 5, 7, 8, 10, 3, 4, 8, 10, 1, 2, 3, 4, 7, 10, 1, 4, 7, 7, 8, 1, 2, 3, 4, 5, 6, 7, 8, 9, 10, 6, 8, 2, 4, 5, 6, 7, 10, 2, 5, 10, 1, 7, 8, 1, 2, 3, 4, 6, 7, 8, 9, 10, 2, 4, 5, 6, 10, 1, 2, 3, 5, 6, 8, 10, 10, 1, 2, 3, 4, 5, 6, 7, 8, 9, 10, 1, 2, 3, 4, 5, 7, 8, 10, 1, 3, 4, 6, 7, 8, 9, 1, 2, 3, 4, 5, 6, 7, 8, 9, 10, 1, 2, 3, 6, 9, 2, 4, 9, 1, 2, 3, 4, 5, 6, 7, 1, 2, 3, 4, 5, 6, 7, 8, 9, 10, 4, 5, 7, 10, 2, 4, 5, 6, 7, 1, 2, 3, 4, 8, 9, 10, 1, 3, 6, 1, 3, 4, 6, 7, 2, 3, 4, 5, 6, 7, 8, 9, 10, 2, 4, 10, 1, 2, 3, 4, 5, 6, 7, 8, 9, 10, 1, 2, 3, 4, 5, 7, 8, 10, 2, 4, 8, 1, 3, 7, 8, 9, 10, 1, 2, 3, 4, 5, 6, 7, 8, 9, 10, 1, 4, 6, 7, 9, 1, 2, 4, 5, 7, 8, 9, 1, 2, 3, 4, 5, 6, 7, 8, 9, 10, 2, 5, 1, 2, 3, 4, 5, 6, 8, 9, 10, 4, 8, 1, 2, 3, 4, 5, 7, 8, 9, 10, 5, 1, 2, 4, 5, 6, 7, 8, 9, 10, 3, 10, 3, 4, 7, 8, 10, 2, 5, 8, 10, 1, 2, 4, 5, 7, 8, 9, 10, 3, 6, 7, 10, 2, 3, 4, 5, 7, 10, 1, 2, 3, 4, 7, 8, 9, 10, 7, 8, 9, 10, 1, 2, 7, 3, 6, 7, 1, 4, 8, 1, 2, 3, 4, 5, 6, 7, 8, 9, 10, 1, 2, 4, 5, 6, 7, 8, 10, 1, 2, 3, 4, 5, 6, 7, 8, 9, 10, 3, 2, 5, 7, 10, 3, 10, 2, 3, 5, 2, 4, 6, 7, 8, 6, 10, 2, 3, 4, 5, 6, 7, 8, 10, 1, 5, 6, 2, 5, 7, 1, 3, 5, 6, 9, 10, 3, 6, 10, 3, 6, 7, 10, 6, 7, 10, 4, 5, 9, 1, 2, 3, 4, 6, 7, 8, 10, 1, 2, 4, 5, 7, 1, 4, 8, 1, 4, 5, 1, 2, 3, 4, 6, 9, 10, 4, 5, 7, 9, 10, 3, 4, 5, 7, 8, 9, 10, 1, 2, 4, 5, 6, 7, 8, 10, 3, 5, 10, 6, 1, 5, 7, 9, 1, 2, 3, 4, 5, 6, 7, 8, 9, 10, 1, 2, 4, 5, 6, 7, 8, 10, 1, 4, 7, 9, 1, 2, 3, 4, 5, 6, 7, 8, 9, 10, 4, 7, 9, 10, 1, 2, 3, 4, 5, 6, 7, 8, 9, 10, 1, 5, 2, 3, 4, 7, 1, 7, 10, 1, 2, 3, 4, 5, 6, 7, 8, 9, 10, 3, 8, 1, 2, 3, 4, 5, 6, 7, 8, 9, 10, 1, 7, 8, 9, 2, 1, 8, 8, 2, 4, 5, 8, 4, 5, 6, 7, 8, 9, 10, 2, 3, 5, 6, 7, 8, 9, 10, 1, 3, 9, 10, 1, 2, 3, 5, 6, 8, 9, 10, 1, 7, 9, 10, 1, 2, 3, 4, 5, 6, 7, 8, 9, 10, 9, 3, 7, 1, 2, 5, 6, 7, 9, 10, 3, 6, 1, 1, 7, 9, 10, 1, 7, 8, 1, 2, 3, 4, 5, 6, 7, 8, 9, 10, 1, 3, 4, 5, 6, 9, 10, 2, 4, 5, 6, 7, 8, 10, 2, 3, 4, 5, 7, 9, 10, 3, 4, 7, 1, 2, 3, 4, 5, 6, 7, 8, 9, 10, 1, 2, 3, 4, 5, 6, 8, 9, 10, 1, 3, 8, 10, 3, 5, 10, 5, 6, 1, 4, 10, 1, 2, 3, 4, 5, 6, 7, 8, 9, 10, 1, 2, 3, 4, 5, 6, 7, 8, 9, 10, 3, 8, 1, 2, 4, 5, 6, 7, 8, 9, 10, 3, 7, 1, 3, 6, 7, 10, 3, 6, 2, 4, 5, 6, 7, 8, 2, 5, 8, 9, 10, 1, 3, 4, 5, 6, 7, 8, 9, 10, 1, 2, 10, 7, 10, 4, 7, 8, 4, 5, 7, 10, 4, 5, 9, 10, 1, 6, 9, 1, 4, 8, 10, 1, 2, 3, 4, 5, 7, 8, 9, 10, 1, 7, 2, 5, 3, 4, 6, 2, 3, 4, 5, 6, 7, 9, 10, 1, 6, 9, 10, 1, 4, 5, 7, 8, 9, 10, 1, 2, 3, 4, 5, 6, 7, 8, 9, 10, 9, 1, 2, 3, 4, 7, 8, 9, 1, 2, 4, 5, 7, 8, 9, 10, 3, 6, 3, 7, 5, 6, 8, 9, 2, 4, 4, 8, 2, 3, 4, 5, 7, 9, 1, 2, 3, 4, 5, 6, 7, 10, 4, 7, 2, 5, 6, 7, 8, 1, 3, 6, 9, 2, 3, 8, 9, 1, 2, 3, 4, 5, 6, 7, 8, 9, 10, 4, 6, 7, 8, 9, 2, 8, 1, 3, 8, 9, 10, 1, 2, 4, 5, 7, 9, 10, 3, 7, 2, 7, 9, 10, 2, 4, 10, 10, 2, 8, 2, 3, 5, 8, 3, 10, 3, 7, 9, 1, 2, 6, 8, 10, 1, 2, 3, 4, 5, 6, 9, 1, 4, 8, 10, 1, 4, 6, 7, 8, 9, 3, 4, 10, 3, 5, 8, 1, 2, 3, 4, 5, 7, 8, 9, 10, 1, 2, 3, 4, 5, 6, 7, 8, 9, 10, 3, 4, 5, 6, 7, 10, 1, 3, 7, 9, 3, 4, 3, 4, 1, 2, 4, 5, 6, 7, 8, 10, 1, 5, 9, 10, 5, 9, 10, 1, 2, 3, 4, 5, 6, 7, 8, 9, 10, 2, 3, 4, 5, 7, 8, 9, 4, 10, 6, 4, 7, 2, 6, 8, 2, 5, 7, 1, 2, 3, 4, 5, 6, 7, 8, 9, 10, 8, 4, 7, 8, 10, 2, 3, 4, 5, 6, 7, 8, 10, 10, 1, 2, 4, 10, 2, 3, 4, 5, 7, 8, 9, 2, 4, 5, 6, 6, 7, 1, 2, 4, 6, 7, 1, 2, 3, 4, 5, 6, 9, 10, 1, 2, 3, 4, 5, 6, 7, 8, 9, 10, 2, 3, 4, 9, 2, 8, 1, 9, 4, 5, 8, 10, 4, 5, 10, 1, 2, 4, 5, 6, 8, 9, 10, 5, 9, 10, 1, 2, 6, 7, 9, 1, 3, 9, 10, 4, 10, 1, 2, 3, 4, 5, 6, 7, 8, 9, 10, 1, 3, 4, 6, 7, 8, 10, 1, 4, 7, 10, 3, 8, 2, 1, 2, 3, 5, 6, 7, 8, 9, 10, 4, 10, 1, 2, 3, 4, 9, 10, 1, 2, 3, 4, 5, 6, 7, 8, 9, 10, 6, 7, 9, 1, 2, 3, 4, 5, 6, 7, 8, 9, 10, 2, 3, 4, 7, 3, 7, 8, 10, 6, 3, 6, 8, 10, 3, 6, 7, 8, 10, 3, 4, 8, 10, 1, 2, 3, 4, 5, 7, 8, 9, 1, 2, 3, 4, 5, 7, 8, 9, 4, 7, 2, 4, 8, 2, 5, 6, 10, 1, 7, 1, 2, 3, 4, 5, 6, 7, 8, 9, 10, 1, 2, 3, 4, 5, 6, 9, 1, 4, 6, 1, 2, 3, 4, 5, 6, 7, 8, 9, 10, 5, 9, 1, 2, 3, 4, 6, 7, 8, 9, 10, 1, 3, 5, 6, 7, 8, 9, 1, 6, 8, 9, 1, 2, 3, 4, 5, 6, 7, 8, 9, 10, 1, 2, 3, 4, 5, 6, 7, 8, 9, 10, 1, 3, 6, 7, 8, 9, 10, 2, 10, 1, 2, 3, 4, 5, 6, 7, 8, 9, 10, 1, 5, 8, 9, 10, 3, 7, 9, 10, 1, 4, 7, 8, 1, 2, 3, 4, 5, 6, 7, 8, 9, 10, 3, 5, 7, 8, 9, 10, 3, 5, 7, 9, 3, 10, 3, 5, 7, 9, 1, 3, 4, 6, 7, 8, 10, 1, 2, 3, 4, 5, 6, 7, 8, 9, 10, 9, 1, 1, 6, 9, 1, 6, 1, 1, 4, 8, 9, 1, 6, 9, 6, 10, 4, 7, 9, 10, 1, 4, 6, 7, 8, 3, 4, 5, 7, 9, 1, 2, 3, 4, 5, 6, 7, 8, 9, 10, 1, 1, 2, 3, 4, 5, 6, 7, 9, 10, 1, 2, 3, 5, 6, 7, 10, 6, 1, 2, 3, 4, 5, 6, 7, 8, 9, 10, 1, 2, 3, 4, 5, 6, 7, 8, 9, 10, 4, 6, 8, 1, 2, 3, 5, 6, 7, 8, 9, 10, 1, 4, 6, 7, 8, 9, 10, 1, 6, 7, 9, 1, 2, 4, 5, 7, 8, 9, 10, 1, 2, 3, 4, 6, 8, 9, 1, 2, 3, 4, 5, 6, 7, 9, 10, 1, 2, 3, 4, 5, 6, 7, 8, 9, 10, 6, 10, 3, 8, 1, 2, 3, 4, 5, 6, 7, 8, 9, 10, 1, 3, 4, 5, 7, 9, 1, 6, 1, 3, 4, 10], \"Freq\": [0.9238465180980073, 0.001354613662900304, 0.002709227325800608, 0.002709227325800608, 0.012191522966102736, 0.00677306831450152, 0.004063840988700912, 0.004063840988700912, 0.017609977617703953, 0.025737659595105777, 0.554880273536639, 0.03397226164510035, 0.26422870168411383, 0.007549391476688966, 0.13211435084205692, 0.9569242861310012, 0.020360091194276623, 0.7518719111531956, 0.21720744099981207, 0.9891155077127141, 0.175549612488441, 0.016457776170791343, 0.1206903585858032, 0.15360591092738587, 0.021943701561055125, 0.005485925390263781, 0.48824735973347655, 0.016457776170791343, 0.03797718643346572, 0.003452471493951429, 0.06214448689112573, 0.06559695838507716, 0.020714828963708576, 0.006904942987902858, 0.804425858090683, 0.6989219644154623, 0.013978439288309245, 0.27956878576618494, 0.0253350706157503, 0.0253350706157503, 0.0253350706157503, 0.9120625421670109, 0.3491372825619156, 0.09399849915128497, 0.3692798180943338, 0.18128281979176386, 0.006714178510806069, 0.026181866798310235, 0.0785456003949307, 0.890183471142548, 0.8826582395615937, 0.0929113936380625, 0.9529771469190268, 0.08295074862636319, 0.011850106946623314, 0.03555032083986994, 0.011850106946623314, 0.8413575932102553, 0.011850106946623314, 0.011850106946623314, 0.002648236905546771, 0.002648236905546771, 0.002648236905546771, 0.07679887026085636, 0.9083452586025424, 0.002648236905546771, 0.9007295392379591, 0.07947613581511404, 0.30272368505659153, 0.03948569805085976, 0.39485698050859763, 0.006580949675143294, 0.026323798700573175, 0.0921332954520061, 0.05922854707628964, 0.07239044642657623, 0.9098903712578434, 0.05514487098532385, 0.027572435492661924, 0.9478878311255496, 0.03385313682591249, 0.8163035544885833, 0.14651602260051494, 0.9557650115647841, 0.960594548207144, 0.9593577978247303, 0.02907144841893122, 0.7604436665059978, 0.009749277775717921, 0.07799422220574337, 0.019498555551435842, 0.048746388878589605, 0.07799422220574337, 0.05070714696875801, 0.025353573484379006, 0.8620214984688862, 0.025353573484379006, 0.889433175487799, 0.0034341049246633167, 0.1030231477398995, 0.4854345697454175, 0.018134050019225367, 0.1060144462662406, 0.0530072231331203, 0.006974634622778987, 0.07253620007690147, 0.048822442359452906, 0.1046195193416848, 0.018134050019225367, 0.08648546932245943, 0.9229879290766708, 0.011986856221774944, 0.011986856221774944, 0.011986856221774944, 0.035960568665324835, 0.1831469881867716, 0.021218248631394272, 0.043553247190756664, 0.0915734940933858, 0.03573599769497982, 0.21664948602581519, 0.22446673552159202, 0.0457867470466929, 0.0011167499279681194, 0.1373602411400787, 0.07133586422603203, 0.03566793211301601, 0.8560303707123843, 0.1461510109090759, 0.09879990457093293, 0.08650682888699196, 0.2854725353270735, 0.10426349376379558, 0.08878332438401806, 0.02731794596431325, 0.06966076220899879, 0.040976918946469876, 0.0523593964316004, 0.9194212469743519, 0.013012054086999396, 0.15614464904399275, 0.7286750288719662, 0.013012054086999396, 0.07807232452199638, 0.9524634814907419, 0.1430763522976439, 0.04769211743254797, 0.01589737247751599, 0.01589737247751599, 0.7789712513982835, 0.05750855645998888, 0.07907426513248471, 0.5750855645998888, 0.03594284778749305, 0.00718856955749861, 0.1509599607074708, 0.021565708672495833, 0.0718856955749861, 0.017083634739845737, 0.09318346221734039, 0.10094875073545208, 0.19879138606365948, 0.2034505591745265, 0.08075900058836166, 0.09939569303182974, 0.10405486614269677, 0.05591007733040423, 0.04969784651591487, 0.012599632566440254, 0.1637952233637233, 0.03779889769932076, 0.7055794237206542, 0.06299816283220128, 0.012599632566440254, 0.011580414608776872, 0.7990486080056041, 0.17370621913165307, 0.011580414608776872, 0.9609851852569832, 0.015474061758979406, 0.007737030879489703, 0.9103906334866217, 0.012895051465816171, 0.007737030879489703, 0.007737030879489703, 0.01805307205214264, 0.005158020586326468, 0.012895051465816171, 0.06092445854254986, 0.058610871509288474, 0.15346793987300533, 0.012339130844060731, 0.08406032887516374, 0.0917722856527017, 0.06015326286479607, 0.12878967818488388, 0.3215885976233328, 0.029305435754644237, 0.056533112797777715, 0.593597684376666, 0.16959933839333313, 0.08479966919666657, 0.056533112797777715, 0.9730359275920478, 0.07020045582691718, 0.8775056978364648, 0.03510022791345859, 0.2354349994164599, 0.013582788427872687, 0.009055192285248457, 0.1856314418475934, 0.3078765376984476, 0.058858749854114975, 0.1901590379902176, 0.09029830810722707, 0.8497936667077397, 0.0012369631247565352, 0.03339800436842645, 0.006184815623782676, 0.0024739262495130704, 0.0012369631247565352, 0.0012369631247565352, 0.013606594372321888, 0.040685057087101885, 0.040685057087101885, 0.12205517126130566, 0.7730160846549359, 0.2770941379004809, 0.7061431256173545, 0.03455155639691529, 0.8983404663197976, 0.580373542514233, 0.05336768207027431, 0.006670960258784288, 0.07338056284662717, 0.013341920517568577, 0.18011592698717577, 0.08672248336419575, 0.17606750158985846, 0.7336145899577435, 0.029344583598309743, 0.029344583598309743, 0.029344583598309743, 0.9238700494990194, 0.007382627438097792, 0.5487753062319358, 0.0049217516253985275, 0.029530509752391167, 0.07874802600637644, 0.05660014369208307, 0.13780904551115877, 0.1156611631968654, 0.022147882314293373, 0.9059982756117535, 0.08053318005437808, 0.008736674161950567, 0.03494669664780227, 0.0786300674575551, 0.21841685404876418, 0.5154637755550835, 0.13978678659120908, 0.3499019433054921, 0.07690152600120706, 0.5690712924089322, 0.0038450763000603527, 0.005600404911380486, 0.7448538532136046, 0.039202834379663404, 0.005600404911380486, 0.039202834379663404, 0.033602429468282916, 0.12320890805037069, 0.005600404911380486, 0.005600404911380486, 0.8821207564430548, 0.07783418439203425, 0.9433352200575262, 0.0181410619241832, 0.0181410619241832, 0.0181410619241832, 0.003010892344504505, 0.0015054461722522525, 0.7105705933030632, 0.00602178468900901, 0.010538123205765767, 0.0888213241628829, 0.004516338516756757, 0.10237033971315317, 0.003010892344504505, 0.07075597009585587, 0.8030196668799026, 0.04226419299367908, 0.08452838598735816, 0.02113209649683954, 0.02113209649683954, 0.05156736087830067, 0.05156736087830067, 0.05156736087830067, 0.8250777740528107, 0.01718912029276689, 0.07689906704078608, 0.007689906704078608, 0.5306035625814239, 0.007689906704078608, 0.03844953352039304, 0.3383558949794587, 0.007689906704078608, 0.9517833632714038, 0.043262880148700174, 0.8779846515807821, 0.043899232579039105, 0.043899232579039105, 0.9630108493610727, 0.027812587707178996, 0.0034765734633973745, 0.9581225681255424, 0.014300336837694662, 0.9745174238304755, 0.8147519477367464, 0.003703417944257938, 0.05925468710812701, 0.007406835888515876, 0.0481444332753532, 0.003703417944257938, 0.05925468710812701, 0.9708494324716174, 0.01348401989543913, 0.006742009947719565, 0.006742009947719565, 0.006622680046984412, 0.3973608028190647, 0.013245360093968823, 0.006622680046984412, 0.019868040140953235, 0.013245360093968823, 0.07947216056381294, 0.026490720187937647, 0.4370968831009712, 0.8142418764381345, 0.043740266089651855, 0.010093907559150428, 0.04037563023660171, 0.057198809501852424, 0.006729271706100285, 0.010093907559150428, 0.01345854341220057, 0.9167660658277531, 0.03274164520813404, 0.03274164520813404, 0.25536201510200485, 0.004728926205592682, 0.07566281928948292, 0.009457852411185365, 0.17497026960692927, 0.30265127715793166, 0.11822315513981707, 0.061476040672704874, 0.10507394827285191, 0.19594871434666977, 0.02839836439806808, 0.37201857361469187, 0.017039018638840848, 0.03123820083787489, 0.1391519855505336, 0.017039018638840848, 0.05111705591652255, 0.04827721947671574, 0.6418364628162825, 0.012966393188207727, 0.006483196594103863, 0.23987827398184294, 0.03241598297051932, 0.04538237615872705, 0.01944958978231159, 0.18276580004878917, 0.09138290002439459, 0.6853717501829594, 0.15420439038159012, 0.828848598301047, 0.05411971002152608, 0.00338248187634538, 0.19618394882803203, 0.5919343283604415, 0.00676496375269076, 0.07441460127959836, 0.04058978251614456, 0.01352992750538152, 0.02705985501076304, 0.7364020175440172, 0.23670064849629124, 0.1208529903051624, 0.08268888810353217, 0.1491869449700091, 0.07690644837601243, 0.0474160057656618, 0.1775208996348558, 0.05840264124794929, 0.0907843037220598, 0.03006868658310261, 0.16653426415256828, 0.0043594237263897065, 0.1351421355180809, 0.06103193216945589, 0.03487538981111765, 0.7541803046654193, 0.0043594237263897065, 0.9638798902003811, 0.02403890705215574, 0.08012969017385248, 0.04006484508692624, 0.5288559551474263, 0.24840203953894266, 0.016025938034770495, 0.04006484508692624, 0.016025938034770495, 0.10709511328465622, 0.16064266992698434, 0.7228920146714295, 0.16744542863557757, 0.5431766343544345, 0.12456306276549063, 0.014294121956695646, 0.004084034844770185, 0.004084034844770185, 0.13885718472218628, 0.004084034844770185, 0.8212839950813706, 0.09988589129368021, 0.011098432365964467, 0.022196864731928934, 0.0332952970978934, 0.9520053073409399, 0.04262710331377343, 0.13717222274672394, 0.011431018562226995, 0.06858611137336197, 0.7773092622314357, 0.1490767055107657, 0.78265270393152, 0.10948531549183971, 0.8758825239347177, 0.02716821848247931, 0.950887646886776, 0.1522259698042478, 0.7230733565701771, 0.0761129849021239, 0.9863893430154311, 0.9618945315451545, 0.022902250751075107, 0.9211933732122486, 0.05070789210342653, 0.008451315350571087, 0.17232759208892873, 0.6893103683557149, 0.06893103683557149, 0.2241474018925124, 0.07471580063083746, 0.6724422056775372, 0.1575800597132062, 0.787900298566031, 0.20513896748567115, 0.05128474187141779, 0.717986386199849, 0.27111837353112456, 0.022091126732165706, 0.09639764392217763, 0.026107695228923106, 0.05623195895460362, 0.13053847614461553, 0.11447220215758594, 0.11045563366082853, 0.16869587686381085, 0.004016568496757402, 0.008206287033238127, 0.08001129857407174, 0.5744400923266689, 0.19489931703940552, 0.002051571758309532, 0.04923772219942876, 0.05744400923266689, 0.03282514813295251, 0.08960955388801668, 0.13441433083202503, 0.7616812080481418, 0.008960955388801668, 0.008392427009077785, 0.10070912410893341, 0.006294320256808338, 0.587469890635445, 0.11749397812708899, 0.002098106752269446, 0.06294320256808339, 0.018882960770425016, 0.07762994983396951, 0.01678485401815557, 0.010170966032679822, 0.24410318478431572, 0.008899595278594845, 0.49202048183088637, 0.059754425441993955, 0.0031784268852124444, 0.031784268852124445, 0.09026732354003342, 0.0228846735735296, 0.03750543724550685, 0.015624224421825041, 0.20051088008008805, 0.054684785476387644, 0.49737114409476385, 0.12499379537460033, 0.002604037403637507, 0.02604037403637507, 0.054684785476387644, 0.015624224421825041, 0.005208074807275014, 0.9106111182116268, 0.07956796178548195, 0.012562268729099607, 0.8542342735787732, 0.012562268729099607, 0.12562268729099607, 0.021614423634748095, 0.9150106005376694, 0.03602403939124683, 0.007204807878249364, 0.014409615756498729, 0.891684709596637, 0.022863710502477874, 0.04572742100495575, 0.022863710502477874, 0.023928039601270806, 0.4019910653013495, 0.04785607920254161, 0.009571215840508322, 0.16749627720889562, 0.07178411880381241, 0.028713647521524964, 0.04307047128228745, 0.20578114057092892, 0.037771925626525524, 0.1510877025061021, 0.037771925626525524, 0.037771925626525524, 0.7554385125305105, 0.005223385935906382, 0.036563701551344675, 0.005223385935906382, 0.03134031561543829, 0.015670157807719146, 0.15147819214128508, 0.036563701551344675, 0.7156038732191743, 0.184734629071086, 0.6597665323967358, 0.13195330647934717, 0.006007691230478574, 0.33643070890680016, 0.018023073691435722, 0.1141461333790929, 0.408523003672543, 0.10813844214861433, 0.015513094946346936, 0.96181188667351, 0.9824481235197293, 0.12738791635789729, 0.0020883264976704475, 0.22136260875306743, 0.054296488939431634, 0.029236570967386265, 0.04803150944642029, 0.01879493847903403, 0.24433420022744237, 0.0438548564510794, 0.2109209762647152, 0.0347616240742906, 0.1564273083343077, 0.011587208024763533, 0.13711529495970182, 0.11394087891017474, 0.0019312013374605888, 0.1911889324085983, 0.2414001671825736, 0.09656006687302944, 0.013518409362224123, 0.9793650055871699, 0.9706524155380978, 0.0038982024720405533, 0.01169460741612166, 0.01169460741612166, 0.021721082702314556, 0.010860541351157278, 0.07602378945810095, 0.04344216540462911, 0.8471222253902677, 0.159375492325784, 0.12142894653393066, 0.068303782425336, 0.007589309158370666, 0.015178618316741332, 0.053125164108594664, 0.030357236633482665, 0.5388409502443173, 0.97042778540735, 0.9735013568578569, 0.8422955687295954, 0.0259167867301414, 0.1036671469205656, 0.0129583933650707, 0.34120436335055665, 0.02843369694587972, 0.5686739389175944, 0.02843369694587972, 0.02843369694587972, 0.0028191030822017843, 0.14095515411008921, 0.11558322637027316, 0.13531694794568566, 0.26499568972696774, 0.050743855479632116, 0.04792475239743033, 0.17478439109651064, 0.03101013390421963, 0.03946744315082498, 0.2980278408019695, 0.6867598070654078, 0.9736060705356604, 0.8884825597703627, 0.0832952399784715, 0.0014310968053550754, 0.0014310968053550754, 0.0007155484026775377, 0.0014310968053550754, 0.988887892500357, 0.0014310968053550754, 0.0007155484026775377, 0.0014310968053550754, 0.0014310968053550754, 0.002146645208032613, 0.024105051124651878, 0.012052525562325939, 0.9159919427367713, 0.024105051124651878, 0.6884506237257655, 0.02257215159756608, 0.06395442952643722, 0.06395442952643722, 0.0075240505325220265, 0.0075240505325220265, 0.026334176863827094, 0.0827645558577423, 0.03762025266261013, 0.8651560742684731, 0.008594265638428541, 0.008594265638428541, 0.0028647552128095136, 0.10886069808676152, 0.0028647552128095136, 0.1432156823515762, 0.011016590950121245, 0.23134840995254616, 0.6059125022566685, 0.0036467713126698094, 0.007293542625339619, 0.0036467713126698094, 0.4667867280217356, 0.0036467713126698094, 0.5105479837737733, 0.8583152797047191, 0.04768418220581772, 0.0794736370096962, 0.8301841971871089, 0.12452762957806633, 0.5721544098682344, 0.0041162187760304635, 0.0041162187760304635, 0.020581093880152317, 0.008232437552060927, 0.008232437552060927, 0.1811136261453404, 0.0041162187760304635, 0.19346228247343178, 0.0041162187760304635, 0.0374393461447032, 0.93598365361758, 0.06341793039369897, 0.08455724052493198, 0.12683586078739795, 0.010569655065616497, 0.11626620572178147, 0.5813310286089073, 0.03975810895275087, 0.19879054476375435, 0.7554040701022665, 0.17420780835204086, 0.058069269450680285, 0.7549005028588437, 0.09966541973690611, 0.005862671749229772, 0.0820774044892168, 0.05276404574306794, 0.15242946547997405, 0.08794007623844657, 0.07035206099075726, 0.005862671749229772, 0.44556305294146265, 0.2777288897424839, 0.5323137053397607, 0.06943222243562097, 0.06943222243562097, 0.04628814829041398, 0.006502193982491769, 0.026008775929967077, 0.11703949168485184, 0.013004387964983538, 0.1495504615973107, 0.6827303681616358, 0.006502193982491769, 0.9624200943567692, 0.06890333386768, 0.06086461158311733, 0.15618089010007466, 0.062013000480911996, 0.09990983410813599, 0.15847766789566398, 0.10794855639269865, 0.11828405647285066, 0.07005172276547467, 0.09761305631254666, 0.004195301487075518, 0.008390602974151036, 0.06712482379320829, 0.5202173843973643, 0.046148316357830704, 0.004195301487075518, 0.033562411896604145, 0.31884291301773937, 0.35040617521008466, 0.003305718634057402, 0.003305718634057402, 0.019834311804344414, 0.5851121982281602, 0.01652859317028701, 0.019834311804344414, 0.42351323456260515, 0.014825434115377076, 0.06720863465637608, 0.011366166155122426, 0.02396778515319294, 0.11687383894288929, 0.1581379638973555, 0.04472339291472085, 0.08277534047752201, 0.056089559069843274, 0.12539084903873704, 0.008956489217052646, 0.008956489217052646, 0.8060840295347381, 0.035825956868210586, 0.26079089354458423, 0.5476608764436268, 0.18255362548120896, 0.1780570921966847, 0.09892060677593593, 0.039568242710374374, 0.5737395193004284, 0.019784121355187187, 0.05935236406556157, 0.039568242710374374, 0.20456742505139197, 0.12007218426929529, 0.020012030711549215, 0.12451930220519511, 0.11562506633339546, 0.17566115846804312, 0.0711538869743972, 0.060036092134647646, 0.06670676903849738, 0.037800502455148516, 0.6095822080828281, 0.16255525548875416, 0.04063881387218854, 0.16255525548875416, 0.04162082790554717, 0.6243124185832076, 0.16648331162218868, 0.08324165581109434, 0.04162082790554717, 0.08534919552643488, 0.024385484436124254, 0.12192742218062126, 0.40236049319605016, 0.05486733998127957, 0.17679476216190085, 0.12802379328965233, 0.8137173097648556, 0.02034293274412139, 0.1424005292088497, 0.09617785221280552, 0.06869846586628965, 0.013739693173257931, 0.7282037381826704, 0.06869846586628965, 0.007061011232350083, 0.0776711235558509, 0.04589657301027553, 0.03883556177792545, 0.007061011232350083, 0.0035305056161750413, 0.21183033697050246, 0.02471353931322529, 0.5825334266688819, 0.9567958172713469, 0.03656544524603873, 0.0030471204371698944, 0.02453594855620276, 0.006691622333509843, 0.14944623211505317, 0.026766489334039373, 0.03568865244538583, 0.1717516398934193, 0.20744029233880515, 0.22974570011717127, 0.04014973400105906, 0.10483541655832088, 0.006250619207885656, 0.15001486098925576, 0.003125309603942828, 0.4219167965322818, 0.36878653326525374, 0.006250619207885656, 0.009375928811828485, 0.03125309603942828, 0.8543837957008273, 0.04068494265242035, 0.04068494265242035, 0.5178422538934586, 0.0663090690961136, 0.2557635522278668, 0.006315149437725105, 0.15156358650540253, 0.0031575747188625526, 0.003170602468523399, 0.08402096541587008, 0.009511807405570198, 0.13316530367798277, 0.004755903702785099, 0.003170602468523399, 0.009511807405570198, 0.004755903702785099, 0.7403356764002137, 0.006341204937046798, 0.8231321896949122, 0.10289152371186402, 0.03429717457062134, 0.7661441018396342, 0.17025424485325205, 0.0025839979724196654, 0.04392796553113431, 0.015503987834517993, 0.12403190267614395, 0.8087913653673553, 0.0025839979724196654, 0.0025839979724196654, 0.006594531828645184, 0.8671809354668417, 0.013189063657290369, 0.009891797742967777, 0.06924258420077443, 0.006594531828645184, 0.009891797742967777, 0.003297265914322592, 0.013189063657290369, 0.003297265914322592, 0.9605667651570944, 0.02825196368109101, 0.0098105158505959, 0.8387991052259495, 0.02452628962648975, 0.08338938473006514, 0.0098105158505959, 0.00490525792529795, 0.00490525792529795, 0.0196210317011918, 0.00490525792529795, 0.3060460176089745, 0.6733012387397439, 0.0026447564689170565, 0.08992171994317992, 0.010579025875668226, 0.5897806925685036, 0.21422527398228158, 0.021158051751336452, 0.05289512937834113, 0.00793426940675117, 0.00793426940675117, 0.9421801245108476, 0.677434353443418, 0.006707270826172455, 0.0033536354130862273, 0.0033536354130862273, 0.05030453119629341, 0.1945108539590012, 0.02347544789160359, 0.006707270826172455, 0.03353635413086227, 0.12480484153001441, 0.8424326803275972, 0.025477159057707144, 0.04246193176284524, 0.04246193176284524, 0.11040102258339764, 0.7643147717312143, 0.8928774744608714, 0.013426728939261225, 0.06713364469630613, 0.02014009340889184, 0.797783364919908, 0.008140646580815387, 0.008140646580815387, 0.02442193974244616, 0.008140646580815387, 0.008140646580815387, 0.1221096987122308, 0.02442193974244616, 0.08631800907927119, 0.6374252978161564, 0.01327969370450326, 0.2589540272378136, 0.0213724309886193, 0.1068621549430965, 0.03205864648292895, 0.0213724309886193, 0.13892080142602545, 0.673231576141508, 0.009423242648127467, 0.018846485296254933, 0.3675064632769712, 0.018846485296254933, 0.5088551029988831, 0.018846485296254933, 0.009423242648127467, 0.03769297059250987, 0.01102309344302207, 0.01102309344302207, 0.01102309344302207, 0.9590091295429202, 0.027507164755579502, 0.8710602172600176, 0.09169054918526501, 0.32875237033729093, 0.05753166480902591, 0.6081918851239881, 0.2040726101623484, 0.058306460046385254, 0.7288307505798157, 0.2581081655422094, 0.05746203685428749, 0.02826001812505942, 0.05275203383344425, 0.044274028395926424, 0.06405604108346802, 0.07912805075016638, 0.11963407672941821, 0.04898403141676966, 0.2468041582921856, 0.010940995548943556, 0.002735248887235889, 0.9381903683219099, 0.02735248887235889, 0.005470497774471778, 0.002735248887235889, 0.002735248887235889, 0.008205746661707668, 0.1709238800704935, 0.16237768606696884, 0.025638582010574024, 0.08118884303348442, 0.05555026102291039, 0.3247553721339377, 0.004273097001762338, 0.021365485008811688, 0.08118884303348442, 0.07264264902995975, 0.9759978497755738, 0.1475793548530036, 0.701001935551767, 0.0737896774265018, 0.0737896774265018, 0.2117754049894559, 0.7714675467473037, 0.8829109159147421, 0.07677486225345584, 0.01919371556336396, 0.1401940471822292, 0.11215523774578336, 0.01401940471822292, 0.5747955934471397, 0.1401940471822292, 0.7691677710073921, 0.20065246200192838, 0.6714959448158695, 0.004446993012025626, 0.022234965060128127, 0.04891692313228188, 0.04002293710823063, 0.19566769252912752, 0.004446993012025626, 0.004446993012025626, 0.9564155189435011, 0.01594025864905835, 0.01594025864905835, 0.025189368615147298, 0.0755681058454419, 0.8816279015301555, 0.08083379271402447, 0.08083379271402447, 0.02694459757134149, 0.7005595368548787, 0.05388919514268298, 0.02694459757134149, 0.27360326864784174, 0.011895794289036596, 0.7137476573421958, 0.1277320349675903, 0.8369809659718418, 0.026890954730019012, 0.006722738682504753, 0.935650161160176, 0.6420500584572465, 0.3477771149976752, 0.06762224124051443, 0.9241706302870305, 0.9568835991485481, 0.28182024068836686, 0.46372239604176724, 0.002562002188076062, 0.21777018598646528, 0.015372013128456373, 0.007686006564228186, 0.007686006564228186, 0.002562002188076062, 0.03953452959995169, 0.8796432835989251, 0.009883632399987923, 0.059301794399927533, 0.009883632399987923, 0.0020439667842162704, 0.9913238903448911, 0.004087933568432541, 0.024045062703365105, 0.07213518811009532, 0.8896673200245089, 0.03916197626068008, 0.07832395252136017, 0.1370669169123803, 0.5482676676495212, 0.01958098813034004, 0.11748592878204026, 0.05874296439102013, 0.6455613547489693, 0.11227153995634248, 0.02806788498908562, 0.11227153995634248, 0.08420365496725686, 0.01779238327664525, 0.142339066213162, 0.7561762892574232, 0.01779238327664525, 0.04448095819161313, 0.008896191638322625, 0.01779238327664525, 0.12797193564297785, 0.003458700963323726, 0.006917401926647452, 0.003458700963323726, 0.8162534273443992, 0.003458700963323726, 0.03112830866991353, 0.003458700963323726, 0.7166397373520058, 0.09772360054800079, 0.16287266758000132, 0.9618618492793553, 0.3185635324247733, 0.013850588366294492, 0.013850588366294492, 0.6509776532158411, 0.028540104007813896, 0.17343601666286904, 0.09879266771935578, 0.07244795632752758, 0.07464334894351327, 0.3293088923978526, 0.07683874155949895, 0.08781570463942737, 0.024149318775842525, 0.03293088923978526, 0.015039515938697155, 0.015039515938697155, 0.10527661157088009, 0.6015806375478862, 0.04511854781609146, 0.015039515938697155, 0.12031612750957724, 0.07519757969348577, 0.3111091518016827, 0.011965736607757026, 0.6341840402111224, 0.03589720982327108, 0.013725064457005809, 0.009150042971337206, 0.2790763106257848, 0.09150042971337206, 0.1372506445700581, 0.027450128914011617, 0.004575021485668603, 0.11895055862738367, 0.009150042971337206, 0.311101461025465, 0.027794366095183803, 0.027794366095183803, 0.1667661965711028, 0.7504478845699627, 0.8517764429229577, 0.0038110802815344864, 0.0019055401407672432, 0.0057166204223017296, 0.0038110802815344864, 0.0019055401407672432, 0.03239418239304313, 0.02477202182997416, 0.026677561970741403, 0.04954404365994832, 0.9597185887192335, 0.9690178539564219, 0.11065742075550618, 0.022131484151101236, 0.6418130403819359, 0.22131484151101236, 0.9543543576206811, 0.006536673682333433, 0.02614669472933373, 0.3180801041420637, 0.03940815449547692, 0.0028148681782483513, 0.030963549960731866, 0.01970407724773846, 0.5151208766194483, 0.0028148681782483513, 0.06755683627796044, 0.0028148681782483513, 0.0028148681782483513, 0.027006702194800128, 0.9654896034641046, 0.014349486568142491, 0.12914537911328242, 0.44961724580179807, 0.0956632437876166, 0.01913264875752332, 0.01913264875752332, 0.10044640597699744, 0.08131375721947412, 0.07653059503009328, 0.00956632437876166, 0.1686054706751882, 0.04215136766879705, 0.0843027353375941, 0.6744218827007528, 0.9767187330961862, 0.019084704257240695, 0.9542352128620347, 0.9683283635343164, 0.0019000733696693803, 0.0019000733696693803, 0.9899382255977472, 0.0019000733696693803, 0.11270292125489327, 0.7756612815777949, 0.013259167206458032, 0.013259167206458032, 0.013259167206458032, 0.059666252429061144, 0.013259167206458032, 0.011735984576371672, 0.5163833213603536, 0.019559974293952787, 0.043031943446696135, 0.19168774808073732, 0.007823989717581114, 0.17995176350436565, 0.027383964011533903, 0.3562680920873706, 0.0290831095581527, 0.6034745233316685, 0.007270777389538175, 0.013115728895811137, 0.10055392153455205, 0.16613256601360774, 0.0043719096319370454, 0.6995055411099272, 0.0043719096319370454, 0.013115728895811137, 0.9829716385577795, 0.29615926266835074, 0.007593827247906429, 0.5923185253367015, 0.09871975422278358, 0.5863282983840479, 0.03274705921825799, 0.07640980484260199, 0.062375350891919985, 0.0015593837722979995, 0.12007255046694597, 0.0015593837722979995, 0.007796918861489998, 0.028068907901363994, 0.08420672370409198, 0.9605015434185231, 0.10645568973811328, 0.8908660351768427, 0.802855291293105, 0.0544308672063122, 0.04082315040473415, 0.04082315040473415, 0.0272154336031561, 0.0272154336031561, 0.01360771680157805, 0.15659267797953436, 0.8221115593925553, 0.9734916901082726, 0.8199171413228848, 0.06559337130583079, 0.032796685652915394, 0.032796685652915394, 0.07227922573893805, 0.018069806434734513, 0.8854205153019911, 0.02359673129964745, 0.09101596358435445, 0.20562865846835632, 0.07753211712741304, 0.0876450019701191, 0.030338654528118146, 0.030338654528118146, 0.2629350059103573, 0.10112884842706049, 0.09101596358435445, 0.26680662945643907, 0.007847253807542325, 0.03923626903771163, 0.04708352284525395, 0.023541761422626976, 0.5650022741430475, 0.04708352284525395, 0.3701202086887744, 0.023314658815040905, 0.23606092050228916, 0.005828664703760226, 0.02622899116692102, 0.335148220466213, 0.002914332351880113, 0.016857420618365204, 0.01123828041224347, 0.764203068032556, 0.05057226185509562, 0.005619140206121735, 0.13485936494692163, 0.01123828041224347, 0.7622023963576728, 0.1345063052395893, 0.08967087015972622, 0.22572883321783446, 0.07148079718564758, 0.0827672388465393, 0.003762147220297241, 0.003762147220297241, 0.41759834145299374, 0.007524294440594482, 0.011286441660891723, 0.003762147220297241, 0.17682091935397032, 0.16136856839129293, 0.17212647295071246, 0.08337376033550134, 0.03496318981811347, 0.010757904559419528, 0.4383846107963458, 0.002689476139854882, 0.09144218875506599, 0.005378952279709764, 0.07257841267128902, 0.852796348887646, 0.03628920633564451, 0.03628920633564451, 0.8268355323034786, 0.014505886531639976, 0.14505886531639975, 0.9475746718046912, 0.031585822393489706, 0.08717995320604047, 0.17435990641208093, 0.741029602251344, 0.21662698586035076, 0.03477956195005631, 0.1222253177101979, 0.050678790270082055, 0.09638907169015606, 0.003974807080006436, 0.14905526550024134, 0.010930719470017699, 0.2881735133004666, 0.028817351330046658, 0.004258165503900045, 0.0007096942506500077, 0.0007096942506500077, 0.0014193885013000153, 0.9807974543983106, 0.0014193885013000153, 0.0007096942506500077, 0.0021290827519500227, 0.0035484712532500382, 0.0035484712532500382, 0.8670717205080765, 0.10404860646096918, 0.16162315673207037, 0.00404057891830176, 0.028284052428112317, 0.00808115783660352, 0.08081157836603518, 0.028284052428112317, 0.00808115783660352, 0.6586143636831868, 0.024243473509810556, 0.04464407039960442, 0.9375254783916929, 0.08772931876114645, 0.05848621250743097, 0.6224604045433725, 0.22141209020670297, 0.006266379911510461, 0.05544122545463483, 0.9286405263651333, 0.10016394588661887, 0.05437471348130738, 0.014309135126659838, 0.03148009727865164, 0.0028618270253319674, 0.792726086016955, 0.8753522837650143, 0.017864332321734986, 0.02679649848260248, 0.017864332321734986, 0.06252516312607245, 0.051929981868643914, 0.0649124773358049, 0.03245623866790245, 0.03245623866790245, 0.2336849184088976, 0.1298249546716098, 0.4154398549491513, 0.006491247733580489, 0.03245623866790245, 0.04329243118016142, 0.25975458708096855, 0.6782480884891956, 0.02877936050125316, 0.9497188965413543, 0.049844761126293734, 0.1495342833788812, 0.7725937974575529, 0.032361594706096765, 0.6472318941219353, 0.12944637882438706, 0.16180797353048382, 0.172126918270453, 0.7376867925876558, 0.07376867925876558, 0.01229477987646093, 0.10417407841138239, 0.03170515429911638, 0.8605684738331589, 0.06177042823430932, 0.03088521411715466, 0.7103599246945571, 0.18531128470292796, 0.04347643263711486, 0.010869108159278716, 0.015216751422990202, 0.5956271271284737, 0.11521254648835438, 0.06304082732381655, 0.04347643263711486, 0.10216961669721993, 0.010869108159278716, 0.945139969658564, 0.02250333261091819, 0.9774068021803243, 0.013962954316861776, 0.747485789749641, 0.04396975233821417, 0.1758790093528567, 0.02342598467333923, 0.004685196934667846, 0.7777426911548624, 0.060907560150681994, 0.009370393869335691, 0.009370393869335691, 0.1124447264320283, 0.004685196934667846, 0.25412564812147087, 0.01815183200867649, 0.6534659523123537, 0.07260732803470596, 0.7798937393008866, 0.022124645086549974, 0.0055311612716374935, 0.12168554797602486, 0.0055311612716374935, 0.055311612716374935, 0.0055311612716374935, 0.19067860771777917, 0.0836754528548765, 0.03702004883882415, 0.0836754528548765, 0.07049022998077475, 0.13286647665440995, 0.17343639319010765, 0.05223376753971078, 0.005578363523658434, 0.17039364944993032, 0.974272192583065, 0.014114571396616033, 0.14114571396616032, 0.6633848556409535, 0.014114571396616033, 0.08468742837969619, 0.014114571396616033, 0.07057285698308016, 0.005471764863400624, 0.25170118371642874, 0.016415294590201874, 0.5635917809302643, 0.08754823781440998, 0.010943529726801248, 0.027358824317003122, 0.03283058918040375, 0.05685775156462431, 0.909724025033989, 0.9329012368099618, 0.025913923244721162, 0.04368518523381753, 0.7426481489748981, 0.1310555557014526, 0.04368518523381753, 0.8500023221585755, 0.11590940756707849, 0.22751894437425857, 0.7280606219976274, 0.018058376186020183, 0.009029188093010091, 0.2076713261392321, 0.21670051423224218, 0.5327220974875954, 0.009029188093010091, 0.0857194907871484, 0.005042322987479318, 0.020169291949917272, 0.10588878273706567, 0.6857559262971872, 0.005042322987479318, 0.015126968962437953, 0.08067716779966909, 0.2986258331809094, 0.6661653201727978, 0.010861586669709216, 0.9015116935858649, 0.010861586669709216, 0.0651695200182553, 0.010861586669709216, 0.8637186311686367, 0.007924024139161805, 0.06339219311329444, 0.055468168974132634, 0.03864079578725659, 0.850097507319645, 0.03864079578725659, 0.07728159157451318, 0.007957686252840568, 0.015915372505681136, 0.2375063281617031, 0.04407333924650161, 0.08447390022246141, 0.042849079822987676, 0.018363891352709005, 0.38625384811864605, 0.029382226164334405, 0.1328321474512618, 0.0052540912311352305, 0.021016364924540922, 0.11559000708497508, 0.7250645898966619, 0.12609818954724555, 0.07605440241141179, 0.8746256277312355, 0.01943601130892791, 0.09718005654463956, 0.5927983449223013, 0.13605207916249537, 0.14577008481695933, 0.022833388513080276, 0.03425008276962041, 0.06850016553924082, 0.07991685979578096, 0.1255836368219415, 0.662168266879328, 0.011416694256540138, 0.07705497649700017, 0.9128051061952328, 0.17092717696332957, 0.034185435392665914, 0.7862650140313161, 0.034185435392665914, 0.08858759424252433, 0.1328813913637865, 0.797288348182719, 0.9232165114111927, 0.31856875678387114, 0.661642802551117, 0.9710006878551186, 0.33730360414720456, 0.013492144165888183, 0.6341307757967446, 0.9357319204208648, 0.023393298010521618, 0.327591950283138, 0.01169971251011207, 0.6434841880561638, 0.02546834988226596, 0.01273417494113298, 0.05093669976453192, 0.9041264208204415, 0.9796461819065839, 0.07947625867846589, 0.04967266167404118, 0.1986906466961647, 0.5265302137448366, 0.059607194008849416, 0.039738129339232944, 0.029803597004424708, 0.001797572050405677, 0.9868670556727166, 0.007190288201622708, 0.001797572050405677, 0.37298425028386306, 0.01963075001494016, 0.006543583338313386, 0.032717916691566935, 0.013087166676626773, 0.5562045837566378, 0.21341739142888458, 0.007113913047629486, 0.7683026091439844, 0.009310027093811414, 0.9775528448501986, 0.9470014509253245, 0.0420550350395399, 0.14952901347391964, 0.0420550350395399, 0.11214676010543974, 0.406532005382219, 0.07009172506589983, 0.004672781671059989, 0.1261651051186197, 0.03738225336847991, 0.015853899549022308, 0.05284633183007436, 0.1321158295751859, 0.09512339729413385, 0.10040803047714128, 0.04227706546405949, 0.015853899549022308, 0.47561698647066925, 0.06870023137909667, 0.010569266366014872, 0.745157180852484, 0.03788934817893986, 0.025259565452626576, 0.17681695816838602, 0.012629782726313288, 0.012629782726313288, 0.21378447405951226, 0.030540639151358896, 0.7024347004812546, 0.030540639151358896, 0.050803021963602486, 0.9398559063266461, 0.03184679266028611, 0.9554037798085833, 0.004356410305179877, 0.20039487403827436, 0.008712820610359754, 0.33108718319367064, 0.013069230915539631, 0.026138461831079263, 0.4007897480765487, 0.013069230915539631, 0.040224553563310735, 0.6435928570129718, 0.18101049103489833, 0.12067366068993221, 0.8706561795092053, 0.017413123590184106, 0.10447874154110463, 0.1359677082186504, 0.045322569406216796, 0.01087741665749203, 0.3353870136060043, 0.06526449994495219, 0.012690319433740703, 0.13052899988990438, 0.054387083287460156, 0.20304511093985125, 0.005438708328746015, 0.07213979205107211, 0.0028855916820428843, 0.7906521208797503, 0.04039828354860038, 0.04039828354860038, 0.014427958410214423, 0.0375126918665575, 0.10040973189195865, 0.8925309501507436, 0.9592667390008891, 0.03319887782580537, 0.9295685791225503, 0.01362048078511133, 0.02724096157022266, 0.9398131741726817, 0.08904423116911177, 0.1558274045459456, 0.7123538493528941, 0.10685517454978458, 0.07771285421802515, 0.032380355924177144, 0.17161588639813888, 0.12304535251187315, 0.09066499658769601, 0.038856427109012576, 0.32704159483418915, 0.025904284739341716, 0.006476071184835429, 0.9677239556466826, 0.7309909305019029, 0.12603291905205222, 0.025206583810410445, 0.07561975143123134, 0.5424166034161942, 0.04739562554122085, 0.002633090307845603, 0.1737839603178098, 0.002633090307845603, 0.03159708369414724, 0.002633090307845603, 0.19748177308842021, 0.944724940748841, 0.01858616844829082, 0.9478945908628319, 0.01858616844829082, 0.9499980666199525, 0.05731493660632151, 0.016375696173234717, 0.09006632895279094, 0.09825417703940831, 0.6959670873624755, 0.024563544259852077, 0.016375696173234717, 0.024433288089372174, 0.2931994570724661, 0.012216644044686087, 0.6474821343683627, 0.05234499688472852, 0.9422099439251133, 0.8622162531758436, 0.01064464510093634, 0.10999466604300885, 0.014192860134581788, 0.003548215033645447, 0.0026674877774915287, 0.7495640654751196, 0.008002463332474586, 0.11470197443213574, 0.005334975554983057, 0.029342365552406817, 0.0026674877774915287, 0.08535960887972892, 0.055359457324342304, 0.14147416871776367, 0.046132881103618587, 0.3137035915046064, 0.009226576220723717, 0.015377627034539529, 0.1568517957523032, 0.03383077947598696, 0.1660783719730269, 0.061510508138158115, 0.09556994203346517, 0.019113988406693032, 0.2293678608803164, 0.6498756058275631, 0.9580116149409253, 0.9446489357312658, 0.2863038719313879, 0.687129292635331, 0.6553437604071211, 0.10922396006785351, 0.10922396006785351, 0.10922396006785351, 0.9546336987350081, 0.027872516751387102, 0.013936258375693551, 0.10614361975634427, 0.09797872592893318, 0.008164893827411097, 0.008164893827411097, 0.08981383210152208, 0.5388829926091324, 0.08164893827411097, 0.07348404444669988, 0.8424540558908868, 0.012960831629090567, 0.12960831629090566, 0.007169475071463059, 0.8818454337899563, 0.09320317592901976, 0.007169475071463059, 0.007169475071463059, 0.03706179537766483, 0.8153594983086263, 0.1297162838218269, 0.018530897688832416, 0.034909889591912165, 0.9425670189816284, 0.3531264602068052, 0.0013957567597106925, 0.009770297317974849, 0.02791513519421385, 0.015353324356817619, 0.01116605407768554, 0.45780821718510717, 0.0013957567597106925, 0.019540594635949697, 0.10189024345888055, 0.015124988132906803, 0.9642179934728087, 0.0025208313554844672, 0.0037812470332267006, 0.0012604156777422336, 0.0037812470332267006, 0.008822909744195634, 0.8650340002748745, 0.08826877553825249, 0.0176537551076505, 0.0176537551076505, 0.008198987214352098, 0.9838784657222517, 0.9510805576027226, 0.005212736842592355, 0.007819105263888532, 0.0026063684212961776, 0.8783461579768118, 0.007819105263888532, 0.0026063684212961776, 0.0026063684212961776, 0.08340378948147768, 0.01042547368518471, 0.03681700937863511, 0.9204252344658777, 0.011416211924397533, 0.8333834704810199, 0.0684972715463852, 0.022832423848795066, 0.04566484769759013, 0.022832423848795066, 0.5300158288509897, 0.08701752413971472, 0.051419446082558704, 0.013843697022227344, 0.001977671003175335, 0.01779903902857801, 0.023732052038104016, 0.05735245909208471, 0.03164273605080536, 0.18590107429848146, 0.03920342990290997, 0.9016788877669293, 0.03920342990290997, 0.615679259100744, 0.030592758216186035, 0.022944568662139526, 0.030592758216186035, 0.0038240947770232544, 0.0420650425472558, 0.03824094777023254, 0.007648189554046509, 0.011472284331069763, 0.18738064407413946, 0.0072985715992945925, 0.10947857398941889, 0.0072985715992945925, 0.8612314487167619, 0.011530895805755656, 0.1499016454748235, 0.06918537483453394, 0.7610391231798732, 0.9485809236518774, 0.7383287553764281, 0.09229109442205351, 0.15689486051749096, 0.009229109442205351, 0.6961872353172524, 0.1718980827943833, 0.017189808279438328, 0.008594904139719164, 0.09454394553691081, 0.9441408744694314, 0.04463211406582767, 0.003433239543525205, 0.003433239543525205, 0.01950195623886049, 0.06825684683601171, 0.09750978119430245, 0.5850586871658147, 0.03900391247772098, 0.03900391247772098, 0.11701173743316294, 0.03900391247772098, 0.008856157406163356, 0.008856157406163356, 0.017712314812326713, 0.008856157406163356, 0.08856157406163356, 0.035424629624653425, 0.7084925924930685, 0.10627388887396028, 0.20126901726622395, 0.7715312328538585, 0.9378318191598399, 0.025346805923238916, 0.025346805923238916, 0.018034701749806124, 0.0721388069992245, 0.8115615787412755, 0.0721388069992245, 0.46608846211546745, 0.5255891168536122, 0.09518165426248837, 0.13536946383998347, 0.09518165426248837, 0.10998768936998655, 0.16498153405497984, 0.046533253194994316, 0.06768473191999173, 0.18190271703497776, 0.04230295744999483, 0.06345443617499225, 0.8418445359755072, 0.01137627751318253, 0.01137627751318253, 0.02275255502636506, 0.02275255502636506, 0.07963394259227771, 0.02275255502636506, 0.05181926725415972, 0.15545780176247917, 0.751379375185316, 0.03351522413975141, 0.08445836483217355, 0.14612637724931613, 0.10322689035043432, 0.10188628138484428, 0.21181621656322888, 0.05630557655478236, 0.08445836483217355, 0.10188628138484428, 0.0764147110386332, 0.36245011316047265, 0.6325109817898444, 0.2710791019726686, 0.011570449474443172, 0.21322685460045274, 0.011570449474443172, 0.07934022496761033, 0.13058078692585864, 0.01983505624190258, 0.2330619108423553, 0.02975258436285387, 0.3312890279463728, 0.06065855441271615, 0.004666042647132012, 0.013998127941396035, 0.02799625588279207, 0.009332085294264023, 0.5459269897144453, 0.3113970210562074, 0.09406785011072932, 0.0032437189693354943, 0.5903568524190599, 0.4837352389726011, 0.06860245207247798, 0.019349409558904046, 0.11081934565554136, 0.16183142540174292, 0.005277111697882922, 0.042216893583063374, 0.014072297861021123, 0.04749400528094629, 0.04749400528094629, 0.0028068452201036407, 0.1740244036464257, 0.0028068452201036407, 0.19647916540725482, 0.46874315175730796, 0.019647916540725483, 0.042102678301554605, 0.019647916540725483, 0.03368214264124369, 0.03648898786134733, 0.012245311366680549, 0.9428889752344023, 0.01959249818668888, 0.00734718682000833, 0.00734718682000833, 0.00489812454667222, 0.00734718682000833, 0.020518702228075607, 0.9643790047195535, 0.010873331675895322, 0.14720818268904437, 0.011709741804810346, 0.02843794438311084, 0.12713433959508377, 0.002509230386745074, 0.03345640515660099, 0.36634763646478086, 0.06942204069994705, 0.202411251197436, 0.9805596123790583, 0.006857060226426981, 0.002285686742142327, 0.004571373484284654, 0.004571373484284654, 0.04549171259061397, 0.1592209940671489, 0.022745856295306986, 0.7506132577451305, 0.08642027950908145, 0.12963041926362218, 0.1080253493863518, 0.6697571661953812, 0.020326752756746034, 0.036842239371602185, 0.2934674929255209, 0.015245064567559526, 0.015245064567559526, 0.2286759685133929, 0.10417460787832343, 0.07114363464861112, 0.01270422047296627, 0.20326752756746033, 0.714606075088673, 0.09905430743803388, 0.0919789997638886, 0.007075307674145277, 0.04952715371901694, 0.035376538370726386, 0.8812058077559541, 0.07891395293336903, 0.013152325488894839, 0.013152325488894839, 0.20526302394901913, 0.7799994910062726, 0.7992162716447202, 0.07992162716447201, 0.07992162716447201, 0.03996081358223601, 0.016364226961297343, 0.9619827706534081, 0.0011688733543783816, 0.003506620063135145, 0.0011688733543783816, 0.003506620063135145, 0.009350986835027053, 0.0885537625146734, 0.024598267365187054, 0.004919653473037411, 0.029517920838224465, 0.004919653473037411, 0.3984919313160303, 0.06887514862252375, 0.1820271785023842, 0.10823237640682304, 0.0934734159877108, 0.9517945595899759, 0.9915832789050648, 0.8206191522760553, 0.12009060765015443, 0.02001510127502574, 0.8924637780791124, 0.08366847919491678, 0.9905647560006849, 0.1125677814675654, 0.6979202450989054, 0.15759489405459154, 0.02251355629351308, 0.8236638399071241, 0.01961104380731248, 0.13727730665118734, 0.9527525739178978, 0.029773517934934306, 0.5859913572979538, 0.04687930858383631, 0.2812758515030178, 0.07031896287575445, 0.741913746295869, 0.05176142416017691, 0.14665736845383456, 0.025880712080088453, 0.025880712080088453, 0.7678172152924984, 0.09772219103722705, 0.0558412520212726, 0.04188093901595445, 0.01396031300531815, 0.19429668062874453, 0.07378354960585236, 0.002459451653528412, 0.447620200942171, 0.002459451653528412, 0.002459451653528412, 0.19675613228227296, 0.002459451653528412, 0.022135064881755706, 0.051648484724096645, 0.9727057580563733, 0.029233925436447462, 0.8458349092945465, 0.04872320906074577, 0.040927495611026446, 0.0019489283624298309, 0.011693570174578985, 0.005846785087289493, 0.011693570174578985, 0.0038978567248596618, 0.006934174359976337, 0.08321009231971604, 0.30510367183895887, 0.0554733948798107, 0.513128902638249, 0.02080252307992901, 0.02080252307992901, 0.9792079466661504, 0.21573206363763092, 0.00814083259009928, 0.056985828130694964, 0.044774579245546044, 0.31749247101387196, 0.03256333036039712, 0.22794331252277986, 0.02442249777029784, 0.028492914065347482, 0.0407041629504964, 0.08378061339560959, 0.13113487314095415, 0.09652983717320235, 0.13113487314095415, 0.09288720180817585, 0.11110037863330836, 0.10381510790325536, 0.11110037863330836, 0.06374611888796382, 0.07649534266555659, 0.09686734867067885, 0.8395170218125501, 0.032289116223559615, 0.0028100507605562297, 0.00843015228166869, 0.0028100507605562297, 0.0028100507605562297, 0.0028100507605562297, 0.0028100507605562297, 0.0028100507605562297, 0.9722775631524555, 0.005620101521112459, 0.1778450486088014, 0.010461473447576553, 0.010461473447576553, 0.0679995774092476, 0.010461473447576553, 0.7113801944352056, 0.005230736723788276, 0.7621453114490001, 0.026586464352872097, 0.11520801219577909, 0.08862154784290699, 0.0023072997024011035, 0.05998979226242868, 0.023072997024011034, 0.1407452818464673, 0.7683308008995674, 0.0023072997024011035, 0.0023072997024011035, 0.0023072997024011035, 0.29389834320619024, 0.009636011252661975, 0.009636011252661975, 0.014454016878992964, 0.6167047201703664, 0.01927202250532395, 0.03372603938431691, 0.5898660865073541, 0.00926491235351865, 0.027794737060555953, 0.0061766082356791005, 0.015441520589197752, 0.08956081941734696, 0.052501170003272354, 0.15750351000981705, 0.04632456176759325, 0.07728003858645319, 0.030912015434581275, 0.32678416316557346, 0.008832004409880363, 0.033120016537051364, 0.11923205953338492, 0.015456007717290637, 0.07948803968892328, 0.026496013229641093, 0.2826241411161716, 0.9071273266232761, 0.07559394388527302, 0.9537816023421293, 0.023844540058553233, 0.03809597687988904, 0.016508256647951917, 0.41905574567877946, 0.052064501735848354, 0.07238235607178918, 0.10285913757570041, 0.02920691560791493, 0.15873323699953767, 0.012698658959963013, 0.09777967399171521, 0.02249630763604216, 0.01124815381802108, 0.026245692242049184, 0.1687223072703162, 0.13497784581625294, 0.6336459984151874, 0.27902834792452114, 0.7175014660916258, 0.9653358755226483, 0.013596279936938708, 0.013596279936938708, 0.006798139968469354], \"Term\": [\"#\", \"#\", \"#\", \"#\", \"#\", \"#\", \"#\", \"#\", \"#\", \"#\", \"%\", \"%\", \"%\", \"%\", \"%\", \"2a\", \"2a\", \"@cnn\", \"@cnn\", \"@flotus\", \"@foxandfriend\", \"@foxandfriend\", \"@foxandfriend\", \"@foxandfriend\", \"@foxandfriend\", \"@foxandfriend\", \"@foxandfriend\", \"@foxandfriend\", \"@foxnews\", \"@foxnews\", \"@foxnews\", \"@foxnews\", \"@foxnews\", \"@foxnews\", \"@foxnews\", \"@nytime\", \"@nytime\", \"@nytime\", \"@seanhannity\", \"@seanhannity\", \"@seanhannity\", \"@seanhannity\", \"@whitehouse\", \"@whitehouse\", \"@whitehouse\", \"@whitehouse\", \"@whitehouse\", \"a.m.\", \"a.m.\", \"a.m.\", \"abc\", \"abc\", \"abe\", \"adam\", \"adam\", \"adam\", \"adam\", \"adam\", \"adam\", \"adam\", \"administration\", \"administration\", \"administration\", \"administration\", \"administration\", \"administration\", \"advocate\", \"advocate\", \"agenda\", \"agenda\", \"agenda\", \"agenda\", \"agenda\", \"agenda\", \"agenda\", \"agenda\", \"agent\", \"agent\", \"agent\", \"agents\", \"agents\", \"agreement\", \"agreement\", \"agricultural\", \"aid\", \"alien\", \"alien\", \"amazing\", \"amazing\", \"amazing\", \"amazing\", \"amazing\", \"amazing\", \"amazon\", \"amazon\", \"amazon\", \"amazon\", \"amendment\", \"amendment\", \"amendment\", \"america\", \"america\", \"america\", \"america\", \"america\", \"america\", \"america\", \"america\", \"america\", \"america\", \"americafirst\", \"americafirst\", \"americafirst\", \"americafirst\", \"americafirst\", \"american\", \"american\", \"american\", \"american\", \"american\", \"american\", \"american\", \"american\", \"american\", \"american\", \"amount\", \"amount\", \"amount\", \"amp\", \"amp\", \"amp\", \"amp\", \"amp\", \"amp\", \"amp\", \"amp\", \"amp\", \"amp\", \"anarchist\", \"approval\", \"approval\", \"approval\", \"approval\", \"approval\", \"arabia\", \"attorney\", \"attorney\", \"attorney\", \"attorney\", \"attorney\", \"away\", \"away\", \"away\", \"away\", \"away\", \"away\", \"away\", \"away\", \"bad\", \"bad\", \"bad\", \"bad\", \"bad\", \"bad\", \"bad\", \"bad\", \"bad\", \"bad\", \"ballot\", \"ballot\", \"ballot\", \"ballot\", \"ballot\", \"ballot\", \"bernie\", \"bernie\", \"bernie\", \"bernie\", \"biased\", \"biden\", \"biden\", \"biden\", \"biden\", \"biden\", \"biden\", \"biden\", \"biden\", \"biden\", \"big\", \"big\", \"big\", \"big\", \"big\", \"big\", \"big\", \"big\", \"big\", \"big\", \"bipartisan\", \"bipartisan\", \"bipartisan\", \"bipartisan\", \"bipartisan\", \"bloomberg\", \"bolton\", \"bolton\", \"bolton\", \"book\", \"book\", \"book\", \"book\", \"book\", \"book\", \"book\", \"border\", \"border\", \"border\", \"border\", \"border\", \"border\", \"border\", \"border\", \"border\", \"boring\", \"boring\", \"boring\", \"boring\", \"brave\", \"brave\", \"brett\", \"brett\", \"business\", \"business\", \"business\", \"business\", \"business\", \"business\", \"business\", \"call\", \"call\", \"call\", \"call\", \"call\", \"camp\", \"campaign\", \"campaign\", \"campaign\", \"campaign\", \"campaign\", \"campaign\", \"campaign\", \"campaign\", \"campaign\", \"canada\", \"canada\", \"candidate\", \"candidate\", \"candidate\", \"candidate\", \"candidate\", \"candidate\", \"carolina\", \"carolina\", \"carolina\", \"carolina\", \"case\", \"case\", \"case\", \"case\", \"case\", \"case\", \"case\", \"case\", \"case\", \"champion\", \"champion\", \"chief\", \"chief\", \"chief\", \"chief\", \"china\", \"china\", \"china\", \"china\", \"china\", \"china\", \"china\", \"china\", \"china\", \"china\", \"chinese\", \"chinese\", \"chinese\", \"chinese\", \"chinese\", \"chuck\", \"chuck\", \"chuck\", \"chuck\", \"chuck\", \"city\", \"city\", \"city\", \"city\", \"city\", \"city\", \"city\", \"clapper\", \"clapper\", \"classified\", \"classified\", \"classified\", \"clinton\", \"clinton\", \"clinton\", \"cnn\", \"cnn\", \"coast\", \"collusion\", \"collusion\", \"collusion\", \"collusion\", \"collusion\", \"collusion\", \"collusion\", \"comey\", \"comey\", \"comey\", \"comey\", \"company\", \"company\", \"company\", \"company\", \"company\", \"company\", \"company\", \"company\", \"company\", \"complete\", \"complete\", \"complete\", \"complete\", \"complete\", \"complete\", \"complete\", \"complete\", \"condolence\", \"condolence\", \"condolence\", \"congratulation\", \"congratulation\", \"congratulation\", \"congratulation\", \"congratulation\", \"congratulation\", \"congratulation\", \"congratulation\", \"congress\", \"congress\", \"congress\", \"congress\", \"congress\", \"congress\", \"congress\", \"congress\", \"congress\", \"congress\", \"congressman\", \"congressman\", \"congressman\", \"congressman\", \"congressman\", \"congressman\", \"congressman\", \"congresswoman\", \"congresswoman\", \"congresswoman\", \"correct\", \"correct\", \"corrupt\", \"corrupt\", \"corrupt\", \"corrupt\", \"corrupt\", \"corrupt\", \"corrupt\", \"corrupt\", \"corrupt\", \"counsel\", \"counsel\", \"country\", \"country\", \"country\", \"country\", \"country\", \"country\", \"country\", \"country\", \"country\", \"country\", \"court\", \"court\", \"court\", \"court\", \"court\", \"court\", \"coverage\", \"crazy\", \"crazy\", \"crazy\", \"crazy\", \"crazy\", \"crazy\", \"crazy\", \"crazy\", \"credibility\", \"credibility\", \"credibility\", \"crime\", \"crime\", \"crime\", \"crime\", \"crime\", \"crime\", \"crime\", \"crime\", \"criminal\", \"criminal\", \"criminal\", \"criminal\", \"criminal\", \"crooked\", \"crooked\", \"crowd\", \"crowd\", \"crowd\", \"crowd\", \"cruz\", \"cruz\", \"cryin\", \"cryin\", \"cuomo\", \"cuomo\", \"current\", \"current\", \"current\", \"cut\", \"cuts\", \"cuts\", \"daca\", \"daca\", \"daca\", \"damage\", \"damage\", \"damage\", \"danger\", \"danger\", \"danger\", \"date\", \"date\", \"david\", \"david\", \"david\", \"day\", \"day\", \"day\", \"day\", \"day\", \"day\", \"day\", \"day\", \"day\", \"day\", \"deal\", \"deal\", \"deal\", \"deal\", \"deal\", \"deal\", \"deal\", \"deal\", \"debate\", \"debate\", \"debate\", \"debate\", \"democrat\", \"democrat\", \"democrat\", \"democrat\", \"democrat\", \"democrat\", \"democrat\", \"democrat\", \"democrat\", \"democrat\", \"democrats\", \"democrats\", \"democrats\", \"democrats\", \"democrats\", \"democrats\", \"democrats\", \"democrats\", \"democrats\", \"democrats\", \"dems\", \"dems\", \"dems\", \"dems\", \"dems\", \"dems\", \"dems\", \"dems\", \"dems\", \"dems\", \"department\", \"department\", \"director\", \"director\", \"director\", \"director\", \"dishonest\", \"dishonest\", \"dishonest\", \"dishonest\", \"dishonest\", \"document\", \"document\", \"document\", \"document\", \"dollar\", \"dollar\", \"dollar\", \"dollar\", \"dollar\", \"dollar\", \"dollar\", \"dollar\", \"dollar\", \"don\", \"don\", \"don\", \"don\", \"don\", \"donald\", \"donald\", \"donald\", \"donald\", \"donald\", \"donald\", \"donald\", \"donald\", \"dream\", \"dream\", \"dream\", \"drug\", \"drug\", \"drug\", \"drug\", \"drug\", \"drug\", \"east\", \"east\", \"eastern\", \"economy\", \"economy\", \"economy\", \"economy\", \"economy\", \"economy\", \"economy\", \"economy\", \"economy\", \"economy\", \"election\", \"election\", \"election\", \"election\", \"election\", \"election\", \"election\", \"election\", \"election\", \"election\", \"elizabeth\", \"endorsement\", \"endorsement\", \"endorsement\", \"endorsement\", \"enemy\", \"enemy\", \"enemy\", \"enemy\", \"enemy\", \"energy\", \"energy\", \"energy\", \"energy\", \"energy\", \"energy\", \"energy\", \"energy\", \"enthusiasm\", \"european\", \"evidence\", \"evidence\", \"evidence\", \"evidence\", \"face\", \"face\", \"face\", \"face\", \"face\", \"fact\", \"fact\", \"fact\", \"fact\", \"fact\", \"fact\", \"fact\", \"fact\", \"fact\", \"fact\", \"failing\", \"failing\", \"fairness\", \"faith\", \"faith\", \"fake\", \"fake\", \"fake\", \"fake\", \"fake\", \"fake\", \"fake\", \"fake\", \"fake\", \"fake\", \"false\", \"false\", \"false\", \"false\", \"family\", \"family\", \"family\", \"family\", \"family\", \"family\", \"family\", \"family\", \"family\", \"fbi\", \"fbi\", \"fbi\", \"fbi\", \"fbi\", \"fbi\", \"fed\", \"fed\", \"fed\", \"fed\", \"federal\", \"federal\", \"federal\", \"federal\", \"federal\", \"federal\", \"fighter\", \"fighter\", \"fighter\", \"fire\", \"fire\", \"florida\", \"florida\", \"florida\", \"florida\", \"florida\", \"florida\", \"florida\", \"florida\", \"florida\", \"florida\", \"flynn\", \"flynn\", \"foreign\", \"foreign\", \"foreign\", \"foreign\", \"foreign\", \"foreign\", \"fortune\", \"fortune\", \"fortune\", \"freedom\", \"freedom\", \"freedom\", \"future\", \"future\", \"future\", \"future\", \"future\", \"future\", \"future\", \"future\", \"future\", \"gang\", \"gang\", \"gang\", \"gang\", \"gang\", \"general\", \"general\", \"general\", \"general\", \"general\", \"general\", \"general\", \"germany\", \"good\", \"good\", \"good\", \"good\", \"good\", \"good\", \"good\", \"good\", \"good\", \"good\", \"government\", \"government\", \"government\", \"government\", \"government\", \"government\", \"government\", \"government\", \"governor\", \"governor\", \"governor\", \"governor\", \"governor\", \"governor\", \"governor\", \"great\", \"great\", \"great\", \"great\", \"great\", \"great\", \"great\", \"great\", \"great\", \"great\", \"guard\", \"guard\", \"guard\", \"guard\", \"guard\", \"gun\", \"gun\", \"gun\", \"hand\", \"hand\", \"hand\", \"hand\", \"hand\", \"hand\", \"hand\", \"hard\", \"hard\", \"hard\", \"hard\", \"hard\", \"hard\", \"hard\", \"hard\", \"hard\", \"hard\", \"hate\", \"hate\", \"hate\", \"hate\", \"hatred\", \"hatred\", \"hatred\", \"hatred\", \"hatred\", \"healthcare\", \"healthcare\", \"healthcare\", \"healthcare\", \"healthcare\", \"healthcare\", \"healthcare\", \"heart\", \"heart\", \"heart\", \"hero\", \"hero\", \"hero\", \"hero\", \"hero\", \"high\", \"high\", \"high\", \"high\", \"high\", \"high\", \"high\", \"high\", \"high\", \"hillary\", \"hillary\", \"hillary\", \"history\", \"history\", \"history\", \"history\", \"history\", \"history\", \"history\", \"history\", \"history\", \"history\", \"hoax\", \"hoax\", \"hoax\", \"hoax\", \"hoax\", \"hoax\", \"hoax\", \"hoax\", \"homeland\", \"homeland\", \"homeland\", \"honor\", \"honor\", \"honor\", \"honor\", \"honor\", \"honor\", \"house\", \"house\", \"house\", \"house\", \"house\", \"house\", \"house\", \"house\", \"house\", \"house\", \"https\", \"https\", \"https\", \"hundred\", \"hundred\", \"hunt\", \"hunt\", \"hunt\", \"hunt\", \"hunt\", \"hunt\", \"hunt\", \"illegal\", \"illegal\", \"illegal\", \"illegal\", \"illegal\", \"illegal\", \"illegal\", \"illegal\", \"illegal\", \"illegal\", \"immigrant\", \"immigrant\", \"immigration\", \"immigration\", \"immigration\", \"immigration\", \"immigration\", \"immigration\", \"immigration\", \"immigration\", \"immigration\", \"impeach\", \"impeach\", \"impeachment\", \"impeachment\", \"impeachment\", \"impeachment\", \"impeachment\", \"impeachment\", \"impeachment\", \"impeachment\", \"impeachment\", \"inaccurate\", \"incredible\", \"incredible\", \"incredible\", \"incredible\", \"incredible\", \"incredible\", \"incredible\", \"incredible\", \"incredible\", \"inflation\", \"inflation\", \"interest\", \"interest\", \"interest\", \"interest\", \"interest\", \"investigation\", \"investigation\", \"investigation\", \"investigation\", \"iowa\", \"iowa\", \"iowa\", \"iowa\", \"iowa\", \"iowa\", \"iowa\", \"iowa\", \"iran\", \"iran\", \"iran\", \"iran\", \"isis\", \"isis\", \"isis\", \"isis\", \"isis\", \"isis\", \"israel\", \"israel\", \"israel\", \"israel\", \"israel\", \"israel\", \"israel\", \"israel\", \"j.\", \"j.\", \"j.\", \"j.\", \"james\", \"james\", \"james\", \"japan\", \"japan\", \"japan\", \"jeff\", \"jeff\", \"jeff\", \"job\", \"job\", \"job\", \"job\", \"job\", \"job\", \"job\", \"job\", \"job\", \"job\", \"joe\", \"joe\", \"joe\", \"joe\", \"joe\", \"joe\", \"joe\", \"joe\", \"john\", \"john\", \"john\", \"john\", \"john\", \"john\", \"john\", \"john\", \"john\", \"john\", \"joint\", \"joke\", \"joke\", \"joke\", \"joke\", \"jong\", \"jong\", \"journal\", \"journal\", \"journal\", \"judge\", \"judge\", \"judge\", \"judge\", \"judge\", \"june\", \"june\", \"justice\", \"justice\", \"justice\", \"justice\", \"justice\", \"justice\", \"justice\", \"justice\", \"kag2020\", \"kag2020\", \"kag2020\", \"kavanaugh\", \"kavanaugh\", \"kavanaugh\", \"kelly\", \"kelly\", \"kelly\", \"kelly\", \"kelly\", \"kelly\", \"kim\", \"kim\", \"kim\", \"korea\", \"korea\", \"korea\", \"korea\", \"korean\", \"kurds\", \"kurds\", \"lamestream\", \"lamestream\", \"las\", \"law\", \"law\", \"law\", \"law\", \"law\", \"law\", \"law\", \"law\", \"lawyer\", \"lawyer\", \"lawyer\", \"lawyer\", \"lawyer\", \"left\", \"left\", \"left\", \"legal\", \"legal\", \"legal\", \"legislation\", \"legislation\", \"legislation\", \"legislation\", \"legislation\", \"legislation\", \"legislation\", \"liberal\", \"liberal\", \"liberal\", \"liberal\", \"liberal\", \"lie\", \"lie\", \"lie\", \"lie\", \"lie\", \"lie\", \"lie\", \"life\", \"life\", \"life\", \"life\", \"life\", \"life\", \"life\", \"life\", \"likewise\", \"likewise\", \"likewise\", \"lincoln\", \"live\", \"live\", \"live\", \"live\", \"long\", \"long\", \"long\", \"long\", \"long\", \"long\", \"long\", \"long\", \"long\", \"long\", \"loser\", \"loser\", \"loser\", \"loser\", \"loser\", \"loser\", \"loser\", \"loser\", \"louisiana\", \"louisiana\", \"louisiana\", \"louisiana\", \"low\", \"low\", \"low\", \"low\", \"low\", \"low\", \"low\", \"low\", \"low\", \"low\", \"luther\", \"luther\", \"luther\", \"luther\", \"maga\", \"maga\", \"maga\", \"maga\", \"maga\", \"maga\", \"maga\", \"maga\", \"maga\", \"maga\", \"maine\", \"mainstream\", \"majority\", \"majority\", \"majority\", \"majority\", \"makeamericagreatagain\", \"makeamericagreatagain\", \"makeamericagreatagain\", \"man\", \"man\", \"man\", \"man\", \"man\", \"man\", \"man\", \"man\", \"man\", \"man\", \"market\", \"market\", \"massive\", \"massive\", \"massive\", \"massive\", \"massive\", \"massive\", \"massive\", \"massive\", \"massive\", \"massive\", \"matt\", \"matt\", \"matt\", \"matt\", \"mccabe\", \"mcconnell\", \"mcconnell\", \"medal\", \"media\", \"media\", \"media\", \"media\", \"medium\", \"medium\", \"medium\", \"medium\", \"medium\", \"medium\", \"medium\", \"meeting\", \"meeting\", \"meeting\", \"meeting\", \"meeting\", \"meeting\", \"meeting\", \"meeting\", \"melania\", \"melania\", \"melania\", \"melania\", \"mexico\", \"mexico\", \"mexico\", \"mexico\", \"mexico\", \"mexico\", \"mexico\", \"middle\", \"mike\", \"mike\", \"mike\", \"mike\", \"military\", \"military\", \"military\", \"military\", \"military\", \"military\", \"military\", \"military\", \"military\", \"military\", \"mini\", \"minister\", \"minister\", \"minnesota\", \"minnesota\", \"minnesota\", \"minnesota\", \"minnesota\", \"minnesota\", \"minnesota\", \"missile\", \"missile\", \"mississippi\", \"missouri\", \"missouri\", \"missouri\", \"missouri\", \"mitch\", \"mitch\", \"mitch\", \"money\", \"money\", \"money\", \"money\", \"money\", \"money\", \"money\", \"money\", \"money\", \"money\", \"morning\", \"morning\", \"morning\", \"morning\", \"morning\", \"morning\", \"morning\", \"mueller\", \"mueller\", \"mueller\", \"mueller\", \"mueller\", \"mueller\", \"mueller\", \"nancy\", \"nancy\", \"nancy\", \"nancy\", \"nancy\", \"nancy\", \"nancy\", \"nasty\", \"nasty\", \"nasty\", \"nation\", \"nation\", \"nation\", \"nation\", \"nation\", \"nation\", \"nation\", \"nation\", \"nation\", \"nation\", \"national\", \"national\", \"national\", \"national\", \"national\", \"national\", \"national\", \"national\", \"national\", \"nations\", \"nations\", \"nations\", \"nations\", \"nato\", \"nato\", \"nato\", \"nbc\", \"nbc\", \"need\", \"need\", \"need\", \"new\", \"new\", \"new\", \"new\", \"new\", \"new\", \"new\", \"new\", \"new\", \"new\", \"news\", \"news\", \"news\", \"news\", \"news\", \"news\", \"news\", \"news\", \"news\", \"news\", \"nfl\", \"nfl\", \"night\", \"night\", \"night\", \"night\", \"night\", \"night\", \"night\", \"night\", \"night\", \"nominee\", \"nominee\", \"north\", \"north\", \"north\", \"north\", \"north\", \"nuclear\", \"nuclear\", \"obama\", \"obama\", \"obama\", \"obama\", \"obama\", \"obama\", \"obstruction\", \"obstruction\", \"obstruction\", \"obstruction\", \"obstruction\", \"office\", \"office\", \"office\", \"office\", \"office\", \"office\", \"office\", \"office\", \"office\", \"official\", \"official\", \"official\", \"oil\", \"oil\", \"opinion\", \"opinion\", \"opinion\", \"opposite\", \"opposite\", \"opposite\", \"opposite\", \"overtime\", \"overtime\", \"overtime\", \"overtime\", \"p.m.\", \"p.m.\", \"p.m.\", \"part\", \"part\", \"part\", \"part\", \"party\", \"party\", \"party\", \"party\", \"party\", \"party\", \"party\", \"party\", \"party\", \"patriot\", \"patriot\", \"patrol\", \"patrol\", \"payment\", \"payment\", \"payment\", \"pelosi\", \"pelosi\", \"pelosi\", \"pelosi\", \"pelosi\", \"pelosi\", \"pelosi\", \"pelosi\", \"pence\", \"pence\", \"pence\", \"pence\", \"pennsylvania\", \"pennsylvania\", \"pennsylvania\", \"pennsylvania\", \"pennsylvania\", \"pennsylvania\", \"pennsylvania\", \"people\", \"people\", \"people\", \"people\", \"people\", \"people\", \"people\", \"people\", \"people\", \"people\", \"performance\", \"phone\", \"phone\", \"phone\", \"phone\", \"phone\", \"phone\", \"phone\", \"phony\", \"phony\", \"phony\", \"phony\", \"phony\", \"phony\", \"phony\", \"phony\", \"plant\", \"plant\", \"player\", \"player\", \"pocahontas\", \"pocahontas\", \"pocahontas\", \"pocahontas\", \"podesta\", \"podesta\", \"politically\", \"politically\", \"politician\", \"politician\", \"politician\", \"politician\", \"politician\", \"politician\", \"poll\", \"poll\", \"poll\", \"poll\", \"poll\", \"poll\", \"poll\", \"poll\", \"portland\", \"portland\", \"post\", \"post\", \"post\", \"post\", \"post\", \"prayer\", \"prayer\", \"prayer\", \"prayer\", \"premium\", \"premium\", \"premium\", \"premium\", \"president\", \"president\", \"president\", \"president\", \"president\", \"president\", \"president\", \"president\", \"president\", \"president\", \"presidential\", \"presidential\", \"presidential\", \"presidential\", \"presidential\", \"previous\", \"previous\", \"price\", \"price\", \"price\", \"price\", \"price\", \"primary\", \"primary\", \"primary\", \"primary\", \"primary\", \"primary\", \"primary\", \"prime\", \"prime\", \"prior\", \"prior\", \"prior\", \"prior\", \"prison\", \"prison\", \"prison\", \"private\", \"pro\", \"pro\", \"probe\", \"product\", \"product\", \"product\", \"productive\", \"productive\", \"progress\", \"progress\", \"progress\", \"puerto\", \"puerto\", \"puerto\", \"puerto\", \"quantitative\", \"quickly\", \"quickly\", \"quickly\", \"quickly\", \"quickly\", \"quickly\", \"quickly\", \"radical\", \"radical\", \"radical\", \"radical\", \"rally\", \"rally\", \"rally\", \"rally\", \"rally\", \"rally\", \"rate\", \"rate\", \"rate\", \"rating\", \"rating\", \"reagan\", \"real\", \"real\", \"real\", \"real\", \"real\", \"real\", \"real\", \"real\", \"real\", \"record\", \"record\", \"record\", \"record\", \"record\", \"record\", \"record\", \"record\", \"record\", \"record\", \"relationship\", \"relationship\", \"relationship\", \"relationship\", \"relationship\", \"relationship\", \"rep.\", \"rep.\", \"rep.\", \"rep.\", \"repeal\", \"repeal\", \"replace\", \"replace\", \"report\", \"report\", \"report\", \"report\", \"report\", \"report\", \"report\", \"report\", \"reporter\", \"reporter\", \"reporter\", \"reporter\", \"reporting\", \"reporting\", \"reporting\", \"republican\", \"republican\", \"republican\", \"republican\", \"republican\", \"republican\", \"republican\", \"republican\", \"republican\", \"republican\", \"republicans\", \"republicans\", \"republicans\", \"republicans\", \"republicans\", \"republicans\", \"republicans\", \"reserve\", \"reserve\", \"response\", \"rick\", \"rick\", \"rico\", \"rico\", \"rico\", \"rigged\", \"rigged\", \"rigged\", \"right\", \"right\", \"right\", \"right\", \"right\", \"right\", \"right\", \"right\", \"right\", \"right\", \"ronald\", \"rule\", \"rule\", \"rule\", \"rule\", \"russia\", \"russia\", \"russia\", \"russia\", \"russia\", \"russia\", \"russia\", \"russia\", \"sanction\", \"sanders\", \"sanders\", \"sanders\", \"saudi\", \"schiff\", \"schiff\", \"schiff\", \"schiff\", \"schiff\", \"schiff\", \"schiff\", \"schumer\", \"schumer\", \"schumer\", \"schumer\", \"scott\", \"scott\", \"second\", \"second\", \"second\", \"second\", \"second\", \"security\", \"security\", \"security\", \"security\", \"security\", \"security\", \"security\", \"security\", \"senate\", \"senate\", \"senate\", \"senate\", \"senate\", \"senate\", \"senate\", \"senate\", \"senate\", \"senate\", \"senators\", \"senators\", \"senators\", \"senators\", \"server\", \"sessions\", \"shooting\", \"shooting\", \"simple\", \"simple\", \"simple\", \"simple\", \"sleepy\", \"sleepy\", \"sleepy\", \"smart\", \"smart\", \"smart\", \"smart\", \"smart\", \"smart\", \"smart\", \"smart\", \"source\", \"source\", \"source\", \"southern\", \"southern\", \"southern\", \"southern\", \"southern\", \"staff\", \"staff\", \"staff\", \"staff\", \"standard\", \"standard\", \"state\", \"state\", \"state\", \"state\", \"state\", \"state\", \"state\", \"state\", \"state\", \"state\", \"states\", \"states\", \"states\", \"states\", \"states\", \"states\", \"states\", \"steve\", \"steve\", \"steve\", \"steve\", \"stock\", \"stock\", \"stone\", \"story\", \"story\", \"story\", \"story\", \"story\", \"story\", \"story\", \"story\", \"story\", \"strange\", \"strange\", \"street\", \"street\", \"street\", \"street\", \"street\", \"street\", \"strong\", \"strong\", \"strong\", \"strong\", \"strong\", \"strong\", \"strong\", \"strong\", \"strong\", \"strong\", \"student\", \"student\", \"student\", \"support\", \"support\", \"support\", \"support\", \"support\", \"support\", \"support\", \"support\", \"support\", \"support\", \"supreme\", \"supreme\", \"supreme\", \"supreme\", \"syria\", \"syria\", \"syria\", \"syria\", \"talent\", \"tariff\", \"tariff\", \"tariff\", \"tariff\", \"tariffs\", \"tariffs\", \"tariffs\", \"tariffs\", \"tariffs\", \"tax\", \"tax\", \"tax\", \"tax\", \"taxis\", \"taxis\", \"taxis\", \"taxis\", \"taxis\", \"taxis\", \"taxis\", \"taxis\", \"team\", \"team\", \"team\", \"team\", \"team\", \"team\", \"team\", \"team\", \"ted\", \"ted\", \"testimony\", \"testimony\", \"testimony\", \"testing\", \"testing\", \"testing\", \"testing\", \"texas\", \"texas\", \"thing\", \"thing\", \"thing\", \"thing\", \"thing\", \"thing\", \"thing\", \"thing\", \"thing\", \"thing\", \"thought\", \"thought\", \"thought\", \"thought\", \"thought\", \"thought\", \"thought\", \"threat\", \"threat\", \"threat\", \"time\", \"time\", \"time\", \"time\", \"time\", \"time\", \"time\", \"time\", \"time\", \"time\", \"times\", \"times\", \"today\", \"today\", \"today\", \"today\", \"today\", \"today\", \"today\", \"today\", \"today\", \"tomorrow\", \"tomorrow\", \"tomorrow\", \"tomorrow\", \"tomorrow\", \"tomorrow\", \"tomorrow\", \"tonight\", \"tonight\", \"tonight\", \"tonight\", \"total\", \"total\", \"total\", \"total\", \"total\", \"total\", \"total\", \"total\", \"total\", \"total\", \"totally\", \"totally\", \"totally\", \"totally\", \"totally\", \"totally\", \"totally\", \"totally\", \"totally\", \"totally\", \"trade\", \"trade\", \"trade\", \"trade\", \"trade\", \"trade\", \"trade\", \"troop\", \"troop\", \"trump\", \"trump\", \"trump\", \"trump\", \"trump\", \"trump\", \"trump\", \"trump\", \"trump\", \"trump\", \"trump2016\", \"trump2016\", \"trump2016\", \"trump2016\", \"trump2016\", \"turkey\", \"turkey\", \"turkey\", \"turkey\", \"twitter\", \"twitter\", \"twitter\", \"twitter\", \"u.s.\", \"u.s.\", \"u.s.\", \"u.s.\", \"u.s.\", \"u.s.\", \"u.s.\", \"u.s.\", \"u.s.\", \"u.s.\", \"ukraine\", \"ukraine\", \"ukraine\", \"ukraine\", \"ukraine\", \"ukraine\", \"ukrainian\", \"ukrainian\", \"ukrainian\", \"ukrainian\", \"un\", \"un\", \"union\", \"union\", \"union\", \"union\", \"united\", \"united\", \"united\", \"united\", \"united\", \"united\", \"united\", \"usa\", \"usa\", \"usa\", \"usa\", \"usa\", \"usa\", \"usa\", \"usa\", \"usa\", \"usa\", \"vegas\", \"vet\", \"veteran\", \"veteran\", \"veteran\", \"veterans\", \"veterans\", \"vets\", \"vicious\", \"vicious\", \"vicious\", \"vicious\", \"victim\", \"victim\", \"victim\", \"vietnam\", \"vietnam\", \"violence\", \"violence\", \"violence\", \"violence\", \"virginia\", \"virginia\", \"virginia\", \"virginia\", \"virginia\", \"virus\", \"virus\", \"virus\", \"virus\", \"virus\", \"vote\", \"vote\", \"vote\", \"vote\", \"vote\", \"vote\", \"vote\", \"vote\", \"vote\", \"vote\", \"votetrump\", \"wall\", \"wall\", \"wall\", \"wall\", \"wall\", \"wall\", \"wall\", \"wall\", \"wall\", \"war\", \"war\", \"war\", \"war\", \"war\", \"war\", \"war\", \"warren\", \"washington\", \"washington\", \"washington\", \"washington\", \"washington\", \"washington\", \"washington\", \"washington\", \"washington\", \"washington\", \"way\", \"way\", \"way\", \"way\", \"way\", \"way\", \"way\", \"way\", \"way\", \"way\", \"weapon\", \"weapon\", \"weapon\", \"white\", \"white\", \"white\", \"white\", \"white\", \"white\", \"white\", \"white\", \"white\", \"win\", \"win\", \"win\", \"win\", \"win\", \"win\", \"win\", \"wisconsin\", \"wisconsin\", \"wisconsin\", \"wisconsin\", \"witch\", \"witch\", \"witch\", \"witch\", \"witch\", \"witch\", \"witch\", \"witch\", \"woman\", \"woman\", \"woman\", \"woman\", \"woman\", \"woman\", \"woman\", \"wonderful\", \"wonderful\", \"wonderful\", \"wonderful\", \"wonderful\", \"wonderful\", \"wonderful\", \"wonderful\", \"wonderful\", \"world\", \"world\", \"world\", \"world\", \"world\", \"world\", \"world\", \"world\", \"world\", \"world\", \"worth\", \"worth\", \"xi\", \"xi\", \"year\", \"year\", \"year\", \"year\", \"year\", \"year\", \"year\", \"year\", \"year\", \"year\", \"york\", \"york\", \"york\", \"york\", \"york\", \"york\", \"young\", \"young\", \"\\ud83c\\uddf8\", \"\\ud83c\\uddf8\", \"\\ud83c\\uddf8\", \"\\ud83c\\uddf8\"]}, \"R\": 30, \"lambda.step\": 0.01, \"plot.opts\": {\"xlab\": \"PC1\", \"ylab\": \"PC2\"}, \"topic.order\": [6, 1, 8, 5, 9, 10, 3, 7, 2, 4]};\n",
       "\n",
       "function LDAvis_load_lib(url, callback){\n",
       "  var s = document.createElement('script');\n",
       "  s.src = url;\n",
       "  s.async = true;\n",
       "  s.onreadystatechange = s.onload = callback;\n",
       "  s.onerror = function(){console.warn(\"failed to load library \" + url);};\n",
       "  document.getElementsByTagName(\"head\")[0].appendChild(s);\n",
       "}\n",
       "\n",
       "if(typeof(LDAvis) !== \"undefined\"){\n",
       "   // already loaded: just create the visualization\n",
       "   !function(LDAvis){\n",
       "       new LDAvis(\"#\" + \"ldavis_el2854017695593088806613979657\", ldavis_el2854017695593088806613979657_data);\n",
       "   }(LDAvis);\n",
       "}else if(typeof define === \"function\" && define.amd){\n",
       "   // require.js is available: use it to load d3/LDAvis\n",
       "   require.config({paths: {d3: \"https://cdnjs.cloudflare.com/ajax/libs/d3/3.5.5/d3.min\"}});\n",
       "   require([\"d3\"], function(d3){\n",
       "      window.d3 = d3;\n",
       "      LDAvis_load_lib(\"https://cdn.rawgit.com/bmabey/pyLDAvis/files/ldavis.v1.0.0.js\", function(){\n",
       "        new LDAvis(\"#\" + \"ldavis_el2854017695593088806613979657\", ldavis_el2854017695593088806613979657_data);\n",
       "      });\n",
       "    });\n",
       "}else{\n",
       "    // require.js not available: dynamically load d3 & LDAvis\n",
       "    LDAvis_load_lib(\"https://cdnjs.cloudflare.com/ajax/libs/d3/3.5.5/d3.min.js\", function(){\n",
       "         LDAvis_load_lib(\"https://cdn.rawgit.com/bmabey/pyLDAvis/files/ldavis.v1.0.0.js\", function(){\n",
       "                 new LDAvis(\"#\" + \"ldavis_el2854017695593088806613979657\", ldavis_el2854017695593088806613979657_data);\n",
       "            })\n",
       "         });\n",
       "}\n",
       "</script>"
      ],
      "text/plain": [
       "<IPython.core.display.HTML object>"
      ]
     },
     "execution_count": 43,
     "metadata": {},
     "output_type": "execute_result"
    }
   ],
   "source": [
    "# Let's Visualize\n",
    "pyLDAvis.display(lda_display)"
   ]
  }
 ],
 "metadata": {
  "colab": {
   "name": "ALL_portfolio-assignments.ipynb",
   "provenance": []
  },
  "kernelspec": {
   "display_name": "Python 3",
   "language": "python",
   "name": "python3"
  },
  "language_info": {
   "codemirror_mode": {
    "name": "ipython",
    "version": 3
   },
   "file_extension": ".py",
   "mimetype": "text/x-python",
   "name": "python",
   "nbconvert_exporter": "python",
   "pygments_lexer": "ipython3",
   "version": "3.8.5"
  }
 },
 "nbformat": 4,
 "nbformat_minor": 1
}
